{
 "cells": [
  {
   "cell_type": "code",
   "execution_count": 1,
   "id": "5745c236-b412-4b01-bda2-62ce02ceeb8e",
   "metadata": {},
   "outputs": [
    {
     "name": "stdout",
     "output_type": "stream",
     "text": [
      "Symbolic pkg v3.1.1: Python communication link active, SymPy v1.9.\n"
     ]
    }
   ],
   "source": [
    "pkg load symbolic\n",
    "Vcc = 13.2;  % unregulated --> +10%\n",
    "syms sVl sVh sR25 sR26 sR29 sR30"
   ]
  },
  {
   "cell_type": "code",
   "execution_count": 2,
   "id": "06f8f29f-38c2-46e1-8f44-d43601188bff",
   "metadata": {},
   "outputs": [
    {
     "name": "stdout",
     "output_type": "stream",
     "text": [
      "warning: passing floating-point values to sym is dangerous, see \"help sym\"\n",
      "warning: called from\n",
      "    double_to_sym_heuristic at line 50 column 7\n",
      "    sym at line 379 column 13\n",
      "    rdivide at line 105 column 5\n",
      "    ldivide at line 56 column 5\n",
      "    mldivide at line 95 column 7\n",
      "    mrdivide at line 72 column 5\n",
      "\n",
      "eqn1 = (sym)\n",
      "\n",
      "                   66⋅sR₂₆           \n",
      "  sVh = ─────────────────────────────\n",
      "          ⎛sR₂₅⋅(sR₂₉ + sR₃₀)       ⎞\n",
      "        5⋅⎜────────────────── + sR₂₆⎟\n",
      "          ⎝sR₂₅ + sR₂₉ + sR₃₀       ⎠\n",
      "\n"
     ]
    }
   ],
   "source": [
    "eqn1 = sVh == Vcc / ((sR29+sR30)*sR25 / (sR29+sR30+sR25) + sR26) * sR26"
   ]
  },
  {
   "cell_type": "code",
   "execution_count": 3,
   "id": "cdb4f94a-2f90-4fa6-a6e2-3bb07aa64458",
   "metadata": {},
   "outputs": [
    {
     "name": "stdout",
     "output_type": "stream",
     "text": [
      "warning: passing floating-point values to sym is dangerous, see \"help sym\"\n",
      "warning: called from\n",
      "    double_to_sym_heuristic at line 50 column 7\n",
      "    sym at line 379 column 13\n",
      "    rdivide at line 105 column 5\n",
      "    ldivide at line 56 column 5\n",
      "    mldivide at line 95 column 7\n",
      "    mrdivide at line 72 column 5\n",
      "\n",
      "eqn2 = (sym)\n",
      "\n",
      "                    66⋅sR₂₆⋅sR₂₉            \n",
      "  sVl = ────────────────────────────────────\n",
      "          ⎛        sR₂₆⋅sR₂₉ ⎞              \n",
      "        5⋅⎜sR₂₅ + ───────────⎟⋅(sR₂₆ + sR₂₉)\n",
      "          ⎝       sR₂₆ + sR₂₉⎠              \n",
      "\n"
     ]
    }
   ],
   "source": [
    "eqn2 = sVl == Vcc / (sR25 + sR26*sR29/(sR26+sR29) ) * (sR26*sR29/(sR26+sR29))"
   ]
  },
  {
   "cell_type": "code",
   "execution_count": 4,
   "id": "57aa9f40-9976-483b-b737-4b7092a2f9ff",
   "metadata": {},
   "outputs": [
    {
     "name": "stdout",
     "output_type": "stream",
     "text": [
      "/usr/lib/python3/dist-packages/sympy/matrices/repmatrix.py:103: SymPyDeprecationWarning: \n",
      "\n",
      "non-Expr objects in a Matrix has been deprecated since SymPy 1.9. Use\n",
      "list of lists, TableForm or some other data structure instead. See\n",
      "https://github.com/sympy/sympy/issues/21497 for more info.\n",
      "\n",
      "  ).warn()\n",
      "tmp = (sym 1×2 matrix)\n",
      "\n",
      "  ⎡      1412796        1452⎤\n",
      "  ⎢sVh = ───────  sVl = ────⎥\n",
      "  ⎣       225235        455 ⎦\n",
      "\n"
     ]
    }
   ],
   "source": [
    "tmp = subs([eqn1 eqn2], [sR25 sR26 sR29 sR30], [47e3 22e3 47e3 3.3e3])"
   ]
  },
  {
   "cell_type": "code",
   "execution_count": 5,
   "id": "b4fd1abe-cbd1-4537-81ab-101047f1036b",
   "metadata": {},
   "outputs": [
    {
     "name": "stdout",
     "output_type": "stream",
     "text": [
      "ans =\n",
      "\n",
      "   6.2725   3.1912\n",
      "\n"
     ]
    }
   ],
   "source": [
    "double(rhs(tmp))"
   ]
  },
  {
   "cell_type": "code",
   "execution_count": 6,
   "id": "97f9e848-7566-42b3-9b40-8e4f3e608784",
   "metadata": {},
   "outputs": [
    {
     "name": "stdout",
     "output_type": "stream",
     "text": [
      "warning: passing floating-point values to sym is dangerous, see \"help sym\"\n",
      "warning: called from\n",
      "    double_to_sym_heuristic at line 50 column 7\n",
      "    sym at line 379 column 13\n",
      "    numeric_array_to_sym at line 36 column 16\n",
      "    sym at line 359 column 7\n",
      "    subs at line 226 column 9\n",
      "\n",
      "warning: passing floating-point values to sym is dangerous, see \"help sym\"\n",
      "warning: called from\n",
      "    double_to_sym_heuristic at line 50 column 7\n",
      "    sym at line 379 column 13\n",
      "    numeric_array_to_sym at line 36 column 16\n",
      "    sym at line 359 column 7\n",
      "    subs at line 226 column 9\n",
      "\n"
     ]
    }
   ],
   "source": [
    "Vh = 4.09;\n",
    "Vl = 2.56;\n",
    "sln = solve(subs([eqn1 eqn2], [sVh sVl sR30 sR29], [Vh Vl 3.3e3 100e3]));"
   ]
  },
  {
   "cell_type": "code",
   "execution_count": 7,
   "id": "eea6fd12-ef80-4bf9-9288-f2d05d1d52b4",
   "metadata": {},
   "outputs": [
    {
     "name": "stdout",
     "output_type": "stream",
     "text": [
      "ans = 6.1113e+04\n"
     ]
    }
   ],
   "source": [
    "double(sln.sR25)"
   ]
  },
  {
   "cell_type": "code",
   "execution_count": 8,
   "id": "c709b6bf-f7a1-4d54-8fef-dc3c75e08932",
   "metadata": {},
   "outputs": [
    {
     "name": "stdout",
     "output_type": "stream",
     "text": [
      "ans = 1.7239e+04\n"
     ]
    }
   ],
   "source": [
    "double(sln.sR26)"
   ]
  },
  {
   "cell_type": "code",
   "execution_count": null,
   "id": "fecf9d39-58b7-4d4c-b8b7-575635b16113",
   "metadata": {},
   "outputs": [],
   "source": []
  }
 ],
 "metadata": {
  "kernelspec": {
   "display_name": "Octave",
   "language": "octave",
   "name": "octave"
  },
  "language_info": {
   "file_extension": ".m",
   "help_links": [
    {
     "text": "GNU Octave",
     "url": "https://www.gnu.org/software/octave/support.html"
    },
    {
     "text": "Octave Kernel",
     "url": "https://github.com/Calysto/octave_kernel"
    },
    {
     "text": "MetaKernel Magics",
     "url": "https://metakernel.readthedocs.io/en/latest/source/README.html"
    }
   ],
   "mimetype": "text/x-octave",
   "name": "octave",
   "version": "6.4.0"
  }
 },
 "nbformat": 4,
 "nbformat_minor": 5
}
