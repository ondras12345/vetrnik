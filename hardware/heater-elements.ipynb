{
 "cells": [
  {
   "cell_type": "markdown",
   "id": "871bf348-9fb8-4c5a-8546-58c73fa31e56",
   "metadata": {},
   "source": [
    "# Vetrnik patrony"
   ]
  },
  {
   "cell_type": "code",
   "execution_count": 2,
   "id": "67277a1a-10c1-4d9b-a7a7-7dce953bf558",
   "metadata": {},
   "outputs": [
    {
     "data": {
      "text/plain": [
       "1.9325"
      ]
     },
     "execution_count": 2,
     "metadata": {},
     "output_type": "execute_result"
    }
   ],
   "source": [
    "# mereni 2023-12-23 na jedne smycce jedne patrony\n",
    "U_meas = 7.73  # volt\n",
    "I_meas = 4  # amp\n",
    "R_smycka = U_meas / I_meas\n",
    "R_smycka  # ohm"
   ]
  },
  {
   "cell_type": "code",
   "execution_count": 5,
   "id": "4061da93-8603-429e-afee-05f17b081d2a",
   "metadata": {},
   "outputs": [
    {
     "data": {
      "text/plain": [
       "(1192.2380336351875, 298.0595084087969)"
      ]
     },
     "execution_count": 5,
     "metadata": {},
     "output_type": "execute_result"
    }
   ],
   "source": [
    "48**2 / R_smycka, \\\n",
    "24**2 / R_smycka"
   ]
  },
  {
   "cell_type": "markdown",
   "id": "431363a7-8971-4112-a3bf-748ea1afbf9b",
   "metadata": {},
   "source": [
    "Tj. smyčky jsou pro 24V provoz."
   ]
  },
  {
   "cell_type": "markdown",
   "id": "140f8f46-24fc-4bda-bf10-d7c6ebaa664e",
   "metadata": {},
   "source": [
    "Teď tam máme navěšeno:"
   ]
  },
  {
   "cell_type": "code",
   "execution_count": 9,
   "id": "3d400c15-9d85-4ef0-8306-afca3716801a",
   "metadata": {},
   "outputs": [
    {
     "data": {
      "text/plain": [
       "0.483125"
      ]
     },
     "execution_count": 9,
     "metadata": {},
     "output_type": "execute_result"
    }
   ],
   "source": [
    "R_old = R_smycka / 4\n",
    "R_old"
   ]
  },
  {
   "cell_type": "code",
   "execution_count": 12,
   "id": "c75a6a66-3dd1-4a0b-be75-8039bb1d2c77",
   "metadata": {},
   "outputs": [
    {
     "data": {
      "text/plain": [
       "(99.35316946959895, 4768.95213454075)"
      ]
     },
     "execution_count": 12,
     "metadata": {},
     "output_type": "execute_result"
    }
   ],
   "source": [
    "U = 48\n",
    "I_old = U / R_old\n",
    "P_old = U * I_old\n",
    "I_old, P_old"
   ]
  },
  {
   "cell_type": "code",
   "execution_count": 16,
   "id": "4b478567-79b0-4343-af69-88af55f3f85c",
   "metadata": {},
   "outputs": [
    {
     "data": {
      "text/plain": [
       "(1.9325, 24.83829236739974, 1192.2380336351875)"
      ]
     },
     "execution_count": 16,
     "metadata": {},
     "output_type": "execute_result"
    }
   ],
   "source": [
    "# (2 v serii) * 2 paralelne\n",
    "R_new = (2*R_smycka) / 2\n",
    "I_new = U / R_new\n",
    "P_new = U * I_new\n",
    "R_new, I_new, P_new"
   ]
  },
  {
   "cell_type": "markdown",
   "id": "49a372b9-40d3-409b-8dd8-70b0d6851ba4",
   "metadata": {},
   "source": [
    "Kdybychom chteli zapojit obe patrony:"
   ]
  },
  {
   "cell_type": "code",
   "execution_count": 18,
   "id": "96ee072c-f76e-49ef-98ea-4f074777223b",
   "metadata": {},
   "outputs": [
    {
     "data": {
      "text/plain": [
       "(0.96625, 49.67658473479948, 2384.476067270375)"
      ]
     },
     "execution_count": 18,
     "metadata": {},
     "output_type": "execute_result"
    }
   ],
   "source": [
    "R_both = (2*R_smycka) / 4\n",
    "I_both = U / R_both\n",
    "P_both = U * I_both\n",
    "R_both, I_both, P_both"
   ]
  },
  {
   "cell_type": "markdown",
   "id": "c515711f-a9ed-43c3-ae5d-8ed6586cdbed",
   "metadata": {},
   "source": [
    "To je asi OK, druha patrona by se pripojila paralelne a meli bychom 50A @ 48V."
   ]
  },
  {
   "cell_type": "code",
   "execution_count": 19,
   "id": "350a3740-9a21-4bfc-be2f-5427327e82aa",
   "metadata": {},
   "outputs": [
    {
     "data": {
      "text/plain": [
       "19.325000000000003"
      ]
     },
     "execution_count": 19,
     "metadata": {},
     "output_type": "execute_result"
    }
   ],
   "source": [
    "10 * R_new"
   ]
  },
  {
   "cell_type": "code",
   "execution_count": 20,
   "id": "b256faf1-71e5-40f9-9127-ac7e7e0024a1",
   "metadata": {},
   "outputs": [
    {
     "data": {
      "text/plain": [
       "5.174644243208279"
      ]
     },
     "execution_count": 20,
     "metadata": {},
     "output_type": "execute_result"
    }
   ],
   "source": [
    "10 / R_new"
   ]
  },
  {
   "cell_type": "markdown",
   "id": "5250f666-ffc9-433b-a0e1-42f636620271",
   "metadata": {},
   "source": [
    "Jeste novejsi verze: 2023-12-23 17:15"
   ]
  },
  {
   "cell_type": "code",
   "execution_count": 21,
   "id": "98d1a062-50ab-486c-8f47-95f9e60b6ac9",
   "metadata": {},
   "outputs": [
    {
     "data": {
      "text/plain": [
       "(2.89875, 16.558861578266495, 794.8253557567917)"
      ]
     },
     "execution_count": 21,
     "metadata": {},
     "output_type": "execute_result"
    }
   ],
   "source": [
    "R_new = (3 * R_smycka) / 2\n",
    "I_new = U / R_new\n",
    "P_new = U * I_new\n",
    "R_new, I_new, P_new"
   ]
  },
  {
   "cell_type": "code",
   "execution_count": null,
   "id": "f67814fc-5d41-4509-9584-2a2873533997",
   "metadata": {},
   "outputs": [],
   "source": []
  }
 ],
 "metadata": {
  "kernelspec": {
   "display_name": "Python 3 (ipykernel)",
   "language": "python",
   "name": "python3"
  },
  "language_info": {
   "codemirror_mode": {
    "name": "ipython",
    "version": 3
   },
   "file_extension": ".py",
   "mimetype": "text/x-python",
   "name": "python",
   "nbconvert_exporter": "python",
   "pygments_lexer": "ipython3",
   "version": "3.10.12"
  }
 },
 "nbformat": 4,
 "nbformat_minor": 5
}
