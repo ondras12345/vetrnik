{
 "cells": [
  {
   "cell_type": "code",
   "execution_count": 1,
   "id": "2911a4f0-6d27-4a82-ade0-1345f47b890b",
   "metadata": {},
   "outputs": [],
   "source": [
    "import time\n",
    "import pandas as pd\n",
    "import numpy as np\n",
    "import tqdm\n",
    "import datetime\n",
    "from vetrnik import *\n",
    "import fygen.fygen as fygen\n",
    "from pathlib import Path"
   ]
  },
  {
   "cell_type": "code",
   "execution_count": 2,
   "id": "29528f77-baf1-445b-be23-d556ab71fe0b",
   "metadata": {},
   "outputs": [],
   "source": [
    "EXPERIMENT_DIR = Path(\"experiments/vetrnik-RPM\")\n",
    "EXPERIMENT_DIR.mkdir(parents=True, exist_ok=True)"
   ]
  },
  {
   "cell_type": "code",
   "execution_count": 3,
   "id": "a993f6fa-c433-4a14-91d8-902477fff5d5",
   "metadata": {},
   "outputs": [],
   "source": [
    "log = vetrnik_log_start(EXPERIMENT_DIR / \"MQTT.log\")"
   ]
  },
  {
   "cell_type": "code",
   "execution_count": 4,
   "id": "a9bbcddf-9174-4d12-bfac-a8215dca6f4d",
   "metadata": {},
   "outputs": [
    {
     "name": "stdout",
     "output_type": "stream",
     "text": [
      "UMO -> FY6900H-100M\n"
     ]
    }
   ],
   "source": [
    "fy = fygen.FYGen('/dev/ttyUSB-fy6900', debug_level=1)"
   ]
  },
  {
   "cell_type": "code",
   "execution_count": 5,
   "id": "2e38594b-2ab1-412c-8972-b06ed5145156",
   "metadata": {},
   "outputs": [
    {
     "name": "stdout",
     "output_type": "stream",
     "text": [
      "RMN -> 255\n",
      "RMW -> 0\n",
      "RMF -> 00000010.000000\n",
      "RMF -> 00000010.000000\n",
      "RMA -> 45000\n",
      "RMO -> 0\n",
      "RMP -> 0\n",
      "RMD -> 50000\n",
      "WMN0 -> \n",
      "WMF00010000000000 -> \n",
      "WMF00000000000010 -> \n",
      "WMA1.00 -> \n",
      "RMN -> 0\n",
      "RMF -> 00000010.000000\n",
      "RMF -> 00000010.000000\n",
      "RMA -> 10000\n",
      "WMF00010000000000 -> \n",
      "WMF00000000000010 -> \n",
      "RMF -> 00000010.000000\n",
      "RMF -> 00000010.000000\n",
      "WMF00010000000000 -> \n",
      "WMF00000000000010 -> \n",
      "RMN -> 0\n",
      "WMN1 -> \n",
      "RMN -> 255\n"
     ]
    }
   ],
   "source": [
    "fy.set(\n",
    "  channel=fygen.CH1,\n",
    "  wave='sin',\n",
    "  freq_uhz=10,  # actually Hz\n",
    "  volts=1\n",
    ")\n",
    "\n",
    "fy.set(fygen.CH1, enable=True)"
   ]
  },
  {
   "cell_type": "code",
   "execution_count": 6,
   "id": "f4f1290a-122d-46ef-bcb9-be891fb78b79",
   "metadata": {},
   "outputs": [
    {
     "data": {
      "text/plain": [
       "array([  1.,   2.,   4.,   6.,  10.,  12.,  15.,  19.,  23.,  28.,  35.,\n",
       "        43.,  53.,  65.,  80.,  84.,  88.,  92.,  96., 100., 104., 108.,\n",
       "       112., 116., 120., 124., 128., 132., 136., 140., 144., 148.])"
      ]
     },
     "execution_count": 6,
     "metadata": {},
     "output_type": "execute_result"
    }
   ],
   "source": [
    "frequencies = np.append(\n",
    "    np.append(\n",
    "        np.array([1, 2, 4, 6]),\n",
    "        np.logspace(1, np.log10(80), 10, endpoint=False),\n",
    "    ),\n",
    "    np.arange(80, 150, 4)\n",
    ").round(0)\n",
    "# round because we can only set in 1Hz increments\n",
    "frequencies"
   ]
  },
  {
   "cell_type": "code",
   "execution_count": 7,
   "id": "b28accc6-9834-489d-93bb-cfcfdeacc3d6",
   "metadata": {},
   "outputs": [
    {
     "data": {
      "text/plain": [
       "array([ 4.5,  5. ,  6. , 10. , 15. ])"
      ]
     },
     "execution_count": 7,
     "metadata": {},
     "output_type": "execute_result"
    }
   ],
   "source": [
    "amplitudes = np.array([4.5, 5, 6, 10, 15])\n",
    "amplitudes"
   ]
  },
  {
   "cell_type": "code",
   "execution_count": 8,
   "id": "23f0b5e4-a387-4fe2-b12d-e515472c1c15",
   "metadata": {
    "scrolled": true
   },
   "outputs": [
    {
     "name": "stderr",
     "output_type": "stream",
     "text": [
      "\n",
      "  0%|                                                     | 0/5 [00:00<?, ?it/s]\u001b[A\n",
      "\n",
      "  0%|                                                    | 0/32 [00:00<?, ?it/s]\u001b[A\u001b[A"
     ]
    },
    {
     "name": "stdout",
     "output_type": "stream",
     "text": [
      "RMF -> 00000010.000000\n",
      "RMA -> 10000\n",
      "WMF00000000000001 -> \n",
      "WMA4.50 -> \n",
      "RMF -> 00000001.000000\n",
      "RMA -> 45000\n",
      "WMF00000000000001 -> \n",
      "RMF -> 00000001.000000\n",
      "WMF00000000000001 -> \n"
     ]
    },
    {
     "name": "stderr",
     "output_type": "stream",
     "text": [
      "\n",
      "\n",
      "  3%|█▍                                          | 1/32 [00:06<03:07,  6.06s/it]\u001b[A\u001b[A"
     ]
    },
    {
     "name": "stdout",
     "output_type": "stream",
     "text": [
      "RMF -> 00000001.000000\n",
      "RMA -> 45000\n",
      "WMF00000000000002 -> \n",
      "RMF -> 00000002.000000\n",
      "WMF00000000000002 -> \n",
      "RMF -> 00000002.000000\n",
      "WMF00000000000002 -> \n"
     ]
    },
    {
     "name": "stderr",
     "output_type": "stream",
     "text": [
      "\n",
      "\n",
      "  6%|██▊                                         | 2/32 [00:11<02:58,  5.95s/it]\u001b[A\u001b[A"
     ]
    },
    {
     "name": "stdout",
     "output_type": "stream",
     "text": [
      "RMF -> 00000002.000000\n",
      "RMA -> 45000\n",
      "WMF00000000000004 -> \n",
      "RMF -> 00000004.000000\n",
      "WMF00000000000004 -> \n",
      "RMF -> 00000004.000000\n",
      "WMF00000000000004 -> \n"
     ]
    },
    {
     "name": "stderr",
     "output_type": "stream",
     "text": [
      "\n",
      "\n",
      "  9%|████▏                                       | 3/32 [00:17<02:51,  5.91s/it]\u001b[A\u001b[A"
     ]
    },
    {
     "name": "stdout",
     "output_type": "stream",
     "text": [
      "RMF -> 00000004.000000\n",
      "RMA -> 45000\n",
      "WMF00000000000006 -> \n",
      "RMF -> 00000006.000000\n",
      "WMF00000000000006 -> \n",
      "RMF -> 00000006.000000\n",
      "WMF00000000000006 -> \n"
     ]
    },
    {
     "name": "stderr",
     "output_type": "stream",
     "text": [
      "\n",
      "\n",
      " 12%|█████▌                                      | 4/32 [00:23<02:44,  5.89s/it]\u001b[A\u001b[A"
     ]
    },
    {
     "name": "stdout",
     "output_type": "stream",
     "text": [
      "RMF -> 00000006.000000\n",
      "RMA -> 45000\n",
      "WMF00000000000010 -> \n",
      "RMF -> 00000010.000000\n",
      "WMF00000000000010 -> \n",
      "RMF -> 00000010.000000\n",
      "WMF00000000000010 -> \n"
     ]
    },
    {
     "name": "stderr",
     "output_type": "stream",
     "text": [
      "\n",
      "\n",
      " 16%|██████▉                                     | 5/32 [00:29<02:38,  5.88s/it]\u001b[A\u001b[A"
     ]
    },
    {
     "name": "stdout",
     "output_type": "stream",
     "text": [
      "RMF -> 00000010.000000\n",
      "RMA -> 45000\n",
      "WMF00000000000012 -> \n",
      "RMF -> 00000012.000000\n",
      "WMF00000000000012 -> \n",
      "RMF -> 00000012.000000\n",
      "WMF00000000000012 -> \n"
     ]
    },
    {
     "name": "stderr",
     "output_type": "stream",
     "text": [
      "\n",
      "\n",
      " 19%|████████▎                                   | 6/32 [00:35<02:32,  5.88s/it]\u001b[A\u001b[A"
     ]
    },
    {
     "name": "stdout",
     "output_type": "stream",
     "text": [
      "RMF -> 00000012.000000\n",
      "RMA -> 45000\n",
      "WMF00000000000015 -> \n",
      "RMF -> 00000015.000000\n",
      "WMF00000000000015 -> \n",
      "RMF -> 00000015.000000\n",
      "WMF00000000000015 -> \n"
     ]
    },
    {
     "name": "stderr",
     "output_type": "stream",
     "text": [
      "\n",
      "\n",
      " 22%|█████████▋                                  | 7/32 [00:41<02:26,  5.87s/it]\u001b[A\u001b[A"
     ]
    },
    {
     "name": "stdout",
     "output_type": "stream",
     "text": [
      "RMF -> 00000015.000000\n",
      "RMA -> 45000\n",
      "WMF00000000000019 -> \n",
      "RMF -> 00000019.000000\n",
      "WMF00000000000019 -> \n",
      "RMF -> 00000019.000000\n",
      "WMF00000000000019 -> \n"
     ]
    },
    {
     "name": "stderr",
     "output_type": "stream",
     "text": [
      "\n",
      "\n",
      " 25%|███████████                                 | 8/32 [00:47<02:20,  5.87s/it]\u001b[A\u001b[A"
     ]
    },
    {
     "name": "stdout",
     "output_type": "stream",
     "text": [
      "RMF -> 00000019.000000\n",
      "RMA -> 45000\n",
      "WMF00000000000023 -> \n",
      "RMF -> 00000023.000000\n",
      "WMF00000000000023 -> \n",
      "RMF -> 00000023.000000\n",
      "WMF00000000000023 -> \n"
     ]
    },
    {
     "name": "stderr",
     "output_type": "stream",
     "text": [
      "\n",
      "\n",
      " 28%|████████████▍                               | 9/32 [00:52<02:14,  5.86s/it]\u001b[A\u001b[A"
     ]
    },
    {
     "name": "stdout",
     "output_type": "stream",
     "text": [
      "RMF -> 00000023.000000\n",
      "RMA -> 45000\n",
      "WMF00000000000028 -> \n",
      "RMF -> 00000028.000000\n",
      "WMF00000000000028 -> \n",
      "RMF -> 00000028.000000\n",
      "WMF00000000000028 -> \n"
     ]
    },
    {
     "name": "stderr",
     "output_type": "stream",
     "text": [
      "\n",
      "\n",
      " 31%|█████████████▍                             | 10/32 [00:58<02:09,  5.87s/it]\u001b[A\u001b[A"
     ]
    },
    {
     "name": "stdout",
     "output_type": "stream",
     "text": [
      "RMF -> 00000028.000000\n",
      "RMA -> 45000\n",
      "WMF00000000000035 -> \n",
      "RMF -> 00000035.000000\n",
      "WMF00000000000035 -> \n",
      "RMF -> 00000035.000000\n",
      "WMF00000000000035 -> \n"
     ]
    },
    {
     "name": "stderr",
     "output_type": "stream",
     "text": [
      "\n",
      "\n",
      " 34%|██████████████▊                            | 11/32 [01:04<02:03,  5.87s/it]\u001b[A\u001b[A"
     ]
    },
    {
     "name": "stdout",
     "output_type": "stream",
     "text": [
      "RMF -> 00000035.000000\n",
      "RMA -> 45000\n",
      "WMF00000000000043 -> \n",
      "RMF -> 00000043.000000\n",
      "WMF00000000000043 -> \n",
      "RMF -> 00000043.000000\n",
      "WMF00000000000043 -> \n"
     ]
    },
    {
     "name": "stderr",
     "output_type": "stream",
     "text": [
      "\n",
      "\n",
      " 38%|████████████████▏                          | 12/32 [01:10<01:57,  5.87s/it]\u001b[A\u001b[A"
     ]
    },
    {
     "name": "stdout",
     "output_type": "stream",
     "text": [
      "RMF -> 00000043.000000\n",
      "RMA -> 45000\n",
      "WMF00000000000053 -> \n",
      "RMF -> 00000053.000000\n",
      "WMF00000000000053 -> \n",
      "RMF -> 00000053.000000\n",
      "WMF00000000000053 -> \n"
     ]
    },
    {
     "name": "stderr",
     "output_type": "stream",
     "text": [
      "\n",
      "\n",
      " 41%|█████████████████▍                         | 13/32 [01:16<01:51,  5.87s/it]\u001b[A\u001b[A"
     ]
    },
    {
     "name": "stdout",
     "output_type": "stream",
     "text": [
      "RMF -> 00000053.000000\n",
      "RMA -> 45000\n",
      "WMF00000000000065 -> \n",
      "RMF -> 00000065.000000\n",
      "WMF00000000000065 -> \n",
      "RMF -> 00000065.000000\n",
      "WMF00000000000065 -> \n"
     ]
    },
    {
     "name": "stderr",
     "output_type": "stream",
     "text": [
      "\n",
      "\n",
      " 44%|██████████████████▊                        | 14/32 [01:22<01:45,  5.87s/it]\u001b[A\u001b[A"
     ]
    },
    {
     "name": "stdout",
     "output_type": "stream",
     "text": [
      "RMF -> 00000065.000000\n",
      "RMA -> 45000\n",
      "WMF00000000000080 -> \n",
      "RMF -> 00000080.000000\n",
      "WMF00000000000080 -> \n",
      "RMF -> 00000080.000000\n",
      "WMF00000000000080 -> \n"
     ]
    },
    {
     "name": "stderr",
     "output_type": "stream",
     "text": [
      "\n",
      "\n",
      " 47%|████████████████████▏                      | 15/32 [01:28<01:39,  5.87s/it]\u001b[A\u001b[A"
     ]
    },
    {
     "name": "stdout",
     "output_type": "stream",
     "text": [
      "RMF -> 00000080.000000\n",
      "RMA -> 45000\n",
      "WMF00000000000084 -> \n",
      "RMF -> 00000084.000000\n",
      "WMF00000000000084 -> \n",
      "RMF -> 00000084.000000\n",
      "WMF00000000000084 -> \n"
     ]
    },
    {
     "name": "stderr",
     "output_type": "stream",
     "text": [
      "\n",
      "\n",
      " 50%|█████████████████████▌                     | 16/32 [01:34<01:33,  5.87s/it]\u001b[A\u001b[A"
     ]
    },
    {
     "name": "stdout",
     "output_type": "stream",
     "text": [
      "RMF -> 00000084.000000\n",
      "RMA -> 45000\n",
      "WMF00000000000088 -> \n",
      "RMF -> 00000088.000000\n",
      "WMF00000000000088 -> \n",
      "RMF -> 00000088.000000\n",
      "WMF00000000000088 -> \n"
     ]
    },
    {
     "name": "stderr",
     "output_type": "stream",
     "text": [
      "\n",
      "\n",
      " 53%|██████████████████████▊                    | 17/32 [01:39<01:28,  5.87s/it]\u001b[A\u001b[A"
     ]
    },
    {
     "name": "stdout",
     "output_type": "stream",
     "text": [
      "RMF -> 00000088.000000\n",
      "RMA -> 45000\n",
      "WMF00000000000092 -> \n",
      "RMF -> 00000092.000000\n",
      "WMF00000000000092 -> \n",
      "RMF -> 00000092.000000\n",
      "WMF00000000000092 -> \n"
     ]
    },
    {
     "name": "stderr",
     "output_type": "stream",
     "text": [
      "\n",
      "\n",
      " 56%|████████████████████████▏                  | 18/32 [01:45<01:22,  5.87s/it]\u001b[A\u001b[A"
     ]
    },
    {
     "name": "stdout",
     "output_type": "stream",
     "text": [
      "RMF -> 00000092.000000\n",
      "RMA -> 45000\n",
      "WMF00000000000096 -> \n",
      "RMF -> 00000096.000000\n",
      "WMF00000000000096 -> \n",
      "RMF -> 00000096.000000\n",
      "WMF00000000000096 -> \n"
     ]
    },
    {
     "name": "stderr",
     "output_type": "stream",
     "text": [
      "\n",
      "\n",
      " 59%|█████████████████████████▌                 | 19/32 [01:51<01:16,  5.86s/it]\u001b[A\u001b[A"
     ]
    },
    {
     "name": "stdout",
     "output_type": "stream",
     "text": [
      "RMF -> 00000096.000000\n",
      "RMA -> 45000\n",
      "WMF00000000000100 -> \n",
      "RMF -> 00000100.000000\n",
      "WMF00000000000100 -> \n",
      "RMF -> 00000100.000000\n",
      "WMF00000000000100 -> \n"
     ]
    },
    {
     "name": "stderr",
     "output_type": "stream",
     "text": [
      "\n",
      "\n",
      " 62%|██████████████████████████▉                | 20/32 [01:57<01:10,  5.86s/it]\u001b[A\u001b[A"
     ]
    },
    {
     "name": "stdout",
     "output_type": "stream",
     "text": [
      "RMF -> 00000100.000000\n",
      "RMA -> 45000\n",
      "WMF00000000000104 -> \n",
      "RMF -> 00000104.000000\n",
      "WMF00000000000104 -> \n",
      "RMF -> 00000104.000000\n",
      "WMF00000000000104 -> \n"
     ]
    },
    {
     "name": "stderr",
     "output_type": "stream",
     "text": [
      "\n",
      "\n",
      " 66%|████████████████████████████▏              | 21/32 [02:03<01:04,  5.86s/it]\u001b[A\u001b[A"
     ]
    },
    {
     "name": "stdout",
     "output_type": "stream",
     "text": [
      "RMF -> 00000104.000000\n",
      "RMA -> 45000\n",
      "WMF00000000000108 -> \n",
      "RMF -> 00000108.000000\n",
      "WMF00000000000108 -> \n",
      "RMF -> 00000108.000000\n",
      "WMF00000000000108 -> \n"
     ]
    },
    {
     "name": "stderr",
     "output_type": "stream",
     "text": [
      "\n",
      "\n",
      " 69%|█████████████████████████████▌             | 22/32 [02:09<00:58,  5.86s/it]\u001b[A\u001b[A"
     ]
    },
    {
     "name": "stdout",
     "output_type": "stream",
     "text": [
      "RMF -> 00000108.000000\n",
      "RMA -> 45000\n",
      "WMF00000000000112 -> \n",
      "RMF -> 00000112.000000\n",
      "WMF00000000000112 -> \n",
      "RMF -> 00000112.000000\n",
      "WMF00000000000112 -> \n"
     ]
    },
    {
     "name": "stderr",
     "output_type": "stream",
     "text": [
      "\n",
      "\n",
      " 72%|██████████████████████████████▉            | 23/32 [02:15<00:52,  5.87s/it]\u001b[A\u001b[A"
     ]
    },
    {
     "name": "stdout",
     "output_type": "stream",
     "text": [
      "RMF -> 00000112.000000\n",
      "RMA -> 45000\n",
      "WMF00000000000116 -> \n",
      "RMF -> 00000116.000000\n",
      "WMF00000000000116 -> \n",
      "RMF -> 00000116.000000\n",
      "WMF00000000000116 -> \n"
     ]
    },
    {
     "name": "stderr",
     "output_type": "stream",
     "text": [
      "\n",
      "\n",
      " 75%|████████████████████████████████▎          | 24/32 [02:20<00:46,  5.86s/it]\u001b[A\u001b[A"
     ]
    },
    {
     "name": "stdout",
     "output_type": "stream",
     "text": [
      "RMF -> 00000116.000000\n",
      "RMA -> 45000\n",
      "WMF00000000000120 -> \n",
      "RMF -> 00000120.000000\n",
      "WMF00000000000120 -> \n",
      "RMF -> 00000120.000000\n",
      "WMF00000000000120 -> \n"
     ]
    },
    {
     "name": "stderr",
     "output_type": "stream",
     "text": [
      "\n",
      "\n",
      " 78%|█████████████████████████████████▌         | 25/32 [02:26<00:41,  5.86s/it]\u001b[A\u001b[A"
     ]
    },
    {
     "name": "stdout",
     "output_type": "stream",
     "text": [
      "RMF -> 00000120.000000\n",
      "RMA -> 45000\n",
      "WMF00000000000124 -> \n",
      "RMF -> 00000124.000000\n",
      "WMF00000000000124 -> \n",
      "RMF -> 00000124.000000\n",
      "WMF00000000000124 -> \n"
     ]
    },
    {
     "name": "stderr",
     "output_type": "stream",
     "text": [
      "\n",
      "\n",
      " 81%|██████████████████████████████████▉        | 26/32 [02:32<00:35,  5.86s/it]\u001b[A\u001b[A"
     ]
    },
    {
     "name": "stdout",
     "output_type": "stream",
     "text": [
      "RMF -> 00000124.000000\n",
      "RMA -> 45000\n",
      "WMF00000000000128 -> \n",
      "RMF -> 00000128.000000\n",
      "WMF00000000000128 -> \n",
      "RMF -> 00000128.000000\n",
      "WMF00000000000128 -> \n"
     ]
    },
    {
     "name": "stderr",
     "output_type": "stream",
     "text": [
      "\n",
      "\n",
      " 84%|████████████████████████████████████▎      | 27/32 [02:38<00:29,  5.86s/it]\u001b[A\u001b[A"
     ]
    },
    {
     "name": "stdout",
     "output_type": "stream",
     "text": [
      "RMF -> 00000128.000000\n",
      "RMA -> 45000\n",
      "WMF00000000000132 -> \n",
      "RMF -> 00000132.000000\n",
      "WMF00000000000132 -> \n",
      "RMF -> 00000132.000000\n",
      "WMF00000000000132 -> \n"
     ]
    },
    {
     "name": "stderr",
     "output_type": "stream",
     "text": [
      "\n",
      "\n",
      " 88%|█████████████████████████████████████▋     | 28/32 [02:44<00:23,  5.86s/it]\u001b[A\u001b[A"
     ]
    },
    {
     "name": "stdout",
     "output_type": "stream",
     "text": [
      "RMF -> 00000132.000000\n",
      "RMA -> 45000\n",
      "WMF00000000000136 -> \n",
      "RMF -> 00000136.000000\n",
      "WMF00000000000136 -> \n",
      "RMF -> 00000136.000000\n",
      "WMF00000000000136 -> \n"
     ]
    },
    {
     "name": "stderr",
     "output_type": "stream",
     "text": [
      "\n",
      "\n",
      " 91%|██████████████████████████████████████▉    | 29/32 [02:50<00:17,  5.86s/it]\u001b[A\u001b[A"
     ]
    },
    {
     "name": "stdout",
     "output_type": "stream",
     "text": [
      "RMF -> 00000136.000000\n",
      "RMA -> 45000\n",
      "WMF00000000000140 -> \n",
      "RMF -> 00000140.000000\n",
      "WMF00000000000140 -> \n",
      "RMF -> 00000140.000000\n",
      "WMF00000000000140 -> \n"
     ]
    },
    {
     "name": "stderr",
     "output_type": "stream",
     "text": [
      "\n",
      "\n",
      " 94%|████████████████████████████████████████▎  | 30/32 [02:56<00:11,  5.87s/it]\u001b[A\u001b[A"
     ]
    },
    {
     "name": "stdout",
     "output_type": "stream",
     "text": [
      "RMF -> 00000140.000000\n",
      "RMA -> 45000\n",
      "WMF00000000000144 -> \n",
      "RMF -> 00000144.000000\n",
      "WMF00000000000144 -> \n",
      "RMF -> 00000144.000000\n",
      "WMF00000000000144 -> \n"
     ]
    },
    {
     "name": "stderr",
     "output_type": "stream",
     "text": [
      "\n",
      "\n",
      " 97%|█████████████████████████████████████████▋ | 31/32 [03:02<00:05,  5.87s/it]\u001b[A\u001b[A"
     ]
    },
    {
     "name": "stdout",
     "output_type": "stream",
     "text": [
      "RMF -> 00000144.000000\n",
      "RMA -> 45000\n",
      "WMF00000000000148 -> \n",
      "RMF -> 00000148.000000\n",
      "WMF00000000000148 -> \n",
      "RMF -> 00000148.000000\n",
      "WMF00000000000148 -> \n"
     ]
    },
    {
     "name": "stderr",
     "output_type": "stream",
     "text": [
      "\n",
      "\n",
      "100%|███████████████████████████████████████████| 32/32 [03:07<00:00,  5.87s/it]\u001b[A\u001b[A\n",
      "\n",
      " 20%|████████▊                                   | 1/5 [03:07<12:31, 187.92s/it]\u001b[A\n",
      "\n",
      "  0%|                                                    | 0/32 [00:00<?, ?it/s]\u001b[A\u001b[A"
     ]
    },
    {
     "name": "stdout",
     "output_type": "stream",
     "text": [
      "RMF -> 00000148.000000\n",
      "RMA -> 45000\n",
      "WMF00000000000001 -> \n",
      "WMA5.00 -> \n",
      "RMF -> 00000001.000000\n",
      "RMA -> 50000\n",
      "WMF00000000000001 -> \n",
      "RMF -> 00000001.000000\n",
      "WMF00000000000001 -> \n"
     ]
    },
    {
     "name": "stderr",
     "output_type": "stream",
     "text": [
      "\n",
      "\n",
      "  3%|█▍                                          | 1/32 [00:06<03:07,  6.06s/it]\u001b[A\u001b[A"
     ]
    },
    {
     "name": "stdout",
     "output_type": "stream",
     "text": [
      "RMF -> 00000001.000000\n",
      "RMA -> 50000\n",
      "WMF00000000000002 -> \n",
      "RMF -> 00000002.000000\n",
      "WMF00000000000002 -> \n",
      "RMF -> 00000002.000000\n",
      "WMF00000000000002 -> \n"
     ]
    },
    {
     "name": "stderr",
     "output_type": "stream",
     "text": [
      "\n",
      "\n",
      "  6%|██▊                                         | 2/32 [00:11<02:58,  5.95s/it]\u001b[A\u001b[A"
     ]
    },
    {
     "name": "stdout",
     "output_type": "stream",
     "text": [
      "RMF -> 00000002.000000\n",
      "RMA -> 50000\n",
      "WMF00000000000004 -> \n",
      "RMF -> 00000004.000000\n",
      "WMF00000000000004 -> \n",
      "RMF -> 00000004.000000\n",
      "WMF00000000000004 -> \n"
     ]
    },
    {
     "name": "stderr",
     "output_type": "stream",
     "text": [
      "\n",
      "\n",
      "  9%|████▏                                       | 3/32 [00:17<02:51,  5.91s/it]\u001b[A\u001b[A"
     ]
    },
    {
     "name": "stdout",
     "output_type": "stream",
     "text": [
      "RMF -> 00000004.000000\n",
      "RMA -> 50000\n",
      "WMF00000000000006 -> \n",
      "RMF -> 00000006.000000\n",
      "WMF00000000000006 -> \n",
      "RMF -> 00000006.000000\n",
      "WMF00000000000006 -> \n"
     ]
    },
    {
     "name": "stderr",
     "output_type": "stream",
     "text": [
      "\n",
      "\n",
      " 12%|█████▌                                      | 4/32 [00:23<02:44,  5.89s/it]\u001b[A\u001b[A"
     ]
    },
    {
     "name": "stdout",
     "output_type": "stream",
     "text": [
      "RMF -> 00000006.000000\n",
      "RMA -> 50000\n",
      "WMF00000000000010 -> \n",
      "RMF -> 00000010.000000\n",
      "WMF00000000000010 -> \n",
      "RMF -> 00000010.000000\n",
      "WMF00000000000010 -> \n"
     ]
    },
    {
     "name": "stderr",
     "output_type": "stream",
     "text": [
      "\n",
      "\n",
      " 16%|██████▉                                     | 5/32 [00:29<02:38,  5.89s/it]\u001b[A\u001b[A"
     ]
    },
    {
     "name": "stdout",
     "output_type": "stream",
     "text": [
      "RMF -> 00000010.000000\n",
      "RMA -> 50000\n",
      "WMF00000000000012 -> \n",
      "RMF -> 00000012.000000\n",
      "WMF00000000000012 -> \n",
      "RMF -> 00000012.000000\n",
      "WMF00000000000012 -> \n"
     ]
    },
    {
     "name": "stderr",
     "output_type": "stream",
     "text": [
      "\n",
      "\n",
      " 19%|████████▎                                   | 6/32 [00:35<02:32,  5.88s/it]\u001b[A\u001b[A"
     ]
    },
    {
     "name": "stdout",
     "output_type": "stream",
     "text": [
      "RMF -> 00000012.000000\n",
      "RMA -> 50000\n",
      "WMF00000000000015 -> \n",
      "RMF -> 00000015.000000\n",
      "WMF00000000000015 -> \n",
      "RMF -> 00000015.000000\n",
      "WMF00000000000015 -> \n"
     ]
    },
    {
     "name": "stderr",
     "output_type": "stream",
     "text": [
      "\n",
      "\n",
      " 22%|█████████▋                                  | 7/32 [00:41<02:26,  5.87s/it]\u001b[A\u001b[A"
     ]
    },
    {
     "name": "stdout",
     "output_type": "stream",
     "text": [
      "RMF -> 00000015.000000\n",
      "RMA -> 50000\n",
      "WMF00000000000019 -> \n",
      "RMF -> 00000019.000000\n",
      "WMF00000000000019 -> \n",
      "RMF -> 00000019.000000\n",
      "WMF00000000000019 -> \n"
     ]
    },
    {
     "name": "stderr",
     "output_type": "stream",
     "text": [
      "\n",
      "\n",
      " 25%|███████████                                 | 8/32 [00:47<02:20,  5.87s/it]\u001b[A\u001b[A"
     ]
    },
    {
     "name": "stdout",
     "output_type": "stream",
     "text": [
      "RMF -> 00000019.000000\n",
      "RMA -> 50000\n",
      "WMF00000000000023 -> \n",
      "RMF -> 00000023.000000\n",
      "WMF00000000000023 -> \n",
      "RMF -> 00000023.000000\n",
      "WMF00000000000023 -> \n"
     ]
    },
    {
     "name": "stderr",
     "output_type": "stream",
     "text": [
      "\n",
      "\n",
      " 28%|████████████▍                               | 9/32 [00:53<02:15,  5.87s/it]\u001b[A\u001b[A"
     ]
    },
    {
     "name": "stdout",
     "output_type": "stream",
     "text": [
      "RMF -> 00000023.000000\n",
      "RMA -> 50000\n",
      "WMF00000000000028 -> \n",
      "RMF -> 00000028.000000\n",
      "WMF00000000000028 -> \n",
      "RMF -> 00000028.000000\n",
      "WMF00000000000028 -> \n"
     ]
    },
    {
     "name": "stderr",
     "output_type": "stream",
     "text": [
      "\n",
      "\n",
      " 31%|█████████████▍                             | 10/32 [00:58<02:09,  5.87s/it]\u001b[A\u001b[A"
     ]
    },
    {
     "name": "stdout",
     "output_type": "stream",
     "text": [
      "RMF -> 00000028.000000\n",
      "RMA -> 50000\n",
      "WMF00000000000035 -> \n",
      "RMF -> 00000035.000000\n",
      "WMF00000000000035 -> \n",
      "RMF -> 00000035.000000\n",
      "WMF00000000000035 -> \n"
     ]
    },
    {
     "name": "stderr",
     "output_type": "stream",
     "text": [
      "\n",
      "\n",
      " 34%|██████████████▊                            | 11/32 [01:04<02:03,  5.87s/it]\u001b[A\u001b[A"
     ]
    },
    {
     "name": "stdout",
     "output_type": "stream",
     "text": [
      "RMF -> 00000035.000000\n",
      "RMA -> 50000\n",
      "WMF00000000000043 -> \n",
      "RMF -> 00000043.000000\n",
      "WMF00000000000043 -> \n",
      "RMF -> 00000043.000000\n",
      "WMF00000000000043 -> \n"
     ]
    },
    {
     "name": "stderr",
     "output_type": "stream",
     "text": [
      "\n",
      "\n",
      " 38%|████████████████▏                          | 12/32 [01:10<01:57,  5.87s/it]\u001b[A\u001b[A"
     ]
    },
    {
     "name": "stdout",
     "output_type": "stream",
     "text": [
      "RMF -> 00000043.000000\n",
      "RMA -> 50000\n",
      "WMF00000000000053 -> \n",
      "RMF -> 00000053.000000\n",
      "WMF00000000000053 -> \n",
      "RMF -> 00000053.000000\n",
      "WMF00000000000053 -> \n"
     ]
    },
    {
     "name": "stderr",
     "output_type": "stream",
     "text": [
      "\n",
      "\n",
      " 41%|█████████████████▍                         | 13/32 [01:16<01:51,  5.87s/it]\u001b[A\u001b[A"
     ]
    },
    {
     "name": "stdout",
     "output_type": "stream",
     "text": [
      "RMF -> 00000053.000000\n",
      "RMA -> 50000\n",
      "WMF00000000000065 -> \n",
      "RMF -> 00000065.000000\n",
      "WMF00000000000065 -> \n",
      "RMF -> 00000065.000000\n",
      "WMF00000000000065 -> \n"
     ]
    },
    {
     "name": "stderr",
     "output_type": "stream",
     "text": [
      "\n",
      "\n",
      " 44%|██████████████████▊                        | 14/32 [01:22<01:45,  5.87s/it]\u001b[A\u001b[A"
     ]
    },
    {
     "name": "stdout",
     "output_type": "stream",
     "text": [
      "RMF -> 00000065.000000\n",
      "RMA -> 50000\n",
      "WMF00000000000080 -> \n",
      "RMF -> 00000080.000000\n",
      "WMF00000000000080 -> \n",
      "RMF -> 00000080.000000\n",
      "WMF00000000000080 -> \n"
     ]
    },
    {
     "name": "stderr",
     "output_type": "stream",
     "text": [
      "\n",
      "\n",
      " 47%|████████████████████▏                      | 15/32 [01:28<01:39,  5.87s/it]\u001b[A\u001b[A"
     ]
    },
    {
     "name": "stdout",
     "output_type": "stream",
     "text": [
      "RMF -> 00000080.000000\n",
      "RMA -> 50000\n",
      "WMF00000000000084 -> \n",
      "RMF -> 00000084.000000\n",
      "WMF00000000000084 -> \n",
      "RMF -> 00000084.000000\n",
      "WMF00000000000084 -> \n"
     ]
    },
    {
     "name": "stderr",
     "output_type": "stream",
     "text": [
      "\n",
      "\n",
      " 50%|█████████████████████▌                     | 16/32 [01:34<01:33,  5.86s/it]\u001b[A\u001b[A"
     ]
    },
    {
     "name": "stdout",
     "output_type": "stream",
     "text": [
      "RMF -> 00000084.000000\n",
      "RMA -> 50000\n",
      "WMF00000000000088 -> \n",
      "RMF -> 00000088.000000\n",
      "WMF00000000000088 -> \n",
      "RMF -> 00000088.000000\n",
      "WMF00000000000088 -> \n"
     ]
    },
    {
     "name": "stderr",
     "output_type": "stream",
     "text": [
      "\n",
      "\n",
      " 53%|██████████████████████▊                    | 17/32 [01:39<01:27,  5.86s/it]\u001b[A\u001b[A"
     ]
    },
    {
     "name": "stdout",
     "output_type": "stream",
     "text": [
      "RMF -> 00000088.000000\n",
      "RMA -> 50000\n",
      "WMF00000000000092 -> \n",
      "RMF -> 00000092.000000\n",
      "WMF00000000000092 -> \n",
      "RMF -> 00000092.000000\n",
      "WMF00000000000092 -> \n"
     ]
    },
    {
     "name": "stderr",
     "output_type": "stream",
     "text": [
      "\n",
      "\n",
      " 56%|████████████████████████▏                  | 18/32 [01:45<01:22,  5.86s/it]\u001b[A\u001b[A"
     ]
    },
    {
     "name": "stdout",
     "output_type": "stream",
     "text": [
      "RMF -> 00000092.000000\n",
      "RMA -> 50000\n",
      "WMF00000000000096 -> \n",
      "RMF -> 00000096.000000\n",
      "WMF00000000000096 -> \n",
      "RMF -> 00000096.000000\n",
      "WMF00000000000096 -> \n"
     ]
    },
    {
     "name": "stderr",
     "output_type": "stream",
     "text": [
      "\n",
      "\n",
      " 59%|█████████████████████████▌                 | 19/32 [01:51<01:16,  5.86s/it]\u001b[A\u001b[A"
     ]
    },
    {
     "name": "stdout",
     "output_type": "stream",
     "text": [
      "RMF -> 00000096.000000\n",
      "RMA -> 50000\n",
      "WMF00000000000100 -> \n",
      "RMF -> 00000100.000000\n",
      "WMF00000000000100 -> \n",
      "RMF -> 00000100.000000\n",
      "WMF00000000000100 -> \n"
     ]
    },
    {
     "name": "stderr",
     "output_type": "stream",
     "text": [
      "\n",
      "\n",
      " 62%|██████████████████████████▉                | 20/32 [01:57<01:10,  5.86s/it]\u001b[A\u001b[A"
     ]
    },
    {
     "name": "stdout",
     "output_type": "stream",
     "text": [
      "RMF -> 00000100.000000\n",
      "RMA -> 50000\n",
      "WMF00000000000104 -> \n",
      "RMF -> 00000104.000000\n",
      "WMF00000000000104 -> \n",
      "RMF -> 00000104.000000\n",
      "WMF00000000000104 -> \n"
     ]
    },
    {
     "name": "stderr",
     "output_type": "stream",
     "text": [
      "\n",
      "\n",
      " 66%|████████████████████████████▏              | 21/32 [02:03<01:04,  5.86s/it]\u001b[A\u001b[A"
     ]
    },
    {
     "name": "stdout",
     "output_type": "stream",
     "text": [
      "RMF -> 00000104.000000\n",
      "RMA -> 50000\n",
      "WMF00000000000108 -> \n",
      "RMF -> 00000108.000000\n",
      "WMF00000000000108 -> \n",
      "RMF -> 00000108.000000\n",
      "WMF00000000000108 -> \n"
     ]
    },
    {
     "name": "stderr",
     "output_type": "stream",
     "text": [
      "\n",
      "\n",
      " 69%|█████████████████████████████▌             | 22/32 [02:09<00:58,  5.86s/it]\u001b[A\u001b[A"
     ]
    },
    {
     "name": "stdout",
     "output_type": "stream",
     "text": [
      "RMF -> 00000108.000000\n",
      "RMA -> 50000\n",
      "WMF00000000000112 -> \n",
      "RMF -> 00000112.000000\n",
      "WMF00000000000112 -> \n",
      "RMF -> 00000112.000000\n",
      "WMF00000000000112 -> \n"
     ]
    },
    {
     "name": "stderr",
     "output_type": "stream",
     "text": [
      "\n",
      "\n",
      " 72%|██████████████████████████████▉            | 23/32 [02:15<00:52,  5.86s/it]\u001b[A\u001b[A"
     ]
    },
    {
     "name": "stdout",
     "output_type": "stream",
     "text": [
      "RMF -> 00000112.000000\n",
      "RMA -> 50000\n",
      "WMF00000000000116 -> \n",
      "RMF -> 00000116.000000\n",
      "WMF00000000000116 -> \n",
      "RMF -> 00000116.000000\n",
      "WMF00000000000116 -> \n"
     ]
    },
    {
     "name": "stderr",
     "output_type": "stream",
     "text": [
      "\n",
      "\n",
      " 75%|████████████████████████████████▎          | 24/32 [02:20<00:46,  5.86s/it]\u001b[A\u001b[A"
     ]
    },
    {
     "name": "stdout",
     "output_type": "stream",
     "text": [
      "RMF -> 00000116.000000\n",
      "RMA -> 50000\n",
      "WMF00000000000120 -> \n",
      "RMF -> 00000120.000000\n",
      "WMF00000000000120 -> \n",
      "RMF -> 00000120.000000\n",
      "WMF00000000000120 -> \n"
     ]
    },
    {
     "name": "stderr",
     "output_type": "stream",
     "text": [
      "\n",
      "\n",
      " 78%|█████████████████████████████████▌         | 25/32 [02:26<00:41,  5.86s/it]\u001b[A\u001b[A"
     ]
    },
    {
     "name": "stdout",
     "output_type": "stream",
     "text": [
      "RMF -> 00000120.000000\n",
      "RMA -> 50000\n",
      "WMF00000000000124 -> \n",
      "RMF -> 00000124.000000\n",
      "WMF00000000000124 -> \n",
      "RMF -> 00000124.000000\n",
      "WMF00000000000124 -> \n"
     ]
    },
    {
     "name": "stderr",
     "output_type": "stream",
     "text": [
      "\n",
      "\n",
      " 81%|██████████████████████████████████▉        | 26/32 [02:32<00:35,  5.86s/it]\u001b[A\u001b[A"
     ]
    },
    {
     "name": "stdout",
     "output_type": "stream",
     "text": [
      "RMF -> 00000124.000000\n",
      "RMA -> 50000\n",
      "WMF00000000000128 -> \n",
      "RMF -> 00000128.000000\n",
      "WMF00000000000128 -> \n",
      "RMF -> 00000128.000000\n",
      "WMF00000000000128 -> \n"
     ]
    },
    {
     "name": "stderr",
     "output_type": "stream",
     "text": [
      "\n",
      "\n",
      " 84%|████████████████████████████████████▎      | 27/32 [02:38<00:29,  5.87s/it]\u001b[A\u001b[A"
     ]
    },
    {
     "name": "stdout",
     "output_type": "stream",
     "text": [
      "RMF -> 00000128.000000\n",
      "RMA -> 50000\n",
      "WMF00000000000132 -> \n",
      "RMF -> 00000132.000000\n",
      "WMF00000000000132 -> \n",
      "RMF -> 00000132.000000\n",
      "WMF00000000000132 -> \n"
     ]
    },
    {
     "name": "stderr",
     "output_type": "stream",
     "text": [
      "\n",
      "\n",
      " 88%|█████████████████████████████████████▋     | 28/32 [02:44<00:23,  5.86s/it]\u001b[A\u001b[A"
     ]
    },
    {
     "name": "stdout",
     "output_type": "stream",
     "text": [
      "RMF -> 00000132.000000\n",
      "RMA -> 50000\n",
      "WMF00000000000136 -> \n",
      "RMF -> 00000136.000000\n",
      "WMF00000000000136 -> \n",
      "RMF -> 00000136.000000\n",
      "WMF00000000000136 -> \n"
     ]
    },
    {
     "name": "stderr",
     "output_type": "stream",
     "text": [
      "\n",
      "\n",
      " 91%|██████████████████████████████████████▉    | 29/32 [02:50<00:17,  5.87s/it]\u001b[A\u001b[A"
     ]
    },
    {
     "name": "stdout",
     "output_type": "stream",
     "text": [
      "RMF -> 00000136.000000\n",
      "RMA -> 50000\n",
      "WMF00000000000140 -> \n",
      "RMF -> 00000140.000000\n",
      "WMF00000000000140 -> \n",
      "RMF -> 00000140.000000\n",
      "WMF00000000000140 -> \n"
     ]
    },
    {
     "name": "stderr",
     "output_type": "stream",
     "text": [
      "\n",
      "\n",
      " 94%|████████████████████████████████████████▎  | 30/32 [02:56<00:11,  5.86s/it]\u001b[A\u001b[A"
     ]
    },
    {
     "name": "stdout",
     "output_type": "stream",
     "text": [
      "RMF -> 00000140.000000\n",
      "RMA -> 50000\n",
      "WMF00000000000144 -> \n",
      "RMF -> 00000144.000000\n",
      "WMF00000000000144 -> \n",
      "RMF -> 00000144.000000\n",
      "WMF00000000000144 -> \n"
     ]
    },
    {
     "name": "stderr",
     "output_type": "stream",
     "text": [
      "\n",
      "\n",
      " 97%|█████████████████████████████████████████▋ | 31/32 [03:02<00:05,  5.86s/it]\u001b[A\u001b[A"
     ]
    },
    {
     "name": "stdout",
     "output_type": "stream",
     "text": [
      "RMF -> 00000144.000000\n",
      "RMA -> 50000\n",
      "WMF00000000000148 -> \n",
      "RMF -> 00000148.000000\n",
      "WMF00000000000148 -> \n",
      "RMF -> 00000148.000000\n",
      "WMF00000000000148 -> \n"
     ]
    },
    {
     "name": "stderr",
     "output_type": "stream",
     "text": [
      "\n",
      "\n",
      "100%|███████████████████████████████████████████| 32/32 [03:07<00:00,  5.87s/it]\u001b[A\u001b[A\n",
      "\n",
      " 40%|█████████████████▌                          | 2/5 [06:15<09:23, 187.91s/it]\u001b[A\n",
      "\n",
      "  0%|                                                    | 0/32 [00:00<?, ?it/s]\u001b[A\u001b[A"
     ]
    },
    {
     "name": "stdout",
     "output_type": "stream",
     "text": [
      "RMF -> 00000148.000000\n",
      "RMA -> 50000\n",
      "WMF00000000000001 -> \n",
      "WMA6.00 -> \n",
      "RMF -> 00000001.000000\n",
      "RMA -> 60000\n",
      "WMF00000000000001 -> \n",
      "RMF -> 00000001.000000\n",
      "WMF00000000000001 -> \n"
     ]
    },
    {
     "name": "stderr",
     "output_type": "stream",
     "text": [
      "\n",
      "\n",
      "  3%|█▍                                          | 1/32 [00:06<03:08,  6.07s/it]\u001b[A\u001b[A"
     ]
    },
    {
     "name": "stdout",
     "output_type": "stream",
     "text": [
      "RMF -> 00000001.000000\n",
      "RMA -> 60000\n",
      "WMF00000000000002 -> \n",
      "RMF -> 00000002.000000\n",
      "WMF00000000000002 -> \n",
      "RMF -> 00000002.000000\n",
      "WMF00000000000002 -> \n"
     ]
    },
    {
     "name": "stderr",
     "output_type": "stream",
     "text": [
      "\n",
      "\n",
      "  6%|██▊                                         | 2/32 [00:11<02:58,  5.95s/it]\u001b[A\u001b[A"
     ]
    },
    {
     "name": "stdout",
     "output_type": "stream",
     "text": [
      "RMF -> 00000002.000000\n",
      "RMA -> 60000\n",
      "WMF00000000000004 -> \n",
      "RMF -> 00000004.000000\n",
      "WMF00000000000004 -> \n",
      "RMF -> 00000004.000000\n",
      "WMF00000000000004 -> \n"
     ]
    },
    {
     "name": "stderr",
     "output_type": "stream",
     "text": [
      "\n",
      "\n",
      "  9%|████▏                                       | 3/32 [00:17<02:51,  5.91s/it]\u001b[A\u001b[A"
     ]
    },
    {
     "name": "stdout",
     "output_type": "stream",
     "text": [
      "RMF -> 00000004.000000\n",
      "RMA -> 60000\n",
      "WMF00000000000006 -> \n",
      "RMF -> 00000006.000000\n",
      "WMF00000000000006 -> \n",
      "RMF -> 00000006.000000\n",
      "WMF00000000000006 -> \n"
     ]
    },
    {
     "name": "stderr",
     "output_type": "stream",
     "text": [
      "\n",
      "\n",
      " 12%|█████▌                                      | 4/32 [00:23<02:45,  5.89s/it]\u001b[A\u001b[A"
     ]
    },
    {
     "name": "stdout",
     "output_type": "stream",
     "text": [
      "RMF -> 00000006.000000\n",
      "RMA -> 60000\n",
      "WMF00000000000010 -> \n",
      "RMF -> 00000010.000000\n",
      "WMF00000000000010 -> \n",
      "RMF -> 00000010.000000\n",
      "WMF00000000000010 -> \n"
     ]
    },
    {
     "name": "stderr",
     "output_type": "stream",
     "text": [
      "\n",
      "\n",
      " 16%|██████▉                                     | 5/32 [00:29<02:38,  5.88s/it]\u001b[A\u001b[A"
     ]
    },
    {
     "name": "stdout",
     "output_type": "stream",
     "text": [
      "RMF -> 00000010.000000\n",
      "RMA -> 60000\n",
      "WMF00000000000012 -> \n",
      "RMF -> 00000012.000000\n",
      "WMF00000000000012 -> \n",
      "RMF -> 00000012.000000\n",
      "WMF00000000000012 -> \n"
     ]
    },
    {
     "name": "stderr",
     "output_type": "stream",
     "text": [
      "\n",
      "\n",
      " 19%|████████▎                                   | 6/32 [00:35<02:32,  5.88s/it]\u001b[A\u001b[A"
     ]
    },
    {
     "name": "stdout",
     "output_type": "stream",
     "text": [
      "RMF -> 00000012.000000\n",
      "RMA -> 60000\n",
      "WMF00000000000015 -> \n",
      "RMF -> 00000015.000000\n",
      "WMF00000000000015 -> \n",
      "RMF -> 00000015.000000\n",
      "WMF00000000000015 -> \n"
     ]
    },
    {
     "name": "stderr",
     "output_type": "stream",
     "text": [
      "\n",
      "\n",
      " 22%|█████████▋                                  | 7/32 [00:41<02:26,  5.88s/it]\u001b[A\u001b[A"
     ]
    },
    {
     "name": "stdout",
     "output_type": "stream",
     "text": [
      "RMF -> 00000015.000000\n",
      "RMA -> 60000\n",
      "WMF00000000000019 -> \n",
      "RMF -> 00000019.000000\n",
      "WMF00000000000019 -> \n",
      "RMF -> 00000019.000000\n",
      "WMF00000000000019 -> \n"
     ]
    },
    {
     "name": "stderr",
     "output_type": "stream",
     "text": [
      "\n",
      "\n",
      " 25%|███████████                                 | 8/32 [00:47<02:20,  5.87s/it]\u001b[A\u001b[A"
     ]
    },
    {
     "name": "stdout",
     "output_type": "stream",
     "text": [
      "RMF -> 00000019.000000\n",
      "RMA -> 60000\n",
      "WMF00000000000023 -> \n",
      "RMF -> 00000023.000000\n",
      "WMF00000000000023 -> \n",
      "RMF -> 00000023.000000\n",
      "WMF00000000000023 -> \n"
     ]
    },
    {
     "name": "stderr",
     "output_type": "stream",
     "text": [
      "\n",
      "\n",
      " 28%|████████████▍                               | 9/32 [00:52<02:14,  5.87s/it]\u001b[A\u001b[A"
     ]
    },
    {
     "name": "stdout",
     "output_type": "stream",
     "text": [
      "RMF -> 00000023.000000\n",
      "RMA -> 60000\n",
      "WMF00000000000028 -> \n",
      "RMF -> 00000028.000000\n",
      "WMF00000000000028 -> \n",
      "RMF -> 00000028.000000\n",
      "WMF00000000000028 -> \n"
     ]
    },
    {
     "name": "stderr",
     "output_type": "stream",
     "text": [
      "\n",
      "\n",
      " 31%|█████████████▍                             | 10/32 [00:58<02:09,  5.87s/it]\u001b[A\u001b[A"
     ]
    },
    {
     "name": "stdout",
     "output_type": "stream",
     "text": [
      "RMF -> 00000028.000000\n",
      "RMA -> 60000\n",
      "WMF00000000000035 -> \n",
      "RMF -> 00000035.000000\n",
      "WMF00000000000035 -> \n",
      "RMF -> 00000035.000000\n",
      "WMF00000000000035 -> \n"
     ]
    },
    {
     "name": "stderr",
     "output_type": "stream",
     "text": [
      "\n",
      "\n",
      " 34%|██████████████▊                            | 11/32 [01:04<02:03,  5.87s/it]\u001b[A\u001b[A"
     ]
    },
    {
     "name": "stdout",
     "output_type": "stream",
     "text": [
      "RMF -> 00000035.000000\n",
      "RMA -> 60000\n",
      "WMF00000000000043 -> \n",
      "RMF -> 00000043.000000\n",
      "WMF00000000000043 -> \n",
      "RMF -> 00000043.000000\n",
      "WMF00000000000043 -> \n"
     ]
    },
    {
     "name": "stderr",
     "output_type": "stream",
     "text": [
      "\n",
      "\n",
      " 38%|████████████████▏                          | 12/32 [01:10<01:57,  5.87s/it]\u001b[A\u001b[A"
     ]
    },
    {
     "name": "stdout",
     "output_type": "stream",
     "text": [
      "RMF -> 00000043.000000\n",
      "RMA -> 60000\n",
      "WMF00000000000053 -> \n",
      "RMF -> 00000053.000000\n",
      "WMF00000000000053 -> \n",
      "RMF -> 00000053.000000\n",
      "WMF00000000000053 -> \n"
     ]
    },
    {
     "name": "stderr",
     "output_type": "stream",
     "text": [
      "\n",
      "\n",
      " 41%|█████████████████▍                         | 13/32 [01:16<01:51,  5.87s/it]\u001b[A\u001b[A"
     ]
    },
    {
     "name": "stdout",
     "output_type": "stream",
     "text": [
      "RMF -> 00000053.000000\n",
      "RMA -> 60000\n",
      "WMF00000000000065 -> \n",
      "RMF -> 00000065.000000\n",
      "WMF00000000000065 -> \n",
      "RMF -> 00000065.000000\n",
      "WMF00000000000065 -> \n"
     ]
    },
    {
     "name": "stderr",
     "output_type": "stream",
     "text": [
      "\n",
      "\n",
      " 44%|██████████████████▊                        | 14/32 [01:22<01:45,  5.87s/it]\u001b[A\u001b[A"
     ]
    },
    {
     "name": "stdout",
     "output_type": "stream",
     "text": [
      "RMF -> 00000065.000000\n",
      "RMA -> 60000\n",
      "WMF00000000000080 -> \n",
      "RMF -> 00000080.000000\n",
      "WMF00000000000080 -> \n",
      "RMF -> 00000080.000000\n",
      "WMF00000000000080 -> \n"
     ]
    },
    {
     "name": "stderr",
     "output_type": "stream",
     "text": [
      "\n",
      "\n",
      " 47%|████████████████████▏                      | 15/32 [01:28<01:39,  5.87s/it]\u001b[A\u001b[A"
     ]
    },
    {
     "name": "stdout",
     "output_type": "stream",
     "text": [
      "RMF -> 00000080.000000\n",
      "RMA -> 60000\n",
      "WMF00000000000084 -> \n",
      "RMF -> 00000084.000000\n",
      "WMF00000000000084 -> \n",
      "RMF -> 00000084.000000\n",
      "WMF00000000000084 -> \n"
     ]
    },
    {
     "name": "stderr",
     "output_type": "stream",
     "text": [
      "\n",
      "\n",
      " 50%|█████████████████████▌                     | 16/32 [01:34<01:33,  5.86s/it]\u001b[A\u001b[A"
     ]
    },
    {
     "name": "stdout",
     "output_type": "stream",
     "text": [
      "RMF -> 00000084.000000\n",
      "RMA -> 60000\n",
      "WMF00000000000088 -> \n",
      "RMF -> 00000088.000000\n",
      "WMF00000000000088 -> \n",
      "RMF -> 00000088.000000\n",
      "WMF00000000000088 -> \n"
     ]
    },
    {
     "name": "stderr",
     "output_type": "stream",
     "text": [
      "\n",
      "\n",
      " 53%|██████████████████████▊                    | 17/32 [01:39<01:27,  5.86s/it]\u001b[A\u001b[A"
     ]
    },
    {
     "name": "stdout",
     "output_type": "stream",
     "text": [
      "RMF -> 00000088.000000\n",
      "RMA -> 60000\n",
      "WMF00000000000092 -> \n",
      "RMF -> 00000092.000000\n",
      "WMF00000000000092 -> \n",
      "RMF -> 00000092.000000\n",
      "WMF00000000000092 -> \n"
     ]
    },
    {
     "name": "stderr",
     "output_type": "stream",
     "text": [
      "\n",
      "\n",
      " 56%|████████████████████████▏                  | 18/32 [01:45<01:22,  5.86s/it]\u001b[A\u001b[A"
     ]
    },
    {
     "name": "stdout",
     "output_type": "stream",
     "text": [
      "RMF -> 00000092.000000\n",
      "RMA -> 60000\n",
      "WMF00000000000096 -> \n",
      "RMF -> 00000096.000000\n",
      "WMF00000000000096 -> \n",
      "RMF -> 00000096.000000\n",
      "WMF00000000000096 -> \n"
     ]
    },
    {
     "name": "stderr",
     "output_type": "stream",
     "text": [
      "\n",
      "\n",
      " 59%|█████████████████████████▌                 | 19/32 [01:51<01:16,  5.86s/it]\u001b[A\u001b[A"
     ]
    },
    {
     "name": "stdout",
     "output_type": "stream",
     "text": [
      "RMF -> 00000096.000000\n",
      "RMA -> 60000\n",
      "WMF00000000000100 -> \n",
      "RMF -> 00000100.000000\n",
      "WMF00000000000100 -> \n",
      "RMF -> 00000100.000000\n",
      "WMF00000000000100 -> \n"
     ]
    },
    {
     "name": "stderr",
     "output_type": "stream",
     "text": [
      "\n",
      "\n",
      " 62%|██████████████████████████▉                | 20/32 [01:57<01:10,  5.86s/it]\u001b[A\u001b[A"
     ]
    },
    {
     "name": "stdout",
     "output_type": "stream",
     "text": [
      "RMF -> 00000100.000000\n",
      "RMA -> 60000\n",
      "WMF00000000000104 -> \n",
      "RMF -> 00000104.000000\n",
      "WMF00000000000104 -> \n",
      "RMF -> 00000104.000000\n",
      "WMF00000000000104 -> \n"
     ]
    },
    {
     "name": "stderr",
     "output_type": "stream",
     "text": [
      "\n",
      "\n",
      " 66%|████████████████████████████▏              | 21/32 [02:03<01:04,  5.86s/it]\u001b[A\u001b[A"
     ]
    },
    {
     "name": "stdout",
     "output_type": "stream",
     "text": [
      "RMF -> 00000104.000000\n",
      "RMA -> 60000\n",
      "WMF00000000000108 -> \n",
      "RMF -> 00000108.000000\n",
      "WMF00000000000108 -> \n",
      "RMF -> 00000108.000000\n",
      "WMF00000000000108 -> \n"
     ]
    },
    {
     "name": "stderr",
     "output_type": "stream",
     "text": [
      "\n",
      "\n",
      " 69%|█████████████████████████████▌             | 22/32 [02:09<00:58,  5.86s/it]\u001b[A\u001b[A"
     ]
    },
    {
     "name": "stdout",
     "output_type": "stream",
     "text": [
      "RMF -> 00000108.000000\n",
      "RMA -> 60000\n",
      "WMF00000000000112 -> \n",
      "RMF -> 00000112.000000\n",
      "WMF00000000000112 -> \n",
      "RMF -> 00000112.000000\n",
      "WMF00000000000112 -> \n"
     ]
    },
    {
     "name": "stderr",
     "output_type": "stream",
     "text": [
      "\n",
      "\n",
      " 72%|██████████████████████████████▉            | 23/32 [02:15<00:52,  5.86s/it]\u001b[A\u001b[A"
     ]
    },
    {
     "name": "stdout",
     "output_type": "stream",
     "text": [
      "RMF -> 00000112.000000\n",
      "RMA -> 60000\n",
      "WMF00000000000116 -> \n",
      "RMF -> 00000116.000000\n",
      "WMF00000000000116 -> \n",
      "RMF -> 00000116.000000\n",
      "WMF00000000000116 -> \n"
     ]
    },
    {
     "name": "stderr",
     "output_type": "stream",
     "text": [
      "\n",
      "\n",
      " 75%|████████████████████████████████▎          | 24/32 [02:20<00:46,  5.86s/it]\u001b[A\u001b[A"
     ]
    },
    {
     "name": "stdout",
     "output_type": "stream",
     "text": [
      "RMF -> 00000116.000000\n",
      "RMA -> 60000\n",
      "WMF00000000000120 -> \n",
      "RMF -> 00000120.000000\n",
      "WMF00000000000120 -> \n",
      "RMF -> 00000120.000000\n",
      "WMF00000000000120 -> \n"
     ]
    },
    {
     "name": "stderr",
     "output_type": "stream",
     "text": [
      "\n",
      "\n",
      " 78%|█████████████████████████████████▌         | 25/32 [02:26<00:41,  5.86s/it]\u001b[A\u001b[A"
     ]
    },
    {
     "name": "stdout",
     "output_type": "stream",
     "text": [
      "RMF -> 00000120.000000\n",
      "RMA -> 60000\n",
      "WMF00000000000124 -> \n",
      "RMF -> 00000124.000000\n",
      "WMF00000000000124 -> \n",
      "RMF -> 00000124.000000\n",
      "WMF00000000000124 -> \n"
     ]
    },
    {
     "name": "stderr",
     "output_type": "stream",
     "text": [
      "\n",
      "\n",
      " 81%|██████████████████████████████████▉        | 26/32 [02:32<00:35,  5.87s/it]\u001b[A\u001b[A"
     ]
    },
    {
     "name": "stdout",
     "output_type": "stream",
     "text": [
      "RMF -> 00000124.000000\n",
      "RMA -> 60000\n",
      "WMF00000000000128 -> \n",
      "RMF -> 00000128.000000\n",
      "WMF00000000000128 -> \n",
      "RMF -> 00000128.000000\n",
      "WMF00000000000128 -> \n"
     ]
    },
    {
     "name": "stderr",
     "output_type": "stream",
     "text": [
      "\n",
      "\n",
      " 84%|████████████████████████████████████▎      | 27/32 [02:38<00:29,  5.87s/it]\u001b[A\u001b[A"
     ]
    },
    {
     "name": "stdout",
     "output_type": "stream",
     "text": [
      "RMF -> 00000128.000000\n",
      "RMA -> 60000\n",
      "WMF00000000000132 -> \n",
      "RMF -> 00000132.000000\n",
      "WMF00000000000132 -> \n",
      "RMF -> 00000132.000000\n",
      "WMF00000000000132 -> \n"
     ]
    },
    {
     "name": "stderr",
     "output_type": "stream",
     "text": [
      "\n",
      "\n",
      " 88%|█████████████████████████████████████▋     | 28/32 [02:44<00:23,  5.87s/it]\u001b[A\u001b[A"
     ]
    },
    {
     "name": "stdout",
     "output_type": "stream",
     "text": [
      "RMF -> 00000132.000000\n",
      "RMA -> 60000\n",
      "WMF00000000000136 -> \n",
      "RMF -> 00000136.000000\n",
      "WMF00000000000136 -> \n",
      "RMF -> 00000136.000000\n",
      "WMF00000000000136 -> \n"
     ]
    },
    {
     "name": "stderr",
     "output_type": "stream",
     "text": [
      "\n",
      "\n",
      " 91%|██████████████████████████████████████▉    | 29/32 [02:50<00:17,  5.87s/it]\u001b[A\u001b[A"
     ]
    },
    {
     "name": "stdout",
     "output_type": "stream",
     "text": [
      "RMF -> 00000136.000000\n",
      "RMA -> 60000\n",
      "WMF00000000000140 -> \n",
      "RMF -> 00000140.000000\n",
      "WMF00000000000140 -> \n",
      "RMF -> 00000140.000000\n",
      "WMF00000000000140 -> \n"
     ]
    },
    {
     "name": "stderr",
     "output_type": "stream",
     "text": [
      "\n",
      "\n",
      " 94%|████████████████████████████████████████▎  | 30/32 [02:56<00:11,  5.87s/it]\u001b[A\u001b[A"
     ]
    },
    {
     "name": "stdout",
     "output_type": "stream",
     "text": [
      "RMF -> 00000140.000000\n",
      "RMA -> 60000\n",
      "WMF00000000000144 -> \n",
      "RMF -> 00000144.000000\n",
      "WMF00000000000144 -> \n",
      "RMF -> 00000144.000000\n",
      "WMF00000000000144 -> \n"
     ]
    },
    {
     "name": "stderr",
     "output_type": "stream",
     "text": [
      "\n",
      "\n",
      " 97%|█████████████████████████████████████████▋ | 31/32 [03:02<00:05,  5.87s/it]\u001b[A\u001b[A"
     ]
    },
    {
     "name": "stdout",
     "output_type": "stream",
     "text": [
      "RMF -> 00000144.000000\n",
      "RMA -> 60000\n",
      "WMF00000000000148 -> \n",
      "RMF -> 00000148.000000\n",
      "WMF00000000000148 -> \n",
      "RMF -> 00000148.000000\n",
      "WMF00000000000148 -> \n"
     ]
    },
    {
     "name": "stderr",
     "output_type": "stream",
     "text": [
      "\n",
      "\n",
      "100%|███████████████████████████████████████████| 32/32 [03:07<00:00,  5.87s/it]\u001b[A\u001b[A\n",
      "\n",
      " 60%|██████████████████████████▍                 | 3/5 [09:23<06:15, 187.92s/it]\u001b[A\n",
      "\n",
      "  0%|                                                    | 0/32 [00:00<?, ?it/s]\u001b[A\u001b[A"
     ]
    },
    {
     "name": "stdout",
     "output_type": "stream",
     "text": [
      "RMF -> 00000148.000000\n",
      "RMA -> 60000\n",
      "WMF00000000000001 -> \n",
      "WMA10.00 -> \n",
      "RMF -> 00000001.000000\n",
      "RMA -> 100000\n",
      "WMF00000000000001 -> \n",
      "RMF -> 00000001.000000\n",
      "WMF00000000000001 -> \n"
     ]
    },
    {
     "name": "stderr",
     "output_type": "stream",
     "text": [
      "\n",
      "\n",
      "  3%|█▍                                          | 1/32 [00:06<03:07,  6.06s/it]\u001b[A\u001b[A"
     ]
    },
    {
     "name": "stdout",
     "output_type": "stream",
     "text": [
      "RMF -> 00000001.000000\n",
      "RMA -> 100000\n",
      "WMF00000000000002 -> \n",
      "RMF -> 00000002.000000\n",
      "WMF00000000000002 -> \n",
      "RMF -> 00000002.000000\n",
      "WMF00000000000002 -> \n"
     ]
    },
    {
     "name": "stderr",
     "output_type": "stream",
     "text": [
      "\n",
      "\n",
      "  6%|██▊                                         | 2/32 [00:11<02:58,  5.94s/it]\u001b[A\u001b[A"
     ]
    },
    {
     "name": "stdout",
     "output_type": "stream",
     "text": [
      "RMF -> 00000002.000000\n",
      "RMA -> 100000\n",
      "WMF00000000000004 -> \n",
      "RMF -> 00000004.000000\n",
      "WMF00000000000004 -> \n",
      "RMF -> 00000004.000000\n",
      "WMF00000000000004 -> \n"
     ]
    },
    {
     "name": "stderr",
     "output_type": "stream",
     "text": [
      "\n",
      "\n",
      "  9%|████▏                                       | 3/32 [00:17<02:51,  5.91s/it]\u001b[A\u001b[A"
     ]
    },
    {
     "name": "stdout",
     "output_type": "stream",
     "text": [
      "RMF -> 00000004.000000\n",
      "RMA -> 100000\n",
      "WMF00000000000006 -> \n",
      "RMF -> 00000006.000000\n",
      "WMF00000000000006 -> \n",
      "RMF -> 00000006.000000\n",
      "WMF00000000000006 -> \n"
     ]
    },
    {
     "name": "stderr",
     "output_type": "stream",
     "text": [
      "\n",
      "\n",
      " 12%|█████▌                                      | 4/32 [00:23<02:45,  5.89s/it]\u001b[A\u001b[A"
     ]
    },
    {
     "name": "stdout",
     "output_type": "stream",
     "text": [
      "RMF -> 00000006.000000\n",
      "RMA -> 100000\n",
      "WMF00000000000010 -> \n",
      "RMF -> 00000010.000000\n",
      "WMF00000000000010 -> \n",
      "RMF -> 00000010.000000\n",
      "WMF00000000000010 -> \n"
     ]
    },
    {
     "name": "stderr",
     "output_type": "stream",
     "text": [
      "\n",
      "\n",
      " 16%|██████▉                                     | 5/32 [00:29<02:38,  5.88s/it]\u001b[A\u001b[A"
     ]
    },
    {
     "name": "stdout",
     "output_type": "stream",
     "text": [
      "RMF -> 00000010.000000\n",
      "RMA -> 100000\n",
      "WMF00000000000012 -> \n",
      "RMF -> 00000012.000000\n",
      "WMF00000000000012 -> \n",
      "RMF -> 00000012.000000\n",
      "WMF00000000000012 -> \n"
     ]
    },
    {
     "name": "stderr",
     "output_type": "stream",
     "text": [
      "\n",
      "\n",
      " 19%|████████▎                                   | 6/32 [00:35<02:32,  5.87s/it]\u001b[A\u001b[A"
     ]
    },
    {
     "name": "stdout",
     "output_type": "stream",
     "text": [
      "RMF -> 00000012.000000\n",
      "RMA -> 100000\n",
      "WMF00000000000015 -> \n",
      "RMF -> 00000015.000000\n",
      "WMF00000000000015 -> \n",
      "RMF -> 00000015.000000\n",
      "WMF00000000000015 -> \n"
     ]
    },
    {
     "name": "stderr",
     "output_type": "stream",
     "text": [
      "\n",
      "\n",
      " 22%|█████████▋                                  | 7/32 [00:41<02:26,  5.87s/it]\u001b[A\u001b[A"
     ]
    },
    {
     "name": "stdout",
     "output_type": "stream",
     "text": [
      "RMF -> 00000015.000000\n",
      "RMA -> 100000\n",
      "WMF00000000000019 -> \n",
      "RMF -> 00000019.000000\n",
      "WMF00000000000019 -> \n",
      "RMF -> 00000019.000000\n",
      "WMF00000000000019 -> \n"
     ]
    },
    {
     "name": "stderr",
     "output_type": "stream",
     "text": [
      "\n",
      "\n",
      " 25%|███████████                                 | 8/32 [00:47<02:20,  5.87s/it]\u001b[A\u001b[A"
     ]
    },
    {
     "name": "stdout",
     "output_type": "stream",
     "text": [
      "RMF -> 00000019.000000\n",
      "RMA -> 100000\n",
      "WMF00000000000023 -> \n",
      "RMF -> 00000023.000000\n",
      "WMF00000000000023 -> \n",
      "RMF -> 00000023.000000\n",
      "WMF00000000000023 -> \n"
     ]
    },
    {
     "name": "stderr",
     "output_type": "stream",
     "text": [
      "\n",
      "\n",
      " 28%|████████████▍                               | 9/32 [00:52<02:15,  5.87s/it]\u001b[A\u001b[A"
     ]
    },
    {
     "name": "stdout",
     "output_type": "stream",
     "text": [
      "RMF -> 00000023.000000\n",
      "RMA -> 100000\n",
      "WMF00000000000028 -> \n",
      "RMF -> 00000028.000000\n",
      "WMF00000000000028 -> \n",
      "RMF -> 00000028.000000\n",
      "WMF00000000000028 -> \n"
     ]
    },
    {
     "name": "stderr",
     "output_type": "stream",
     "text": [
      "\n",
      "\n",
      " 31%|█████████████▍                             | 10/32 [00:58<02:09,  5.87s/it]\u001b[A\u001b[A"
     ]
    },
    {
     "name": "stdout",
     "output_type": "stream",
     "text": [
      "RMF -> 00000028.000000\n",
      "RMA -> 100000\n",
      "WMF00000000000035 -> \n",
      "RMF -> 00000035.000000\n",
      "WMF00000000000035 -> \n",
      "RMF -> 00000035.000000\n",
      "WMF00000000000035 -> \n"
     ]
    },
    {
     "name": "stderr",
     "output_type": "stream",
     "text": [
      "\n",
      "\n",
      " 34%|██████████████▊                            | 11/32 [01:04<02:03,  5.87s/it]\u001b[A\u001b[A"
     ]
    },
    {
     "name": "stdout",
     "output_type": "stream",
     "text": [
      "RMF -> 00000035.000000\n",
      "RMA -> 100000\n",
      "WMF00000000000043 -> \n",
      "RMF -> 00000043.000000\n",
      "WMF00000000000043 -> \n",
      "RMF -> 00000043.000000\n",
      "WMF00000000000043 -> \n"
     ]
    },
    {
     "name": "stderr",
     "output_type": "stream",
     "text": [
      "\n",
      "\n",
      " 38%|████████████████▏                          | 12/32 [01:10<01:57,  5.87s/it]\u001b[A\u001b[A"
     ]
    },
    {
     "name": "stdout",
     "output_type": "stream",
     "text": [
      "RMF -> 00000043.000000\n",
      "RMA -> 100000\n",
      "WMF00000000000053 -> \n",
      "RMF -> 00000053.000000\n",
      "WMF00000000000053 -> \n",
      "RMF -> 00000053.000000\n",
      "WMF00000000000053 -> \n"
     ]
    },
    {
     "name": "stderr",
     "output_type": "stream",
     "text": [
      "\n",
      "\n",
      " 41%|█████████████████▍                         | 13/32 [01:16<01:51,  5.87s/it]\u001b[A\u001b[A"
     ]
    },
    {
     "name": "stdout",
     "output_type": "stream",
     "text": [
      "RMF -> 00000053.000000\n",
      "RMA -> 100000\n",
      "WMF00000000000065 -> \n",
      "RMF -> 00000065.000000\n",
      "WMF00000000000065 -> \n",
      "RMF -> 00000065.000000\n",
      "WMF00000000000065 -> \n"
     ]
    },
    {
     "name": "stderr",
     "output_type": "stream",
     "text": [
      "\n",
      "\n",
      " 44%|██████████████████▊                        | 14/32 [01:22<01:45,  5.87s/it]\u001b[A\u001b[A"
     ]
    },
    {
     "name": "stdout",
     "output_type": "stream",
     "text": [
      "RMF -> 00000065.000000\n",
      "RMA -> 100000\n",
      "WMF00000000000080 -> \n",
      "RMF -> 00000080.000000\n",
      "WMF00000000000080 -> \n",
      "RMF -> 00000080.000000\n",
      "WMF00000000000080 -> \n"
     ]
    },
    {
     "name": "stderr",
     "output_type": "stream",
     "text": [
      "\n",
      "\n",
      " 47%|████████████████████▏                      | 15/32 [01:28<01:39,  5.87s/it]\u001b[A\u001b[A"
     ]
    },
    {
     "name": "stdout",
     "output_type": "stream",
     "text": [
      "RMF -> 00000080.000000\n",
      "RMA -> 100000\n",
      "WMF00000000000084 -> \n",
      "RMF -> 00000084.000000\n",
      "WMF00000000000084 -> \n",
      "RMF -> 00000084.000000\n",
      "WMF00000000000084 -> \n"
     ]
    },
    {
     "name": "stderr",
     "output_type": "stream",
     "text": [
      "\n",
      "\n",
      " 50%|█████████████████████▌                     | 16/32 [01:34<01:33,  5.86s/it]\u001b[A\u001b[A"
     ]
    },
    {
     "name": "stdout",
     "output_type": "stream",
     "text": [
      "RMF -> 00000084.000000\n",
      "RMA -> 100000\n",
      "WMF00000000000088 -> \n",
      "RMF -> 00000088.000000\n",
      "WMF00000000000088 -> \n",
      "RMF -> 00000088.000000\n",
      "WMF00000000000088 -> \n"
     ]
    },
    {
     "name": "stderr",
     "output_type": "stream",
     "text": [
      "\n",
      "\n",
      " 53%|██████████████████████▊                    | 17/32 [01:39<01:27,  5.86s/it]\u001b[A\u001b[A"
     ]
    },
    {
     "name": "stdout",
     "output_type": "stream",
     "text": [
      "RMF -> 00000088.000000\n",
      "RMA -> 100000\n",
      "WMF00000000000092 -> \n",
      "RMF -> 00000092.000000\n",
      "WMF00000000000092 -> \n",
      "RMF -> 00000092.000000\n",
      "WMF00000000000092 -> \n"
     ]
    },
    {
     "name": "stderr",
     "output_type": "stream",
     "text": [
      "\n",
      "\n",
      " 56%|████████████████████████▏                  | 18/32 [01:45<01:22,  5.86s/it]\u001b[A\u001b[A"
     ]
    },
    {
     "name": "stdout",
     "output_type": "stream",
     "text": [
      "RMF -> 00000092.000000\n",
      "RMA -> 100000\n",
      "WMF00000000000096 -> \n",
      "RMF -> 00000096.000000\n",
      "WMF00000000000096 -> \n",
      "RMF -> 00000096.000000\n",
      "WMF00000000000096 -> \n"
     ]
    },
    {
     "name": "stderr",
     "output_type": "stream",
     "text": [
      "\n",
      "\n",
      " 59%|█████████████████████████▌                 | 19/32 [01:51<01:16,  5.86s/it]\u001b[A\u001b[A"
     ]
    },
    {
     "name": "stdout",
     "output_type": "stream",
     "text": [
      "RMF -> 00000096.000000\n",
      "RMA -> 100000\n",
      "WMF00000000000100 -> \n",
      "RMF -> 00000100.000000\n",
      "WMF00000000000100 -> \n",
      "RMF -> 00000100.000000\n",
      "WMF00000000000100 -> \n"
     ]
    },
    {
     "name": "stderr",
     "output_type": "stream",
     "text": [
      "\n",
      "\n",
      " 62%|██████████████████████████▉                | 20/32 [01:57<01:10,  5.86s/it]\u001b[A\u001b[A"
     ]
    },
    {
     "name": "stdout",
     "output_type": "stream",
     "text": [
      "RMF -> 00000100.000000\n",
      "RMA -> 100000\n",
      "WMF00000000000104 -> \n",
      "RMF -> 00000104.000000\n",
      "WMF00000000000104 -> \n",
      "RMF -> 00000104.000000\n",
      "WMF00000000000104 -> \n"
     ]
    },
    {
     "name": "stderr",
     "output_type": "stream",
     "text": [
      "\n",
      "\n",
      " 66%|████████████████████████████▏              | 21/32 [02:03<01:04,  5.86s/it]\u001b[A\u001b[A"
     ]
    },
    {
     "name": "stdout",
     "output_type": "stream",
     "text": [
      "RMF -> 00000104.000000\n",
      "RMA -> 100000\n",
      "WMF00000000000108 -> \n",
      "RMF -> 00000108.000000\n",
      "WMF00000000000108 -> \n",
      "RMF -> 00000108.000000\n",
      "WMF00000000000108 -> \n"
     ]
    },
    {
     "name": "stderr",
     "output_type": "stream",
     "text": [
      "\n",
      "\n",
      " 69%|█████████████████████████████▌             | 22/32 [02:09<00:58,  5.86s/it]\u001b[A\u001b[A"
     ]
    },
    {
     "name": "stdout",
     "output_type": "stream",
     "text": [
      "RMF -> 00000108.000000\n",
      "RMA -> 100000\n",
      "WMF00000000000112 -> \n",
      "RMF -> 00000112.000000\n",
      "WMF00000000000112 -> \n",
      "RMF -> 00000112.000000\n",
      "WMF00000000000112 -> \n"
     ]
    },
    {
     "name": "stderr",
     "output_type": "stream",
     "text": [
      "\n",
      "\n",
      " 72%|██████████████████████████████▉            | 23/32 [02:15<00:52,  5.86s/it]\u001b[A\u001b[A"
     ]
    },
    {
     "name": "stdout",
     "output_type": "stream",
     "text": [
      "RMF -> 00000112.000000\n",
      "RMA -> 100000\n",
      "WMF00000000000116 -> \n",
      "RMF -> 00000116.000000\n",
      "WMF00000000000116 -> \n",
      "RMF -> 00000116.000000\n",
      "WMF00000000000116 -> \n"
     ]
    },
    {
     "name": "stderr",
     "output_type": "stream",
     "text": [
      "\n",
      "\n",
      " 75%|████████████████████████████████▎          | 24/32 [02:20<00:46,  5.86s/it]\u001b[A\u001b[A"
     ]
    },
    {
     "name": "stdout",
     "output_type": "stream",
     "text": [
      "RMF -> 00000116.000000\n",
      "RMA -> 100000\n",
      "WMF00000000000120 -> \n",
      "RMF -> 00000120.000000\n",
      "WMF00000000000120 -> \n",
      "RMF -> 00000120.000000\n",
      "WMF00000000000120 -> \n"
     ]
    },
    {
     "name": "stderr",
     "output_type": "stream",
     "text": [
      "\n",
      "\n",
      " 78%|█████████████████████████████████▌         | 25/32 [02:26<00:41,  5.86s/it]\u001b[A\u001b[A"
     ]
    },
    {
     "name": "stdout",
     "output_type": "stream",
     "text": [
      "RMF -> 00000120.000000\n",
      "RMA -> 100000\n",
      "WMF00000000000124 -> \n",
      "RMF -> 00000124.000000\n",
      "WMF00000000000124 -> \n",
      "RMF -> 00000124.000000\n",
      "WMF00000000000124 -> \n"
     ]
    },
    {
     "name": "stderr",
     "output_type": "stream",
     "text": [
      "\n",
      "\n",
      " 81%|██████████████████████████████████▉        | 26/32 [02:32<00:35,  5.86s/it]\u001b[A\u001b[A"
     ]
    },
    {
     "name": "stdout",
     "output_type": "stream",
     "text": [
      "RMF -> 00000124.000000\n",
      "RMA -> 100000\n",
      "WMF00000000000128 -> \n",
      "RMF -> 00000128.000000\n",
      "WMF00000000000128 -> \n",
      "RMF -> 00000128.000000\n",
      "WMF00000000000128 -> \n"
     ]
    },
    {
     "name": "stderr",
     "output_type": "stream",
     "text": [
      "\n",
      "\n",
      " 84%|████████████████████████████████████▎      | 27/32 [02:38<00:29,  5.87s/it]\u001b[A\u001b[A"
     ]
    },
    {
     "name": "stdout",
     "output_type": "stream",
     "text": [
      "RMF -> 00000128.000000\n",
      "RMA -> 100000\n",
      "WMF00000000000132 -> \n",
      "RMF -> 00000132.000000\n",
      "WMF00000000000132 -> \n",
      "RMF -> 00000132.000000\n",
      "WMF00000000000132 -> \n"
     ]
    },
    {
     "name": "stderr",
     "output_type": "stream",
     "text": [
      "\n",
      "\n",
      " 88%|█████████████████████████████████████▋     | 28/32 [02:44<00:23,  5.87s/it]\u001b[A\u001b[A"
     ]
    },
    {
     "name": "stdout",
     "output_type": "stream",
     "text": [
      "RMF -> 00000132.000000\n",
      "RMA -> 100000\n",
      "WMF00000000000136 -> \n",
      "RMF -> 00000136.000000\n",
      "WMF00000000000136 -> \n",
      "RMF -> 00000136.000000\n",
      "WMF00000000000136 -> \n"
     ]
    },
    {
     "name": "stderr",
     "output_type": "stream",
     "text": [
      "\n",
      "\n",
      " 91%|██████████████████████████████████████▉    | 29/32 [02:50<00:17,  5.87s/it]\u001b[A\u001b[A"
     ]
    },
    {
     "name": "stdout",
     "output_type": "stream",
     "text": [
      "RMF -> 00000136.000000\n",
      "RMA -> 100000\n",
      "WMF00000000000140 -> \n",
      "RMF -> 00000140.000000\n",
      "WMF00000000000140 -> \n",
      "RMF -> 00000140.000000\n",
      "WMF00000000000140 -> \n"
     ]
    },
    {
     "name": "stderr",
     "output_type": "stream",
     "text": [
      "\n",
      "\n",
      " 94%|████████████████████████████████████████▎  | 30/32 [02:56<00:11,  5.86s/it]\u001b[A\u001b[A"
     ]
    },
    {
     "name": "stdout",
     "output_type": "stream",
     "text": [
      "RMF -> 00000140.000000\n",
      "RMA -> 100000\n",
      "WMF00000000000144 -> \n",
      "RMF -> 00000144.000000\n",
      "WMF00000000000144 -> \n",
      "RMF -> 00000144.000000\n",
      "WMF00000000000144 -> \n"
     ]
    },
    {
     "name": "stderr",
     "output_type": "stream",
     "text": [
      "\n",
      "\n",
      " 97%|█████████████████████████████████████████▋ | 31/32 [03:02<00:05,  5.86s/it]\u001b[A\u001b[A"
     ]
    },
    {
     "name": "stdout",
     "output_type": "stream",
     "text": [
      "RMF -> 00000144.000000\n",
      "RMA -> 100000\n",
      "WMF00000000000148 -> \n",
      "RMF -> 00000148.000000\n",
      "WMF00000000000148 -> \n",
      "RMF -> 00000148.000000\n",
      "WMF00000000000148 -> \n"
     ]
    },
    {
     "name": "stderr",
     "output_type": "stream",
     "text": [
      "\n",
      "\n",
      "100%|███████████████████████████████████████████| 32/32 [03:07<00:00,  5.87s/it]\u001b[A\u001b[A\n",
      "\n",
      " 80%|███████████████████████████████████▏        | 4/5 [12:31<03:07, 187.90s/it]\u001b[A\n",
      "\n",
      "  0%|                                                    | 0/32 [00:00<?, ?it/s]\u001b[A\u001b[A"
     ]
    },
    {
     "name": "stdout",
     "output_type": "stream",
     "text": [
      "RMF -> 00000148.000000\n",
      "RMA -> 100000\n",
      "WMF00000000000001 -> \n",
      "WMA15.00 -> \n",
      "RMF -> 00000001.000000\n",
      "RMA -> 150000\n",
      "WMF00000000000001 -> \n",
      "RMF -> 00000001.000000\n",
      "WMF00000000000001 -> \n"
     ]
    },
    {
     "name": "stderr",
     "output_type": "stream",
     "text": [
      "\n",
      "\n",
      "  3%|█▍                                          | 1/32 [00:06<03:08,  6.07s/it]\u001b[A\u001b[A"
     ]
    },
    {
     "name": "stdout",
     "output_type": "stream",
     "text": [
      "RMF -> 00000001.000000\n",
      "RMA -> 150000\n",
      "WMF00000000000002 -> \n",
      "RMF -> 00000002.000000\n",
      "WMF00000000000002 -> \n",
      "RMF -> 00000002.000000\n",
      "WMF00000000000002 -> \n"
     ]
    },
    {
     "name": "stderr",
     "output_type": "stream",
     "text": [
      "\n",
      "\n",
      "  6%|██▊                                         | 2/32 [00:11<02:58,  5.95s/it]\u001b[A\u001b[A"
     ]
    },
    {
     "name": "stdout",
     "output_type": "stream",
     "text": [
      "RMF -> 00000002.000000\n",
      "RMA -> 150000\n",
      "WMF00000000000004 -> \n",
      "RMF -> 00000004.000000\n",
      "WMF00000000000004 -> \n",
      "RMF -> 00000004.000000\n",
      "WMF00000000000004 -> \n"
     ]
    },
    {
     "name": "stderr",
     "output_type": "stream",
     "text": [
      "\n",
      "\n",
      "  9%|████▏                                       | 3/32 [00:17<02:51,  5.91s/it]\u001b[A\u001b[A"
     ]
    },
    {
     "name": "stdout",
     "output_type": "stream",
     "text": [
      "RMF -> 00000004.000000\n",
      "RMA -> 150000\n",
      "WMF00000000000006 -> \n",
      "RMF -> 00000006.000000\n",
      "WMF00000000000006 -> \n",
      "RMF -> 00000006.000000\n",
      "WMF00000000000006 -> \n"
     ]
    },
    {
     "name": "stderr",
     "output_type": "stream",
     "text": [
      "\n",
      "\n",
      " 12%|█████▌                                      | 4/32 [00:23<02:44,  5.89s/it]\u001b[A\u001b[A"
     ]
    },
    {
     "name": "stdout",
     "output_type": "stream",
     "text": [
      "RMF -> 00000006.000000\n",
      "RMA -> 150000\n",
      "WMF00000000000010 -> \n",
      "RMF -> 00000010.000000\n",
      "WMF00000000000010 -> \n",
      "RMF -> 00000010.000000\n",
      "WMF00000000000010 -> \n"
     ]
    },
    {
     "name": "stderr",
     "output_type": "stream",
     "text": [
      "\n",
      "\n",
      " 16%|██████▉                                     | 5/32 [00:29<02:38,  5.88s/it]\u001b[A\u001b[A"
     ]
    },
    {
     "name": "stdout",
     "output_type": "stream",
     "text": [
      "RMF -> 00000010.000000\n",
      "RMA -> 150000\n",
      "WMF00000000000012 -> \n",
      "RMF -> 00000012.000000\n",
      "WMF00000000000012 -> \n",
      "RMF -> 00000012.000000\n",
      "WMF00000000000012 -> \n"
     ]
    },
    {
     "name": "stderr",
     "output_type": "stream",
     "text": [
      "\n",
      "\n",
      " 19%|████████▎                                   | 6/32 [00:35<02:32,  5.87s/it]\u001b[A\u001b[A"
     ]
    },
    {
     "name": "stdout",
     "output_type": "stream",
     "text": [
      "RMF -> 00000012.000000\n",
      "RMA -> 150000\n",
      "WMF00000000000015 -> \n",
      "RMF -> 00000015.000000\n",
      "WMF00000000000015 -> \n",
      "RMF -> 00000015.000000\n",
      "WMF00000000000015 -> \n"
     ]
    },
    {
     "name": "stderr",
     "output_type": "stream",
     "text": [
      "\n",
      "\n",
      " 22%|█████████▋                                  | 7/32 [00:41<02:26,  5.87s/it]\u001b[A\u001b[A"
     ]
    },
    {
     "name": "stdout",
     "output_type": "stream",
     "text": [
      "RMF -> 00000015.000000\n",
      "RMA -> 150000\n",
      "WMF00000000000019 -> \n",
      "RMF -> 00000019.000000\n",
      "WMF00000000000019 -> \n",
      "RMF -> 00000019.000000\n",
      "WMF00000000000019 -> \n"
     ]
    },
    {
     "name": "stderr",
     "output_type": "stream",
     "text": [
      "\n",
      "\n",
      " 25%|███████████                                 | 8/32 [00:47<02:20,  5.86s/it]\u001b[A\u001b[A"
     ]
    },
    {
     "name": "stdout",
     "output_type": "stream",
     "text": [
      "RMF -> 00000019.000000\n",
      "RMA -> 150000\n",
      "WMF00000000000023 -> \n",
      "RMF -> 00000023.000000\n",
      "WMF00000000000023 -> \n",
      "RMF -> 00000023.000000\n",
      "WMF00000000000023 -> \n"
     ]
    },
    {
     "name": "stderr",
     "output_type": "stream",
     "text": [
      "\n",
      "\n",
      " 28%|████████████▍                               | 9/32 [00:52<02:14,  5.86s/it]\u001b[A\u001b[A"
     ]
    },
    {
     "name": "stdout",
     "output_type": "stream",
     "text": [
      "RMF -> 00000023.000000\n",
      "RMA -> 150000\n",
      "WMF00000000000028 -> \n",
      "RMF -> 00000028.000000\n",
      "WMF00000000000028 -> \n",
      "RMF -> 00000028.000000\n",
      "WMF00000000000028 -> \n"
     ]
    },
    {
     "name": "stderr",
     "output_type": "stream",
     "text": [
      "\n",
      "\n",
      " 31%|█████████████▍                             | 10/32 [00:58<02:08,  5.86s/it]\u001b[A\u001b[A"
     ]
    },
    {
     "name": "stdout",
     "output_type": "stream",
     "text": [
      "RMF -> 00000028.000000\n",
      "RMA -> 150000\n",
      "WMF00000000000035 -> \n",
      "RMF -> 00000035.000000\n",
      "WMF00000000000035 -> \n",
      "RMF -> 00000035.000000\n",
      "WMF00000000000035 -> \n"
     ]
    },
    {
     "name": "stderr",
     "output_type": "stream",
     "text": [
      "\n",
      "\n",
      " 34%|██████████████▊                            | 11/32 [01:04<02:03,  5.86s/it]\u001b[A\u001b[A"
     ]
    },
    {
     "name": "stdout",
     "output_type": "stream",
     "text": [
      "RMF -> 00000035.000000\n",
      "RMA -> 150000\n",
      "WMF00000000000043 -> \n",
      "RMF -> 00000043.000000\n",
      "WMF00000000000043 -> \n",
      "RMF -> 00000043.000000\n",
      "WMF00000000000043 -> \n"
     ]
    },
    {
     "name": "stderr",
     "output_type": "stream",
     "text": [
      "\n",
      "\n",
      " 38%|████████████████▏                          | 12/32 [01:10<01:57,  5.87s/it]\u001b[A\u001b[A"
     ]
    },
    {
     "name": "stdout",
     "output_type": "stream",
     "text": [
      "RMF -> 00000043.000000\n",
      "RMA -> 150000\n",
      "WMF00000000000053 -> \n",
      "RMF -> 00000053.000000\n",
      "WMF00000000000053 -> \n",
      "RMF -> 00000053.000000\n",
      "WMF00000000000053 -> \n"
     ]
    },
    {
     "name": "stderr",
     "output_type": "stream",
     "text": [
      "\n",
      "\n",
      " 41%|█████████████████▍                         | 13/32 [01:16<01:51,  5.87s/it]\u001b[A\u001b[A"
     ]
    },
    {
     "name": "stdout",
     "output_type": "stream",
     "text": [
      "RMF -> 00000053.000000\n",
      "RMA -> 150000\n",
      "WMF00000000000065 -> \n",
      "RMF -> 00000065.000000\n",
      "WMF00000000000065 -> \n",
      "RMF -> 00000065.000000\n",
      "WMF00000000000065 -> \n"
     ]
    },
    {
     "name": "stderr",
     "output_type": "stream",
     "text": [
      "\n",
      "\n",
      " 44%|██████████████████▊                        | 14/32 [01:22<01:45,  5.87s/it]\u001b[A\u001b[A"
     ]
    },
    {
     "name": "stdout",
     "output_type": "stream",
     "text": [
      "RMF -> 00000065.000000\n",
      "RMA -> 150000\n",
      "WMF00000000000080 -> \n",
      "RMF -> 00000080.000000\n",
      "WMF00000000000080 -> \n",
      "RMF -> 00000080.000000\n",
      "WMF00000000000080 -> \n"
     ]
    },
    {
     "name": "stderr",
     "output_type": "stream",
     "text": [
      "\n",
      "\n",
      " 47%|████████████████████▏                      | 15/32 [01:28<01:39,  5.86s/it]\u001b[A\u001b[A"
     ]
    },
    {
     "name": "stdout",
     "output_type": "stream",
     "text": [
      "RMF -> 00000080.000000\n",
      "RMA -> 150000\n",
      "WMF00000000000084 -> \n",
      "RMF -> 00000084.000000\n",
      "WMF00000000000084 -> \n",
      "RMF -> 00000084.000000\n",
      "WMF00000000000084 -> \n"
     ]
    },
    {
     "name": "stderr",
     "output_type": "stream",
     "text": [
      "\n",
      "\n",
      " 50%|█████████████████████▌                     | 16/32 [01:33<01:33,  5.86s/it]\u001b[A\u001b[A"
     ]
    },
    {
     "name": "stdout",
     "output_type": "stream",
     "text": [
      "RMF -> 00000084.000000\n",
      "RMA -> 150000\n",
      "WMF00000000000088 -> \n",
      "RMF -> 00000088.000000\n",
      "WMF00000000000088 -> \n",
      "RMF -> 00000088.000000\n",
      "WMF00000000000088 -> \n"
     ]
    },
    {
     "name": "stderr",
     "output_type": "stream",
     "text": [
      "\n",
      "\n",
      " 53%|██████████████████████▊                    | 17/32 [01:39<01:27,  5.86s/it]\u001b[A\u001b[A"
     ]
    },
    {
     "name": "stdout",
     "output_type": "stream",
     "text": [
      "RMF -> 00000088.000000\n",
      "RMA -> 150000\n",
      "WMF00000000000092 -> \n",
      "RMF -> 00000092.000000\n",
      "WMF00000000000092 -> \n",
      "RMF -> 00000092.000000\n",
      "WMF00000000000092 -> \n"
     ]
    },
    {
     "name": "stderr",
     "output_type": "stream",
     "text": [
      "\n",
      "\n",
      " 56%|████████████████████████▏                  | 18/32 [01:45<01:22,  5.86s/it]\u001b[A\u001b[A"
     ]
    },
    {
     "name": "stdout",
     "output_type": "stream",
     "text": [
      "RMF -> 00000092.000000\n",
      "RMA -> 150000\n",
      "WMF00000000000096 -> \n",
      "RMF -> 00000096.000000\n",
      "WMF00000000000096 -> \n",
      "RMF -> 00000096.000000\n",
      "WMF00000000000096 -> \n"
     ]
    },
    {
     "name": "stderr",
     "output_type": "stream",
     "text": [
      "\n",
      "\n",
      " 59%|█████████████████████████▌                 | 19/32 [01:51<01:16,  5.86s/it]\u001b[A\u001b[A"
     ]
    },
    {
     "name": "stdout",
     "output_type": "stream",
     "text": [
      "RMF -> 00000096.000000\n",
      "RMA -> 150000\n",
      "WMF00000000000100 -> \n",
      "RMF -> 00000100.000000\n",
      "WMF00000000000100 -> \n",
      "RMF -> 00000100.000000\n",
      "WMF00000000000100 -> \n"
     ]
    },
    {
     "name": "stderr",
     "output_type": "stream",
     "text": [
      "\n",
      "\n",
      " 62%|██████████████████████████▉                | 20/32 [01:57<01:10,  5.86s/it]\u001b[A\u001b[A"
     ]
    },
    {
     "name": "stdout",
     "output_type": "stream",
     "text": [
      "RMF -> 00000100.000000\n",
      "RMA -> 150000\n",
      "WMF00000000000104 -> \n",
      "RMF -> 00000104.000000\n",
      "WMF00000000000104 -> \n",
      "RMF -> 00000104.000000\n",
      "WMF00000000000104 -> \n"
     ]
    },
    {
     "name": "stderr",
     "output_type": "stream",
     "text": [
      "\n",
      "\n",
      " 66%|████████████████████████████▏              | 21/32 [02:03<01:04,  5.86s/it]\u001b[A\u001b[A"
     ]
    },
    {
     "name": "stdout",
     "output_type": "stream",
     "text": [
      "RMF -> 00000104.000000\n",
      "RMA -> 150000\n",
      "WMF00000000000108 -> \n",
      "RMF -> 00000108.000000\n",
      "WMF00000000000108 -> \n",
      "RMF -> 00000108.000000\n",
      "WMF00000000000108 -> \n"
     ]
    },
    {
     "name": "stderr",
     "output_type": "stream",
     "text": [
      "\n",
      "\n",
      " 69%|█████████████████████████████▌             | 22/32 [02:09<00:58,  5.86s/it]\u001b[A\u001b[A"
     ]
    },
    {
     "name": "stdout",
     "output_type": "stream",
     "text": [
      "RMF -> 00000108.000000\n",
      "RMA -> 150000\n",
      "WMF00000000000112 -> \n",
      "RMF -> 00000112.000000\n",
      "WMF00000000000112 -> \n",
      "RMF -> 00000112.000000\n",
      "WMF00000000000112 -> \n"
     ]
    },
    {
     "name": "stderr",
     "output_type": "stream",
     "text": [
      "\n",
      "\n",
      " 72%|██████████████████████████████▉            | 23/32 [02:15<00:52,  5.86s/it]\u001b[A\u001b[A"
     ]
    },
    {
     "name": "stdout",
     "output_type": "stream",
     "text": [
      "RMF -> 00000112.000000\n",
      "RMA -> 150000\n",
      "WMF00000000000116 -> \n",
      "RMF -> 00000116.000000\n",
      "WMF00000000000116 -> \n",
      "RMF -> 00000116.000000\n",
      "WMF00000000000116 -> \n"
     ]
    },
    {
     "name": "stderr",
     "output_type": "stream",
     "text": [
      "\n",
      "\n",
      " 75%|████████████████████████████████▎          | 24/32 [02:20<00:46,  5.86s/it]\u001b[A\u001b[A"
     ]
    },
    {
     "name": "stdout",
     "output_type": "stream",
     "text": [
      "RMF -> 00000116.000000\n",
      "RMA -> 150000\n",
      "WMF00000000000120 -> \n",
      "RMF -> 00000120.000000\n",
      "WMF00000000000120 -> \n",
      "RMF -> 00000120.000000\n",
      "WMF00000000000120 -> \n"
     ]
    },
    {
     "name": "stderr",
     "output_type": "stream",
     "text": [
      "\n",
      "\n",
      " 78%|█████████████████████████████████▌         | 25/32 [02:26<00:41,  5.86s/it]\u001b[A\u001b[A"
     ]
    },
    {
     "name": "stdout",
     "output_type": "stream",
     "text": [
      "RMF -> 00000120.000000\n",
      "RMA -> 150000\n",
      "WMF00000000000124 -> \n",
      "RMF -> 00000124.000000\n",
      "WMF00000000000124 -> \n",
      "RMF -> 00000124.000000\n",
      "WMF00000000000124 -> \n"
     ]
    },
    {
     "name": "stderr",
     "output_type": "stream",
     "text": [
      "\n",
      "\n",
      " 81%|██████████████████████████████████▉        | 26/32 [02:32<00:35,  5.86s/it]\u001b[A\u001b[A"
     ]
    },
    {
     "name": "stdout",
     "output_type": "stream",
     "text": [
      "RMF -> 00000124.000000\n",
      "RMA -> 150000\n",
      "WMF00000000000128 -> \n",
      "RMF -> 00000128.000000\n",
      "WMF00000000000128 -> \n",
      "RMF -> 00000128.000000\n",
      "WMF00000000000128 -> \n"
     ]
    },
    {
     "name": "stderr",
     "output_type": "stream",
     "text": [
      "\n",
      "\n",
      " 84%|████████████████████████████████████▎      | 27/32 [02:38<00:29,  5.86s/it]\u001b[A\u001b[A"
     ]
    },
    {
     "name": "stdout",
     "output_type": "stream",
     "text": [
      "RMF -> 00000128.000000\n",
      "RMA -> 150000\n",
      "WMF00000000000132 -> \n",
      "RMF -> 00000132.000000\n",
      "WMF00000000000132 -> \n",
      "RMF -> 00000132.000000\n",
      "WMF00000000000132 -> \n"
     ]
    },
    {
     "name": "stderr",
     "output_type": "stream",
     "text": [
      "\n",
      "\n",
      " 88%|█████████████████████████████████████▋     | 28/32 [02:44<00:23,  5.86s/it]\u001b[A\u001b[A"
     ]
    },
    {
     "name": "stdout",
     "output_type": "stream",
     "text": [
      "RMF -> 00000132.000000\n",
      "RMA -> 150000\n",
      "WMF00000000000136 -> \n",
      "RMF -> 00000136.000000\n",
      "WMF00000000000136 -> \n",
      "RMF -> 00000136.000000\n",
      "WMF00000000000136 -> \n"
     ]
    },
    {
     "name": "stderr",
     "output_type": "stream",
     "text": [
      "\n",
      "\n",
      " 91%|██████████████████████████████████████▉    | 29/32 [02:50<00:17,  5.86s/it]\u001b[A\u001b[A"
     ]
    },
    {
     "name": "stdout",
     "output_type": "stream",
     "text": [
      "RMF -> 00000136.000000\n",
      "RMA -> 150000\n",
      "WMF00000000000140 -> \n",
      "RMF -> 00000140.000000\n",
      "WMF00000000000140 -> \n",
      "RMF -> 00000140.000000\n",
      "WMF00000000000140 -> \n"
     ]
    },
    {
     "name": "stderr",
     "output_type": "stream",
     "text": [
      "\n",
      "\n",
      " 94%|████████████████████████████████████████▎  | 30/32 [02:56<00:11,  5.86s/it]\u001b[A\u001b[A"
     ]
    },
    {
     "name": "stdout",
     "output_type": "stream",
     "text": [
      "RMF -> 00000140.000000\n",
      "RMA -> 150000\n",
      "WMF00000000000144 -> \n",
      "RMF -> 00000144.000000\n",
      "WMF00000000000144 -> \n",
      "RMF -> 00000144.000000\n",
      "WMF00000000000144 -> \n"
     ]
    },
    {
     "name": "stderr",
     "output_type": "stream",
     "text": [
      "\n",
      "\n",
      " 97%|█████████████████████████████████████████▋ | 31/32 [03:01<00:05,  5.86s/it]\u001b[A\u001b[A"
     ]
    },
    {
     "name": "stdout",
     "output_type": "stream",
     "text": [
      "RMF -> 00000144.000000\n",
      "RMA -> 150000\n",
      "WMF00000000000148 -> \n",
      "RMF -> 00000148.000000\n",
      "WMF00000000000148 -> \n",
      "RMF -> 00000148.000000\n",
      "WMF00000000000148 -> \n"
     ]
    },
    {
     "name": "stderr",
     "output_type": "stream",
     "text": [
      "\n",
      "\n",
      "100%|███████████████████████████████████████████| 32/32 [03:07<00:00,  5.87s/it]\u001b[A\u001b[A\n",
      "\n",
      "100%|████████████████████████████████████████████| 5/5 [15:39<00:00, 187.89s/it]\u001b[A\n"
     ]
    },
    {
     "name": "stdout",
     "output_type": "stream",
     "text": [
      "RMN -> 255\n",
      "WMN0 -> \n",
      "RMN -> 0\n"
     ]
    },
    {
     "data": {
      "text/plain": [
       "[{'datetime': datetime.datetime(2024, 6, 30, 22, 3, 8, 742834),\n",
       "  'amplitude': np.float64(4.5),\n",
       "  'frequencies': np.float64(1.0),\n",
       "  'RPM1': '13',\n",
       "  'RPM2': '9',\n",
       "  'RPM3': '9',\n",
       "  'RPM4': '9',\n",
       "  'RPM5': '9'},\n",
       " {'datetime': datetime.datetime(2024, 6, 30, 22, 3, 14, 809333),\n",
       "  'amplitude': np.float64(4.5),\n",
       "  'frequencies': np.float64(2.0),\n",
       "  'RPM1': '33',\n",
       "  'RPM2': '33',\n",
       "  'RPM3': '19',\n",
       "  'RPM4': '19',\n",
       "  'RPM5': '19'},\n",
       " {'datetime': datetime.datetime(2024, 6, 30, 22, 3, 20, 676530),\n",
       "  'amplitude': np.float64(4.5),\n",
       "  'frequencies': np.float64(4.0),\n",
       "  'RPM1': '43',\n",
       "  'RPM2': '39',\n",
       "  'RPM3': '39',\n",
       "  'RPM4': '39',\n",
       "  'RPM5': '39'},\n",
       " {'datetime': datetime.datetime(2024, 6, 30, 22, 3, 26, 537270),\n",
       "  'amplitude': np.float64(4.5),\n",
       "  'frequencies': np.float64(6.0),\n",
       "  'RPM1': '59',\n",
       "  'RPM2': '59',\n",
       "  'RPM3': '59',\n",
       "  'RPM4': '59',\n",
       "  'RPM5': '59'},\n",
       " {'datetime': datetime.datetime(2024, 6, 30, 22, 3, 32, 405925),\n",
       "  'amplitude': np.float64(4.5),\n",
       "  'frequencies': np.float64(10.0),\n",
       "  'RPM1': '99',\n",
       "  'RPM2': '99',\n",
       "  'RPM3': '99',\n",
       "  'RPM4': '99',\n",
       "  'RPM5': '99'},\n",
       " {'datetime': datetime.datetime(2024, 6, 30, 22, 3, 38, 273071),\n",
       "  'amplitude': np.float64(4.5),\n",
       "  'frequencies': np.float64(12.0),\n",
       "  'RPM1': '119',\n",
       "  'RPM2': '119',\n",
       "  'RPM3': '119',\n",
       "  'RPM4': '119',\n",
       "  'RPM5': '119'},\n",
       " {'datetime': datetime.datetime(2024, 6, 30, 22, 3, 44, 136235),\n",
       "  'amplitude': np.float64(4.5),\n",
       "  'frequencies': np.float64(15.0),\n",
       "  'RPM1': '149',\n",
       "  'RPM2': '149',\n",
       "  'RPM3': '149',\n",
       "  'RPM4': '149',\n",
       "  'RPM5': '149'},\n",
       " {'datetime': datetime.datetime(2024, 6, 30, 22, 3, 49, 991906),\n",
       "  'amplitude': np.float64(4.5),\n",
       "  'frequencies': np.float64(19.0),\n",
       "  'RPM1': '189',\n",
       "  'RPM2': '189',\n",
       "  'RPM3': '189',\n",
       "  'RPM4': '189',\n",
       "  'RPM5': '189'},\n",
       " {'datetime': datetime.datetime(2024, 6, 30, 22, 3, 55, 856881),\n",
       "  'amplitude': np.float64(4.5),\n",
       "  'frequencies': np.float64(23.0),\n",
       "  'RPM1': '172',\n",
       "  'RPM2': '229',\n",
       "  'RPM3': '200',\n",
       "  'RPM4': '229',\n",
       "  'RPM5': '200'},\n",
       " {'datetime': datetime.datetime(2024, 6, 30, 22, 4, 1, 712002),\n",
       "  'amplitude': np.float64(4.5),\n",
       "  'frequencies': np.float64(28.0),\n",
       "  'RPM1': '0',\n",
       "  'RPM2': '0',\n",
       "  'RPM3': '0',\n",
       "  'RPM4': '0',\n",
       "  'RPM5': '0'},\n",
       " {'datetime': datetime.datetime(2024, 6, 30, 22, 4, 7, 582373),\n",
       "  'amplitude': np.float64(4.5),\n",
       "  'frequencies': np.float64(35.0),\n",
       "  'RPM1': '0',\n",
       "  'RPM2': '0',\n",
       "  'RPM3': '0',\n",
       "  'RPM4': '0',\n",
       "  'RPM5': '0'},\n",
       " {'datetime': datetime.datetime(2024, 6, 30, 22, 4, 13, 456064),\n",
       "  'amplitude': np.float64(4.5),\n",
       "  'frequencies': np.float64(43.0),\n",
       "  'RPM1': '0',\n",
       "  'RPM2': '0',\n",
       "  'RPM3': '0',\n",
       "  'RPM4': '0',\n",
       "  'RPM5': '0'},\n",
       " {'datetime': datetime.datetime(2024, 6, 30, 22, 4, 19, 330581),\n",
       "  'amplitude': np.float64(4.5),\n",
       "  'frequencies': np.float64(53.0),\n",
       "  'RPM1': '0',\n",
       "  'RPM2': '0',\n",
       "  'RPM3': '0',\n",
       "  'RPM4': '0',\n",
       "  'RPM5': '0'},\n",
       " {'datetime': datetime.datetime(2024, 6, 30, 22, 4, 25, 204625),\n",
       "  'amplitude': np.float64(4.5),\n",
       "  'frequencies': np.float64(65.0),\n",
       "  'RPM1': '0',\n",
       "  'RPM2': '0',\n",
       "  'RPM3': '0',\n",
       "  'RPM4': '0',\n",
       "  'RPM5': '0'},\n",
       " {'datetime': datetime.datetime(2024, 6, 30, 22, 4, 31, 74336),\n",
       "  'amplitude': np.float64(4.5),\n",
       "  'frequencies': np.float64(80.0),\n",
       "  'RPM1': '0',\n",
       "  'RPM2': '0',\n",
       "  'RPM3': '0',\n",
       "  'RPM4': '0',\n",
       "  'RPM5': '0'},\n",
       " {'datetime': datetime.datetime(2024, 6, 30, 22, 4, 36, 941706),\n",
       "  'amplitude': np.float64(4.5),\n",
       "  'frequencies': np.float64(84.0),\n",
       "  'RPM1': '0',\n",
       "  'RPM2': '0',\n",
       "  'RPM3': '0',\n",
       "  'RPM4': '0',\n",
       "  'RPM5': '0'},\n",
       " {'datetime': datetime.datetime(2024, 6, 30, 22, 4, 42, 808656),\n",
       "  'amplitude': np.float64(4.5),\n",
       "  'frequencies': np.float64(88.0),\n",
       "  'RPM1': '0',\n",
       "  'RPM2': '0',\n",
       "  'RPM3': '0',\n",
       "  'RPM4': '0',\n",
       "  'RPM5': '0'},\n",
       " {'datetime': datetime.datetime(2024, 6, 30, 22, 4, 48, 673641),\n",
       "  'amplitude': np.float64(4.5),\n",
       "  'frequencies': np.float64(92.0),\n",
       "  'RPM1': '0',\n",
       "  'RPM2': '0',\n",
       "  'RPM3': '0',\n",
       "  'RPM4': '0',\n",
       "  'RPM5': '0'},\n",
       " {'datetime': datetime.datetime(2024, 6, 30, 22, 4, 54, 532360),\n",
       "  'amplitude': np.float64(4.5),\n",
       "  'frequencies': np.float64(96.0),\n",
       "  'RPM1': '0',\n",
       "  'RPM2': '0',\n",
       "  'RPM3': '0',\n",
       "  'RPM4': '0',\n",
       "  'RPM5': '0'},\n",
       " {'datetime': datetime.datetime(2024, 6, 30, 22, 5, 0, 392177),\n",
       "  'amplitude': np.float64(4.5),\n",
       "  'frequencies': np.float64(100.0),\n",
       "  'RPM1': '0',\n",
       "  'RPM2': '0',\n",
       "  'RPM3': '0',\n",
       "  'RPM4': '0',\n",
       "  'RPM5': '0'},\n",
       " {'datetime': datetime.datetime(2024, 6, 30, 22, 5, 6, 263155),\n",
       "  'amplitude': np.float64(4.5),\n",
       "  'frequencies': np.float64(104.0),\n",
       "  'RPM1': '0',\n",
       "  'RPM2': '0',\n",
       "  'RPM3': '0',\n",
       "  'RPM4': '0',\n",
       "  'RPM5': '0'},\n",
       " {'datetime': datetime.datetime(2024, 6, 30, 22, 5, 12, 121617),\n",
       "  'amplitude': np.float64(4.5),\n",
       "  'frequencies': np.float64(108.0),\n",
       "  'RPM1': '0',\n",
       "  'RPM2': '0',\n",
       "  'RPM3': '0',\n",
       "  'RPM4': '0',\n",
       "  'RPM5': '0'},\n",
       " {'datetime': datetime.datetime(2024, 6, 30, 22, 5, 17, 990800),\n",
       "  'amplitude': np.float64(4.5),\n",
       "  'frequencies': np.float64(112.0),\n",
       "  'RPM1': '0',\n",
       "  'RPM2': '0',\n",
       "  'RPM3': '0',\n",
       "  'RPM4': '0',\n",
       "  'RPM5': '0'},\n",
       " {'datetime': datetime.datetime(2024, 6, 30, 22, 5, 23, 856224),\n",
       "  'amplitude': np.float64(4.5),\n",
       "  'frequencies': np.float64(116.0),\n",
       "  'RPM1': '0',\n",
       "  'RPM2': '0',\n",
       "  'RPM3': '0',\n",
       "  'RPM4': '0',\n",
       "  'RPM5': '0'},\n",
       " {'datetime': datetime.datetime(2024, 6, 30, 22, 5, 29, 721674),\n",
       "  'amplitude': np.float64(4.5),\n",
       "  'frequencies': np.float64(120.0),\n",
       "  'RPM1': '0',\n",
       "  'RPM2': '0',\n",
       "  'RPM3': '0',\n",
       "  'RPM4': '0',\n",
       "  'RPM5': '0'},\n",
       " {'datetime': datetime.datetime(2024, 6, 30, 22, 5, 35, 581453),\n",
       "  'amplitude': np.float64(4.5),\n",
       "  'frequencies': np.float64(124.0),\n",
       "  'RPM1': '0',\n",
       "  'RPM2': '0',\n",
       "  'RPM3': '0',\n",
       "  'RPM4': '0',\n",
       "  'RPM5': '0'},\n",
       " {'datetime': datetime.datetime(2024, 6, 30, 22, 5, 41, 445301),\n",
       "  'amplitude': np.float64(4.5),\n",
       "  'frequencies': np.float64(128.0),\n",
       "  'RPM1': '0',\n",
       "  'RPM2': '0',\n",
       "  'RPM3': '0',\n",
       "  'RPM4': '0',\n",
       "  'RPM5': '0'},\n",
       " {'datetime': datetime.datetime(2024, 6, 30, 22, 5, 47, 305986),\n",
       "  'amplitude': np.float64(4.5),\n",
       "  'frequencies': np.float64(132.0),\n",
       "  'RPM1': '0',\n",
       "  'RPM2': '0',\n",
       "  'RPM3': '0',\n",
       "  'RPM4': '0',\n",
       "  'RPM5': '0'},\n",
       " {'datetime': datetime.datetime(2024, 6, 30, 22, 5, 53, 174959),\n",
       "  'amplitude': np.float64(4.5),\n",
       "  'frequencies': np.float64(136.0),\n",
       "  'RPM1': '0',\n",
       "  'RPM2': '0',\n",
       "  'RPM3': '0',\n",
       "  'RPM4': '0',\n",
       "  'RPM5': '0'},\n",
       " {'datetime': datetime.datetime(2024, 6, 30, 22, 5, 59, 40446),\n",
       "  'amplitude': np.float64(4.5),\n",
       "  'frequencies': np.float64(140.0),\n",
       "  'RPM1': '0',\n",
       "  'RPM2': '0',\n",
       "  'RPM3': '0',\n",
       "  'RPM4': '0',\n",
       "  'RPM5': '0'},\n",
       " {'datetime': datetime.datetime(2024, 6, 30, 22, 6, 4, 911814),\n",
       "  'amplitude': np.float64(4.5),\n",
       "  'frequencies': np.float64(144.0),\n",
       "  'RPM1': '0',\n",
       "  'RPM2': '0',\n",
       "  'RPM3': '0',\n",
       "  'RPM4': '0',\n",
       "  'RPM5': '0'},\n",
       " {'datetime': datetime.datetime(2024, 6, 30, 22, 6, 10, 784829),\n",
       "  'amplitude': np.float64(4.5),\n",
       "  'frequencies': np.float64(148.0),\n",
       "  'RPM1': '0',\n",
       "  'RPM2': '0',\n",
       "  'RPM3': '0',\n",
       "  'RPM4': '0',\n",
       "  'RPM5': '0'},\n",
       " {'datetime': datetime.datetime(2024, 6, 30, 22, 6, 16, 667804),\n",
       "  'amplitude': np.float64(5.0),\n",
       "  'frequencies': np.float64(1.0),\n",
       "  'RPM1': '31',\n",
       "  'RPM2': '26',\n",
       "  'RPM3': '26',\n",
       "  'RPM4': '9',\n",
       "  'RPM5': '9'},\n",
       " {'datetime': datetime.datetime(2024, 6, 30, 22, 6, 22, 736618),\n",
       "  'amplitude': np.float64(5.0),\n",
       "  'frequencies': np.float64(2.0),\n",
       "  'RPM1': '35',\n",
       "  'RPM2': '26',\n",
       "  'RPM3': '19',\n",
       "  'RPM4': '19',\n",
       "  'RPM5': '19'},\n",
       " {'datetime': datetime.datetime(2024, 6, 30, 22, 6, 28, 613960),\n",
       "  'amplitude': np.float64(5.0),\n",
       "  'frequencies': np.float64(4.0),\n",
       "  'RPM1': '43',\n",
       "  'RPM2': '39',\n",
       "  'RPM3': '39',\n",
       "  'RPM4': '39',\n",
       "  'RPM5': '39'},\n",
       " {'datetime': datetime.datetime(2024, 6, 30, 22, 6, 34, 472779),\n",
       "  'amplitude': np.float64(5.0),\n",
       "  'frequencies': np.float64(6.0),\n",
       "  'RPM1': '59',\n",
       "  'RPM2': '59',\n",
       "  'RPM3': '59',\n",
       "  'RPM4': '59',\n",
       "  'RPM5': '59'},\n",
       " {'datetime': datetime.datetime(2024, 6, 30, 22, 6, 40, 342700),\n",
       "  'amplitude': np.float64(5.0),\n",
       "  'frequencies': np.float64(10.0),\n",
       "  'RPM1': '99',\n",
       "  'RPM2': '99',\n",
       "  'RPM3': '99',\n",
       "  'RPM4': '99',\n",
       "  'RPM5': '99'},\n",
       " {'datetime': datetime.datetime(2024, 6, 30, 22, 6, 46, 212260),\n",
       "  'amplitude': np.float64(5.0),\n",
       "  'frequencies': np.float64(12.0),\n",
       "  'RPM1': '119',\n",
       "  'RPM2': '119',\n",
       "  'RPM3': '119',\n",
       "  'RPM4': '119',\n",
       "  'RPM5': '119'},\n",
       " {'datetime': datetime.datetime(2024, 6, 30, 22, 6, 52, 68243),\n",
       "  'amplitude': np.float64(5.0),\n",
       "  'frequencies': np.float64(15.0),\n",
       "  'RPM1': '149',\n",
       "  'RPM2': '149',\n",
       "  'RPM3': '149',\n",
       "  'RPM4': '149',\n",
       "  'RPM5': '149'},\n",
       " {'datetime': datetime.datetime(2024, 6, 30, 22, 6, 57, 930179),\n",
       "  'amplitude': np.float64(5.0),\n",
       "  'frequencies': np.float64(19.0),\n",
       "  'RPM1': '191',\n",
       "  'RPM2': '191',\n",
       "  'RPM3': '191',\n",
       "  'RPM4': '191',\n",
       "  'RPM5': '191'},\n",
       " {'datetime': datetime.datetime(2024, 6, 30, 22, 7, 3, 798374),\n",
       "  'amplitude': np.float64(5.0),\n",
       "  'frequencies': np.float64(23.0),\n",
       "  'RPM1': '229',\n",
       "  'RPM2': '229',\n",
       "  'RPM3': '229',\n",
       "  'RPM4': '229',\n",
       "  'RPM5': '229'},\n",
       " {'datetime': datetime.datetime(2024, 6, 30, 22, 7, 9, 675376),\n",
       "  'amplitude': np.float64(5.0),\n",
       "  'frequencies': np.float64(28.0),\n",
       "  'RPM1': '279',\n",
       "  'RPM2': '279',\n",
       "  'RPM3': '279',\n",
       "  'RPM4': '279',\n",
       "  'RPM5': '279'},\n",
       " {'datetime': datetime.datetime(2024, 6, 30, 22, 7, 15, 537425),\n",
       "  'amplitude': np.float64(5.0),\n",
       "  'frequencies': np.float64(35.0),\n",
       "  'RPM1': '349',\n",
       "  'RPM2': '349',\n",
       "  'RPM3': '349',\n",
       "  'RPM4': '349',\n",
       "  'RPM5': '349'},\n",
       " {'datetime': datetime.datetime(2024, 6, 30, 22, 7, 21, 398971),\n",
       "  'amplitude': np.float64(5.0),\n",
       "  'frequencies': np.float64(43.0),\n",
       "  'RPM1': '349',\n",
       "  'RPM2': '0',\n",
       "  'RPM3': '0',\n",
       "  'RPM4': '0',\n",
       "  'RPM5': '0'},\n",
       " {'datetime': datetime.datetime(2024, 6, 30, 22, 7, 27, 270509),\n",
       "  'amplitude': np.float64(5.0),\n",
       "  'frequencies': np.float64(53.0),\n",
       "  'RPM1': '0',\n",
       "  'RPM2': '0',\n",
       "  'RPM3': '0',\n",
       "  'RPM4': '0',\n",
       "  'RPM5': '0'},\n",
       " {'datetime': datetime.datetime(2024, 6, 30, 22, 7, 33, 132269),\n",
       "  'amplitude': np.float64(5.0),\n",
       "  'frequencies': np.float64(65.0),\n",
       "  'RPM1': '0',\n",
       "  'RPM2': '0',\n",
       "  'RPM3': '0',\n",
       "  'RPM4': '0',\n",
       "  'RPM5': '0'},\n",
       " {'datetime': datetime.datetime(2024, 6, 30, 22, 7, 39, 3107),\n",
       "  'amplitude': np.float64(5.0),\n",
       "  'frequencies': np.float64(80.0),\n",
       "  'RPM1': '0',\n",
       "  'RPM2': '0',\n",
       "  'RPM3': '0',\n",
       "  'RPM4': '0',\n",
       "  'RPM5': '0'},\n",
       " {'datetime': datetime.datetime(2024, 6, 30, 22, 7, 44, 864189),\n",
       "  'amplitude': np.float64(5.0),\n",
       "  'frequencies': np.float64(84.0),\n",
       "  'RPM1': '0',\n",
       "  'RPM2': '0',\n",
       "  'RPM3': '0',\n",
       "  'RPM4': '0',\n",
       "  'RPM5': '0'},\n",
       " {'datetime': datetime.datetime(2024, 6, 30, 22, 7, 50, 727074),\n",
       "  'amplitude': np.float64(5.0),\n",
       "  'frequencies': np.float64(88.0),\n",
       "  'RPM1': '0',\n",
       "  'RPM2': '0',\n",
       "  'RPM3': '0',\n",
       "  'RPM4': '0',\n",
       "  'RPM5': '0'},\n",
       " {'datetime': datetime.datetime(2024, 6, 30, 22, 7, 56, 588485),\n",
       "  'amplitude': np.float64(5.0),\n",
       "  'frequencies': np.float64(92.0),\n",
       "  'RPM1': '0',\n",
       "  'RPM2': '0',\n",
       "  'RPM3': '0',\n",
       "  'RPM4': '0',\n",
       "  'RPM5': '0'},\n",
       " {'datetime': datetime.datetime(2024, 6, 30, 22, 8, 2, 448206),\n",
       "  'amplitude': np.float64(5.0),\n",
       "  'frequencies': np.float64(96.0),\n",
       "  'RPM1': '0',\n",
       "  'RPM2': '0',\n",
       "  'RPM3': '0',\n",
       "  'RPM4': '0',\n",
       "  'RPM5': '0'},\n",
       " {'datetime': datetime.datetime(2024, 6, 30, 22, 8, 8, 320593),\n",
       "  'amplitude': np.float64(5.0),\n",
       "  'frequencies': np.float64(100.0),\n",
       "  'RPM1': '0',\n",
       "  'RPM2': '0',\n",
       "  'RPM3': '0',\n",
       "  'RPM4': '0',\n",
       "  'RPM5': '0'},\n",
       " {'datetime': datetime.datetime(2024, 6, 30, 22, 8, 14, 180173),\n",
       "  'amplitude': np.float64(5.0),\n",
       "  'frequencies': np.float64(104.0),\n",
       "  'RPM1': '0',\n",
       "  'RPM2': '0',\n",
       "  'RPM3': '0',\n",
       "  'RPM4': '0',\n",
       "  'RPM5': '0'},\n",
       " {'datetime': datetime.datetime(2024, 6, 30, 22, 8, 20, 39424),\n",
       "  'amplitude': np.float64(5.0),\n",
       "  'frequencies': np.float64(108.0),\n",
       "  'RPM1': '0',\n",
       "  'RPM2': '0',\n",
       "  'RPM3': '0',\n",
       "  'RPM4': '0',\n",
       "  'RPM5': '0'},\n",
       " {'datetime': datetime.datetime(2024, 6, 30, 22, 8, 25, 902058),\n",
       "  'amplitude': np.float64(5.0),\n",
       "  'frequencies': np.float64(112.0),\n",
       "  'RPM1': '0',\n",
       "  'RPM2': '0',\n",
       "  'RPM3': '0',\n",
       "  'RPM4': '0',\n",
       "  'RPM5': '0'},\n",
       " {'datetime': datetime.datetime(2024, 6, 30, 22, 8, 31, 768720),\n",
       "  'amplitude': np.float64(5.0),\n",
       "  'frequencies': np.float64(116.0),\n",
       "  'RPM1': '0',\n",
       "  'RPM2': '0',\n",
       "  'RPM3': '0',\n",
       "  'RPM4': '0',\n",
       "  'RPM5': '0'},\n",
       " {'datetime': datetime.datetime(2024, 6, 30, 22, 8, 37, 623959),\n",
       "  'amplitude': np.float64(5.0),\n",
       "  'frequencies': np.float64(120.0),\n",
       "  'RPM1': '0',\n",
       "  'RPM2': '0',\n",
       "  'RPM3': '0',\n",
       "  'RPM4': '0',\n",
       "  'RPM5': '0'},\n",
       " {'datetime': datetime.datetime(2024, 6, 30, 22, 8, 43, 497264),\n",
       "  'amplitude': np.float64(5.0),\n",
       "  'frequencies': np.float64(124.0),\n",
       "  'RPM1': '0',\n",
       "  'RPM2': '0',\n",
       "  'RPM3': '0',\n",
       "  'RPM4': '0',\n",
       "  'RPM5': '0'},\n",
       " {'datetime': datetime.datetime(2024, 6, 30, 22, 8, 49, 362828),\n",
       "  'amplitude': np.float64(5.0),\n",
       "  'frequencies': np.float64(128.0),\n",
       "  'RPM1': '0',\n",
       "  'RPM2': '0',\n",
       "  'RPM3': '0',\n",
       "  'RPM4': '0',\n",
       "  'RPM5': '0'},\n",
       " {'datetime': datetime.datetime(2024, 6, 30, 22, 8, 55, 226977),\n",
       "  'amplitude': np.float64(5.0),\n",
       "  'frequencies': np.float64(132.0),\n",
       "  'RPM1': '0',\n",
       "  'RPM2': '0',\n",
       "  'RPM3': '0',\n",
       "  'RPM4': '0',\n",
       "  'RPM5': '0'},\n",
       " {'datetime': datetime.datetime(2024, 6, 30, 22, 9, 1, 91863),\n",
       "  'amplitude': np.float64(5.0),\n",
       "  'frequencies': np.float64(136.0),\n",
       "  'RPM1': '0',\n",
       "  'RPM2': '0',\n",
       "  'RPM3': '0',\n",
       "  'RPM4': '0',\n",
       "  'RPM5': '0'},\n",
       " {'datetime': datetime.datetime(2024, 6, 30, 22, 9, 6, 958144),\n",
       "  'amplitude': np.float64(5.0),\n",
       "  'frequencies': np.float64(140.0),\n",
       "  'RPM1': '0',\n",
       "  'RPM2': '0',\n",
       "  'RPM3': '0',\n",
       "  'RPM4': '0',\n",
       "  'RPM5': '0'},\n",
       " {'datetime': datetime.datetime(2024, 6, 30, 22, 9, 12, 817001),\n",
       "  'amplitude': np.float64(5.0),\n",
       "  'frequencies': np.float64(144.0),\n",
       "  'RPM1': '0',\n",
       "  'RPM2': '0',\n",
       "  'RPM3': '0',\n",
       "  'RPM4': '0',\n",
       "  'RPM5': '0'},\n",
       " {'datetime': datetime.datetime(2024, 6, 30, 22, 9, 18, 674457),\n",
       "  'amplitude': np.float64(5.0),\n",
       "  'frequencies': np.float64(148.0),\n",
       "  'RPM1': '0',\n",
       "  'RPM2': '0',\n",
       "  'RPM3': '0',\n",
       "  'RPM4': '0',\n",
       "  'RPM5': '0'},\n",
       " {'datetime': datetime.datetime(2024, 6, 30, 22, 9, 24, 595734),\n",
       "  'amplitude': np.float64(6.0),\n",
       "  'frequencies': np.float64(1.0),\n",
       "  'RPM1': '38',\n",
       "  'RPM2': '9',\n",
       "  'RPM3': '9',\n",
       "  'RPM4': '9',\n",
       "  'RPM5': '9'},\n",
       " {'datetime': datetime.datetime(2024, 6, 30, 22, 9, 30, 668149),\n",
       "  'amplitude': np.float64(6.0),\n",
       "  'frequencies': np.float64(2.0),\n",
       "  'RPM1': '35',\n",
       "  'RPM2': '26',\n",
       "  'RPM3': '19',\n",
       "  'RPM4': '19',\n",
       "  'RPM5': '19'},\n",
       " {'datetime': datetime.datetime(2024, 6, 30, 22, 9, 36, 529079),\n",
       "  'amplitude': np.float64(6.0),\n",
       "  'frequencies': np.float64(4.0),\n",
       "  'RPM1': '39',\n",
       "  'RPM2': '39',\n",
       "  'RPM3': '39',\n",
       "  'RPM4': '39',\n",
       "  'RPM5': '39'},\n",
       " {'datetime': datetime.datetime(2024, 6, 30, 22, 9, 42, 391741),\n",
       "  'amplitude': np.float64(6.0),\n",
       "  'frequencies': np.float64(6.0),\n",
       "  'RPM1': '100',\n",
       "  'RPM2': '59',\n",
       "  'RPM3': '59',\n",
       "  'RPM4': '59',\n",
       "  'RPM5': '59'},\n",
       " {'datetime': datetime.datetime(2024, 6, 30, 22, 9, 48, 266169),\n",
       "  'amplitude': np.float64(6.0),\n",
       "  'frequencies': np.float64(10.0),\n",
       "  'RPM1': '99',\n",
       "  'RPM2': '99',\n",
       "  'RPM3': '99',\n",
       "  'RPM4': '99',\n",
       "  'RPM5': '99'},\n",
       " {'datetime': datetime.datetime(2024, 6, 30, 22, 9, 54, 128121),\n",
       "  'amplitude': np.float64(6.0),\n",
       "  'frequencies': np.float64(12.0),\n",
       "  'RPM1': '119',\n",
       "  'RPM2': '119',\n",
       "  'RPM3': '119',\n",
       "  'RPM4': '119',\n",
       "  'RPM5': '119'},\n",
       " {'datetime': datetime.datetime(2024, 6, 30, 22, 9, 59, 993837),\n",
       "  'amplitude': np.float64(6.0),\n",
       "  'frequencies': np.float64(15.0),\n",
       "  'RPM1': '149',\n",
       "  'RPM2': '149',\n",
       "  'RPM3': '149',\n",
       "  'RPM4': '149',\n",
       "  'RPM5': '149'},\n",
       " {'datetime': datetime.datetime(2024, 6, 30, 22, 10, 5, 864743),\n",
       "  'amplitude': np.float64(6.0),\n",
       "  'frequencies': np.float64(19.0),\n",
       "  'RPM1': '191',\n",
       "  'RPM2': '191',\n",
       "  'RPM3': '191',\n",
       "  'RPM4': '191',\n",
       "  'RPM5': '191'},\n",
       " {'datetime': datetime.datetime(2024, 6, 30, 22, 10, 11, 728626),\n",
       "  'amplitude': np.float64(6.0),\n",
       "  'frequencies': np.float64(23.0),\n",
       "  'RPM1': '229',\n",
       "  'RPM2': '229',\n",
       "  'RPM3': '229',\n",
       "  'RPM4': '229',\n",
       "  'RPM5': '229'},\n",
       " {'datetime': datetime.datetime(2024, 6, 30, 22, 10, 17, 588366),\n",
       "  'amplitude': np.float64(6.0),\n",
       "  'frequencies': np.float64(28.0),\n",
       "  'RPM1': '279',\n",
       "  'RPM2': '279',\n",
       "  'RPM3': '279',\n",
       "  'RPM4': '279',\n",
       "  'RPM5': '279'},\n",
       " {'datetime': datetime.datetime(2024, 6, 30, 22, 10, 23, 460118),\n",
       "  'amplitude': np.float64(6.0),\n",
       "  'frequencies': np.float64(35.0),\n",
       "  'RPM1': '349',\n",
       "  'RPM2': '349',\n",
       "  'RPM3': '349',\n",
       "  'RPM4': '349',\n",
       "  'RPM5': '349'},\n",
       " {'datetime': datetime.datetime(2024, 6, 30, 22, 10, 29, 329226),\n",
       "  'amplitude': np.float64(6.0),\n",
       "  'frequencies': np.float64(43.0),\n",
       "  'RPM1': '429',\n",
       "  'RPM2': '429',\n",
       "  'RPM3': '429',\n",
       "  'RPM4': '429',\n",
       "  'RPM5': '429'},\n",
       " {'datetime': datetime.datetime(2024, 6, 30, 22, 10, 35, 197283),\n",
       "  'amplitude': np.float64(6.0),\n",
       "  'frequencies': np.float64(53.0),\n",
       "  'RPM1': '529',\n",
       "  'RPM2': '529',\n",
       "  'RPM3': '529',\n",
       "  'RPM4': '529',\n",
       "  'RPM5': '529'},\n",
       " {'datetime': datetime.datetime(2024, 6, 30, 22, 10, 41, 64965),\n",
       "  'amplitude': np.float64(6.0),\n",
       "  'frequencies': np.float64(65.0),\n",
       "  'RPM1': '0',\n",
       "  'RPM2': '0',\n",
       "  'RPM3': '0',\n",
       "  'RPM4': '0',\n",
       "  'RPM5': '0'},\n",
       " {'datetime': datetime.datetime(2024, 6, 30, 22, 10, 46, 925687),\n",
       "  'amplitude': np.float64(6.0),\n",
       "  'frequencies': np.float64(80.0),\n",
       "  'RPM1': '0',\n",
       "  'RPM2': '0',\n",
       "  'RPM3': '0',\n",
       "  'RPM4': '0',\n",
       "  'RPM5': '0'},\n",
       " {'datetime': datetime.datetime(2024, 6, 30, 22, 10, 52, 788601),\n",
       "  'amplitude': np.float64(6.0),\n",
       "  'frequencies': np.float64(84.0),\n",
       "  'RPM1': '0',\n",
       "  'RPM2': '0',\n",
       "  'RPM3': '0',\n",
       "  'RPM4': '0',\n",
       "  'RPM5': '0'},\n",
       " {'datetime': datetime.datetime(2024, 6, 30, 22, 10, 58, 648179),\n",
       "  'amplitude': np.float64(6.0),\n",
       "  'frequencies': np.float64(88.0),\n",
       "  'RPM1': '0',\n",
       "  'RPM2': '0',\n",
       "  'RPM3': '0',\n",
       "  'RPM4': '0',\n",
       "  'RPM5': '0'},\n",
       " {'datetime': datetime.datetime(2024, 6, 30, 22, 11, 4, 504892),\n",
       "  'amplitude': np.float64(6.0),\n",
       "  'frequencies': np.float64(92.0),\n",
       "  'RPM1': '0',\n",
       "  'RPM2': '0',\n",
       "  'RPM3': '0',\n",
       "  'RPM4': '0',\n",
       "  'RPM5': '0'},\n",
       " {'datetime': datetime.datetime(2024, 6, 30, 22, 11, 10, 369025),\n",
       "  'amplitude': np.float64(6.0),\n",
       "  'frequencies': np.float64(96.0),\n",
       "  'RPM1': '0',\n",
       "  'RPM2': '0',\n",
       "  'RPM3': '0',\n",
       "  'RPM4': '0',\n",
       "  'RPM5': '0'},\n",
       " {'datetime': datetime.datetime(2024, 6, 30, 22, 11, 16, 224334),\n",
       "  'amplitude': np.float64(6.0),\n",
       "  'frequencies': np.float64(100.0),\n",
       "  'RPM1': '0',\n",
       "  'RPM2': '0',\n",
       "  'RPM3': '0',\n",
       "  'RPM4': '0',\n",
       "  'RPM5': '0'},\n",
       " {'datetime': datetime.datetime(2024, 6, 30, 22, 11, 22, 90254),\n",
       "  'amplitude': np.float64(6.0),\n",
       "  'frequencies': np.float64(104.0),\n",
       "  'RPM1': '0',\n",
       "  'RPM2': '0',\n",
       "  'RPM3': '0',\n",
       "  'RPM4': '0',\n",
       "  'RPM5': '0'},\n",
       " {'datetime': datetime.datetime(2024, 6, 30, 22, 11, 27, 952045),\n",
       "  'amplitude': np.float64(6.0),\n",
       "  'frequencies': np.float64(108.0),\n",
       "  'RPM1': '0',\n",
       "  'RPM2': '0',\n",
       "  'RPM3': '0',\n",
       "  'RPM4': '0',\n",
       "  'RPM5': '0'},\n",
       " {'datetime': datetime.datetime(2024, 6, 30, 22, 11, 33, 812178),\n",
       "  'amplitude': np.float64(6.0),\n",
       "  'frequencies': np.float64(112.0),\n",
       "  'RPM1': '0',\n",
       "  'RPM2': '0',\n",
       "  'RPM3': '0',\n",
       "  'RPM4': '0',\n",
       "  'RPM5': '0'},\n",
       " {'datetime': datetime.datetime(2024, 6, 30, 22, 11, 39, 673299),\n",
       "  'amplitude': np.float64(6.0),\n",
       "  'frequencies': np.float64(116.0),\n",
       "  'RPM1': '0',\n",
       "  'RPM2': '0',\n",
       "  'RPM3': '0',\n",
       "  'RPM4': '0',\n",
       "  'RPM5': '0'},\n",
       " {'datetime': datetime.datetime(2024, 6, 30, 22, 11, 45, 537666),\n",
       "  'amplitude': np.float64(6.0),\n",
       "  'frequencies': np.float64(120.0),\n",
       "  'RPM1': '0',\n",
       "  'RPM2': '0',\n",
       "  'RPM3': '0',\n",
       "  'RPM4': '0',\n",
       "  'RPM5': '0'},\n",
       " {'datetime': datetime.datetime(2024, 6, 30, 22, 11, 51, 409945),\n",
       "  'amplitude': np.float64(6.0),\n",
       "  'frequencies': np.float64(124.0),\n",
       "  'RPM1': '0',\n",
       "  'RPM2': '0',\n",
       "  'RPM3': '0',\n",
       "  'RPM4': '0',\n",
       "  'RPM5': '0'},\n",
       " {'datetime': datetime.datetime(2024, 6, 30, 22, 11, 57, 272823),\n",
       "  'amplitude': np.float64(6.0),\n",
       "  'frequencies': np.float64(128.0),\n",
       "  'RPM1': '0',\n",
       "  'RPM2': '0',\n",
       "  'RPM3': '0',\n",
       "  'RPM4': '0',\n",
       "  'RPM5': '0'},\n",
       " {'datetime': datetime.datetime(2024, 6, 30, 22, 12, 3, 140140),\n",
       "  'amplitude': np.float64(6.0),\n",
       "  'frequencies': np.float64(132.0),\n",
       "  'RPM1': '0',\n",
       "  'RPM2': '0',\n",
       "  'RPM3': '0',\n",
       "  'RPM4': '0',\n",
       "  'RPM5': '0'},\n",
       " {'datetime': datetime.datetime(2024, 6, 30, 22, 12, 9, 12015),\n",
       "  'amplitude': np.float64(6.0),\n",
       "  'frequencies': np.float64(136.0),\n",
       "  'RPM1': '0',\n",
       "  'RPM2': '0',\n",
       "  'RPM3': '0',\n",
       "  'RPM4': '0',\n",
       "  'RPM5': '0'},\n",
       " {'datetime': datetime.datetime(2024, 6, 30, 22, 12, 14, 888253),\n",
       "  'amplitude': np.float64(6.0),\n",
       "  'frequencies': np.float64(140.0),\n",
       "  'RPM1': '0',\n",
       "  'RPM2': '0',\n",
       "  'RPM3': '0',\n",
       "  'RPM4': '0',\n",
       "  'RPM5': '0'},\n",
       " {'datetime': datetime.datetime(2024, 6, 30, 22, 12, 20, 748192),\n",
       "  'amplitude': np.float64(6.0),\n",
       "  'frequencies': np.float64(144.0),\n",
       "  'RPM1': '0',\n",
       "  'RPM2': '0',\n",
       "  'RPM3': '0',\n",
       "  'RPM4': '0',\n",
       "  'RPM5': '0'},\n",
       " {'datetime': datetime.datetime(2024, 6, 30, 22, 12, 26, 616633),\n",
       "  'amplitude': np.float64(6.0),\n",
       "  'frequencies': np.float64(148.0),\n",
       "  'RPM1': '0',\n",
       "  'RPM2': '0',\n",
       "  'RPM3': '0',\n",
       "  'RPM4': '0',\n",
       "  'RPM5': '0'},\n",
       " {'datetime': datetime.datetime(2024, 6, 30, 22, 12, 32, 491482),\n",
       "  'amplitude': np.float64(10.0),\n",
       "  'frequencies': np.float64(1.0),\n",
       "  'RPM1': '40',\n",
       "  'RPM2': '9',\n",
       "  'RPM3': '9',\n",
       "  'RPM4': '9',\n",
       "  'RPM5': '9'},\n",
       " {'datetime': datetime.datetime(2024, 6, 30, 22, 12, 38, 558099),\n",
       "  'amplitude': np.float64(10.0),\n",
       "  'frequencies': np.float64(2.0),\n",
       "  'RPM1': '34',\n",
       "  'RPM2': '26',\n",
       "  'RPM3': '19',\n",
       "  'RPM4': '19',\n",
       "  'RPM5': '19'},\n",
       " {'datetime': datetime.datetime(2024, 6, 30, 22, 12, 44, 420824),\n",
       "  'amplitude': np.float64(10.0),\n",
       "  'frequencies': np.float64(4.0),\n",
       "  'RPM1': '39',\n",
       "  'RPM2': '39',\n",
       "  'RPM3': '39',\n",
       "  'RPM4': '39',\n",
       "  'RPM5': '39'},\n",
       " {'datetime': datetime.datetime(2024, 6, 30, 22, 12, 50, 282358),\n",
       "  'amplitude': np.float64(10.0),\n",
       "  'frequencies': np.float64(6.0),\n",
       "  'RPM1': '104',\n",
       "  'RPM2': '60',\n",
       "  'RPM3': '60',\n",
       "  'RPM4': '60',\n",
       "  'RPM5': '60'},\n",
       " {'datetime': datetime.datetime(2024, 6, 30, 22, 12, 56, 154896),\n",
       "  'amplitude': np.float64(10.0),\n",
       "  'frequencies': np.float64(10.0),\n",
       "  'RPM1': '97',\n",
       "  'RPM2': '97',\n",
       "  'RPM3': '97',\n",
       "  'RPM4': '97',\n",
       "  'RPM5': '97'},\n",
       " {'datetime': datetime.datetime(2024, 6, 30, 22, 13, 2, 12828),\n",
       "  'amplitude': np.float64(10.0),\n",
       "  'frequencies': np.float64(12.0),\n",
       "  'RPM1': '119',\n",
       "  'RPM2': '119',\n",
       "  'RPM3': '119',\n",
       "  'RPM4': '119',\n",
       "  'RPM5': '119'},\n",
       " {'datetime': datetime.datetime(2024, 6, 30, 22, 13, 7, 872170),\n",
       "  'amplitude': np.float64(10.0),\n",
       "  'frequencies': np.float64(15.0),\n",
       "  'RPM1': '149',\n",
       "  'RPM2': '149',\n",
       "  'RPM3': '149',\n",
       "  'RPM4': '149',\n",
       "  'RPM5': '149'},\n",
       " {'datetime': datetime.datetime(2024, 6, 30, 22, 13, 13, 746014),\n",
       "  'amplitude': np.float64(10.0),\n",
       "  'frequencies': np.float64(19.0),\n",
       "  'RPM1': '190',\n",
       "  'RPM2': '190',\n",
       "  'RPM3': '190',\n",
       "  'RPM4': '190',\n",
       "  'RPM5': '190'},\n",
       " {'datetime': datetime.datetime(2024, 6, 30, 22, 13, 19, 618329),\n",
       "  'amplitude': np.float64(10.0),\n",
       "  'frequencies': np.float64(23.0),\n",
       "  'RPM1': '229',\n",
       "  'RPM2': '229',\n",
       "  'RPM3': '229',\n",
       "  'RPM4': '229',\n",
       "  'RPM5': '229'},\n",
       " {'datetime': datetime.datetime(2024, 6, 30, 22, 13, 25, 481783),\n",
       "  'amplitude': np.float64(10.0),\n",
       "  'frequencies': np.float64(28.0),\n",
       "  'RPM1': '280',\n",
       "  'RPM2': '280',\n",
       "  'RPM3': '280',\n",
       "  'RPM4': '280',\n",
       "  'RPM5': '280'},\n",
       " {'datetime': datetime.datetime(2024, 6, 30, 22, 13, 31, 350509),\n",
       "  'amplitude': np.float64(10.0),\n",
       "  'frequencies': np.float64(35.0),\n",
       "  'RPM1': '349',\n",
       "  'RPM2': '349',\n",
       "  'RPM3': '349',\n",
       "  'RPM4': '349',\n",
       "  'RPM5': '349'},\n",
       " {'datetime': datetime.datetime(2024, 6, 30, 22, 13, 37, 223764),\n",
       "  'amplitude': np.float64(10.0),\n",
       "  'frequencies': np.float64(43.0),\n",
       "  'RPM1': '427',\n",
       "  'RPM2': '430',\n",
       "  'RPM3': '430',\n",
       "  'RPM4': '430',\n",
       "  'RPM5': '430'},\n",
       " {'datetime': datetime.datetime(2024, 6, 30, 22, 13, 43, 90453),\n",
       "  'amplitude': np.float64(10.0),\n",
       "  'frequencies': np.float64(53.0),\n",
       "  'RPM1': '528',\n",
       "  'RPM2': '528',\n",
       "  'RPM3': '528',\n",
       "  'RPM4': '528',\n",
       "  'RPM5': '528'},\n",
       " {'datetime': datetime.datetime(2024, 6, 30, 22, 13, 48, 954149),\n",
       "  'amplitude': np.float64(10.0),\n",
       "  'frequencies': np.float64(65.0),\n",
       "  'RPM1': '649',\n",
       "  'RPM2': '649',\n",
       "  'RPM3': '649',\n",
       "  'RPM4': '649',\n",
       "  'RPM5': '649'},\n",
       " {'datetime': datetime.datetime(2024, 6, 30, 22, 13, 54, 825025),\n",
       "  'amplitude': np.float64(10.0),\n",
       "  'frequencies': np.float64(80.0),\n",
       "  'RPM1': '799',\n",
       "  'RPM2': '799',\n",
       "  'RPM3': '799',\n",
       "  'RPM4': '799',\n",
       "  'RPM5': '799'},\n",
       " {'datetime': datetime.datetime(2024, 6, 30, 22, 14, 0, 684879),\n",
       "  'amplitude': np.float64(10.0),\n",
       "  'frequencies': np.float64(84.0),\n",
       "  'RPM1': '839',\n",
       "  'RPM2': '839',\n",
       "  'RPM3': '839',\n",
       "  'RPM4': '839',\n",
       "  'RPM5': '836'},\n",
       " {'datetime': datetime.datetime(2024, 6, 30, 22, 14, 6, 545796),\n",
       "  'amplitude': np.float64(10.0),\n",
       "  'frequencies': np.float64(88.0),\n",
       "  'RPM1': '670',\n",
       "  'RPM2': '314',\n",
       "  'RPM3': '197',\n",
       "  'RPM4': '353',\n",
       "  'RPM5': '362'},\n",
       " {'datetime': datetime.datetime(2024, 6, 30, 22, 14, 12, 406743),\n",
       "  'amplitude': np.float64(10.0),\n",
       "  'frequencies': np.float64(92.0),\n",
       "  'RPM1': '294',\n",
       "  'RPM2': '0',\n",
       "  'RPM3': '0',\n",
       "  'RPM4': '0',\n",
       "  'RPM5': '0'},\n",
       " {'datetime': datetime.datetime(2024, 6, 30, 22, 14, 18, 268509),\n",
       "  'amplitude': np.float64(10.0),\n",
       "  'frequencies': np.float64(96.0),\n",
       "  'RPM1': '0',\n",
       "  'RPM2': '0',\n",
       "  'RPM3': '0',\n",
       "  'RPM4': '0',\n",
       "  'RPM5': '0'},\n",
       " {'datetime': datetime.datetime(2024, 6, 30, 22, 14, 24, 128913),\n",
       "  'amplitude': np.float64(10.0),\n",
       "  'frequencies': np.float64(100.0),\n",
       "  'RPM1': '0',\n",
       "  'RPM2': '0',\n",
       "  'RPM3': '0',\n",
       "  'RPM4': '0',\n",
       "  'RPM5': '0'},\n",
       " {'datetime': datetime.datetime(2024, 6, 30, 22, 14, 29, 989561),\n",
       "  'amplitude': np.float64(10.0),\n",
       "  'frequencies': np.float64(104.0),\n",
       "  'RPM1': '0',\n",
       "  'RPM2': '0',\n",
       "  'RPM3': '0',\n",
       "  'RPM4': '0',\n",
       "  'RPM5': '0'},\n",
       " {'datetime': datetime.datetime(2024, 6, 30, 22, 14, 35, 850710),\n",
       "  'amplitude': np.float64(10.0),\n",
       "  'frequencies': np.float64(108.0),\n",
       "  'RPM1': '0',\n",
       "  'RPM2': '0',\n",
       "  'RPM3': '0',\n",
       "  'RPM4': '0',\n",
       "  'RPM5': '0'},\n",
       " {'datetime': datetime.datetime(2024, 6, 30, 22, 14, 41, 716262),\n",
       "  'amplitude': np.float64(10.0),\n",
       "  'frequencies': np.float64(112.0),\n",
       "  'RPM1': '24',\n",
       "  'RPM2': '0',\n",
       "  'RPM3': '0',\n",
       "  'RPM4': '0',\n",
       "  'RPM5': '0'},\n",
       " {'datetime': datetime.datetime(2024, 6, 30, 22, 14, 47, 577692),\n",
       "  'amplitude': np.float64(10.0),\n",
       "  'frequencies': np.float64(116.0),\n",
       "  'RPM1': '0',\n",
       "  'RPM2': '0',\n",
       "  'RPM3': '0',\n",
       "  'RPM4': '0',\n",
       "  'RPM5': '0'},\n",
       " {'datetime': datetime.datetime(2024, 6, 30, 22, 14, 53, 445057),\n",
       "  'amplitude': np.float64(10.0),\n",
       "  'frequencies': np.float64(120.0),\n",
       "  'RPM1': '0',\n",
       "  'RPM2': '0',\n",
       "  'RPM3': '0',\n",
       "  'RPM4': '0',\n",
       "  'RPM5': '0'},\n",
       " {'datetime': datetime.datetime(2024, 6, 30, 22, 14, 59, 308936),\n",
       "  'amplitude': np.float64(10.0),\n",
       "  'frequencies': np.float64(124.0),\n",
       "  'RPM1': '0',\n",
       "  'RPM2': '0',\n",
       "  'RPM3': '0',\n",
       "  'RPM4': '0',\n",
       "  'RPM5': '0'},\n",
       " {'datetime': datetime.datetime(2024, 6, 30, 22, 15, 5, 180138),\n",
       "  'amplitude': np.float64(10.0),\n",
       "  'frequencies': np.float64(128.0),\n",
       "  'RPM1': '0',\n",
       "  'RPM2': '0',\n",
       "  'RPM3': '0',\n",
       "  'RPM4': '0',\n",
       "  'RPM5': '0'},\n",
       " {'datetime': datetime.datetime(2024, 6, 30, 22, 15, 11, 46523),\n",
       "  'amplitude': np.float64(10.0),\n",
       "  'frequencies': np.float64(132.0),\n",
       "  'RPM1': '0',\n",
       "  'RPM2': '0',\n",
       "  'RPM3': '0',\n",
       "  'RPM4': '0',\n",
       "  'RPM5': '0'},\n",
       " {'datetime': datetime.datetime(2024, 6, 30, 22, 15, 16, 911320),\n",
       "  'amplitude': np.float64(10.0),\n",
       "  'frequencies': np.float64(136.0),\n",
       "  'RPM1': '15',\n",
       "  'RPM2': '0',\n",
       "  'RPM3': '0',\n",
       "  'RPM4': '0',\n",
       "  'RPM5': '0'},\n",
       " {'datetime': datetime.datetime(2024, 6, 30, 22, 15, 22, 776519),\n",
       "  'amplitude': np.float64(10.0),\n",
       "  'frequencies': np.float64(140.0),\n",
       "  'RPM1': '0',\n",
       "  'RPM2': '0',\n",
       "  'RPM3': '0',\n",
       "  'RPM4': '0',\n",
       "  'RPM5': '0'},\n",
       " {'datetime': datetime.datetime(2024, 6, 30, 22, 15, 28, 636411),\n",
       "  'amplitude': np.float64(10.0),\n",
       "  'frequencies': np.float64(144.0),\n",
       "  'RPM1': '0',\n",
       "  'RPM2': '0',\n",
       "  'RPM3': '0',\n",
       "  'RPM4': '0',\n",
       "  'RPM5': '0'},\n",
       " {'datetime': datetime.datetime(2024, 6, 30, 22, 15, 34, 500181),\n",
       "  'amplitude': np.float64(10.0),\n",
       "  'frequencies': np.float64(148.0),\n",
       "  'RPM1': '0',\n",
       "  'RPM2': '0',\n",
       "  'RPM3': '0',\n",
       "  'RPM4': '0',\n",
       "  'RPM5': '0'},\n",
       " {'datetime': datetime.datetime(2024, 6, 30, 22, 15, 40, 372976),\n",
       "  'amplitude': np.float64(15.0),\n",
       "  'frequencies': np.float64(1.0),\n",
       "  'RPM1': '37',\n",
       "  'RPM2': '9',\n",
       "  'RPM3': '9',\n",
       "  'RPM4': '9',\n",
       "  'RPM5': '9'},\n",
       " {'datetime': datetime.datetime(2024, 6, 30, 22, 15, 46, 444571),\n",
       "  'amplitude': np.float64(15.0),\n",
       "  'frequencies': np.float64(2.0),\n",
       "  'RPM1': '34',\n",
       "  'RPM2': '26',\n",
       "  'RPM3': '19',\n",
       "  'RPM4': '19',\n",
       "  'RPM5': '19'},\n",
       " {'datetime': datetime.datetime(2024, 6, 30, 22, 15, 52, 308778),\n",
       "  'amplitude': np.float64(15.0),\n",
       "  'frequencies': np.float64(4.0),\n",
       "  'RPM1': '43',\n",
       "  'RPM2': '39',\n",
       "  'RPM3': '39',\n",
       "  'RPM4': '39',\n",
       "  'RPM5': '39'},\n",
       " {'datetime': datetime.datetime(2024, 6, 30, 22, 15, 58, 169588),\n",
       "  'amplitude': np.float64(15.0),\n",
       "  'frequencies': np.float64(6.0),\n",
       "  'RPM1': '59',\n",
       "  'RPM2': '59',\n",
       "  'RPM3': '59',\n",
       "  'RPM4': '59',\n",
       "  'RPM5': '59'},\n",
       " {'datetime': datetime.datetime(2024, 6, 30, 22, 16, 4, 24458),\n",
       "  'amplitude': np.float64(15.0),\n",
       "  'frequencies': np.float64(10.0),\n",
       "  'RPM1': '100',\n",
       "  'RPM2': '100',\n",
       "  'RPM3': '100',\n",
       "  'RPM4': '100',\n",
       "  'RPM5': '100'},\n",
       " {'datetime': datetime.datetime(2024, 6, 30, 22, 16, 9, 882568),\n",
       "  'amplitude': np.float64(15.0),\n",
       "  'frequencies': np.float64(12.0),\n",
       "  'RPM1': '119',\n",
       "  'RPM2': '119',\n",
       "  'RPM3': '119',\n",
       "  'RPM4': '119',\n",
       "  'RPM5': '119'},\n",
       " {'datetime': datetime.datetime(2024, 6, 30, 22, 16, 15, 742399),\n",
       "  'amplitude': np.float64(15.0),\n",
       "  'frequencies': np.float64(15.0),\n",
       "  'RPM1': '149',\n",
       "  'RPM2': '149',\n",
       "  'RPM3': '149',\n",
       "  'RPM4': '149',\n",
       "  'RPM5': '149'},\n",
       " {'datetime': datetime.datetime(2024, 6, 30, 22, 16, 21, 602719),\n",
       "  'amplitude': np.float64(15.0),\n",
       "  'frequencies': np.float64(19.0),\n",
       "  'RPM1': '189',\n",
       "  'RPM2': '189',\n",
       "  'RPM3': '189',\n",
       "  'RPM4': '189',\n",
       "  'RPM5': '189'},\n",
       " {'datetime': datetime.datetime(2024, 6, 30, 22, 16, 27, 460993),\n",
       "  'amplitude': np.float64(15.0),\n",
       "  'frequencies': np.float64(23.0),\n",
       "  'RPM1': '229',\n",
       "  'RPM2': '229',\n",
       "  'RPM3': '229',\n",
       "  'RPM4': '229',\n",
       "  'RPM5': '229'},\n",
       " {'datetime': datetime.datetime(2024, 6, 30, 22, 16, 33, 320504),\n",
       "  'amplitude': np.float64(15.0),\n",
       "  'frequencies': np.float64(28.0),\n",
       "  'RPM1': '279',\n",
       "  'RPM2': '279',\n",
       "  'RPM3': '279',\n",
       "  'RPM4': '279',\n",
       "  'RPM5': '279'},\n",
       " {'datetime': datetime.datetime(2024, 6, 30, 22, 16, 39, 186998),\n",
       "  'amplitude': np.float64(15.0),\n",
       "  'frequencies': np.float64(35.0),\n",
       "  'RPM1': '349',\n",
       "  'RPM2': '349',\n",
       "  'RPM3': '349',\n",
       "  'RPM4': '349',\n",
       "  'RPM5': '349'},\n",
       " {'datetime': datetime.datetime(2024, 6, 30, 22, 16, 45, 53486),\n",
       "  'amplitude': np.float64(15.0),\n",
       "  'frequencies': np.float64(43.0),\n",
       "  'RPM1': '430',\n",
       "  'RPM2': '430',\n",
       "  'RPM3': '430',\n",
       "  'RPM4': '430',\n",
       "  'RPM5': '430'},\n",
       " {'datetime': datetime.datetime(2024, 6, 30, 22, 16, 50, 921007),\n",
       "  'amplitude': np.float64(15.0),\n",
       "  'frequencies': np.float64(53.0),\n",
       "  'RPM1': '529',\n",
       "  'RPM2': '529',\n",
       "  'RPM3': '529',\n",
       "  'RPM4': '529',\n",
       "  'RPM5': '529'},\n",
       " {'datetime': datetime.datetime(2024, 6, 30, 22, 16, 56, 789670),\n",
       "  'amplitude': np.float64(15.0),\n",
       "  'frequencies': np.float64(65.0),\n",
       "  'RPM1': '649',\n",
       "  'RPM2': '649',\n",
       "  'RPM3': '649',\n",
       "  'RPM4': '649',\n",
       "  'RPM5': '649'},\n",
       " {'datetime': datetime.datetime(2024, 6, 30, 22, 17, 2, 648381),\n",
       "  'amplitude': np.float64(15.0),\n",
       "  'frequencies': np.float64(80.0),\n",
       "  'RPM1': '798',\n",
       "  'RPM2': '801',\n",
       "  'RPM3': '798',\n",
       "  'RPM4': '801',\n",
       "  'RPM5': '798'},\n",
       " {'datetime': datetime.datetime(2024, 6, 30, 22, 17, 8, 505220),\n",
       "  'amplitude': np.float64(15.0),\n",
       "  'frequencies': np.float64(84.0),\n",
       "  'RPM1': '840',\n",
       "  'RPM2': '840',\n",
       "  'RPM3': '837',\n",
       "  'RPM4': '837',\n",
       "  'RPM5': '837'},\n",
       " {'datetime': datetime.datetime(2024, 6, 30, 22, 17, 14, 360077),\n",
       "  'amplitude': np.float64(15.0),\n",
       "  'frequencies': np.float64(88.0),\n",
       "  'RPM1': '880',\n",
       "  'RPM2': '880',\n",
       "  'RPM3': '880',\n",
       "  'RPM4': '880',\n",
       "  'RPM5': '880'},\n",
       " {'datetime': datetime.datetime(2024, 6, 30, 22, 17, 20, 221339),\n",
       "  'amplitude': np.float64(15.0),\n",
       "  'frequencies': np.float64(92.0),\n",
       "  'RPM1': '919',\n",
       "  'RPM2': '919',\n",
       "  'RPM3': '919',\n",
       "  'RPM4': '917',\n",
       "  'RPM5': '921'},\n",
       " {'datetime': datetime.datetime(2024, 6, 30, 22, 17, 26, 83561),\n",
       "  'amplitude': np.float64(15.0),\n",
       "  'frequencies': np.float64(96.0),\n",
       "  'RPM1': '962',\n",
       "  'RPM2': '958',\n",
       "  'RPM3': '958',\n",
       "  'RPM4': '958',\n",
       "  'RPM5': '958'},\n",
       " {'datetime': datetime.datetime(2024, 6, 30, 22, 17, 31, 944360),\n",
       "  'amplitude': np.float64(15.0),\n",
       "  'frequencies': np.float64(100.0),\n",
       "  'RPM1': '1001',\n",
       "  'RPM2': '1001',\n",
       "  'RPM3': '997',\n",
       "  'RPM4': '997',\n",
       "  'RPM5': '1000'},\n",
       " {'datetime': datetime.datetime(2024, 6, 30, 22, 17, 37, 804156),\n",
       "  'amplitude': np.float64(15.0),\n",
       "  'frequencies': np.float64(104.0),\n",
       "  'RPM1': '291',\n",
       "  'RPM2': '34',\n",
       "  'RPM3': '77',\n",
       "  'RPM4': '47',\n",
       "  'RPM5': '83'},\n",
       " {'datetime': datetime.datetime(2024, 6, 30, 22, 17, 43, 664926),\n",
       "  'amplitude': np.float64(15.0),\n",
       "  'frequencies': np.float64(108.0),\n",
       "  'RPM1': '62',\n",
       "  'RPM2': '0',\n",
       "  'RPM3': '0',\n",
       "  'RPM4': '0',\n",
       "  'RPM5': '0'},\n",
       " {'datetime': datetime.datetime(2024, 6, 30, 22, 17, 49, 523381),\n",
       "  'amplitude': np.float64(15.0),\n",
       "  'frequencies': np.float64(112.0),\n",
       "  'RPM1': '32',\n",
       "  'RPM2': '0',\n",
       "  'RPM3': '0',\n",
       "  'RPM4': '0',\n",
       "  'RPM5': '0'},\n",
       " {'datetime': datetime.datetime(2024, 6, 30, 22, 17, 55, 393092),\n",
       "  'amplitude': np.float64(15.0),\n",
       "  'frequencies': np.float64(116.0),\n",
       "  'RPM1': '31',\n",
       "  'RPM2': '0',\n",
       "  'RPM3': '0',\n",
       "  'RPM4': '0',\n",
       "  'RPM5': '0'},\n",
       " {'datetime': datetime.datetime(2024, 6, 30, 22, 18, 1, 253238),\n",
       "  'amplitude': np.float64(15.0),\n",
       "  'frequencies': np.float64(120.0),\n",
       "  'RPM1': '0',\n",
       "  'RPM2': '0',\n",
       "  'RPM3': '0',\n",
       "  'RPM4': '0',\n",
       "  'RPM5': '0'},\n",
       " {'datetime': datetime.datetime(2024, 6, 30, 22, 18, 7, 112274),\n",
       "  'amplitude': np.float64(15.0),\n",
       "  'frequencies': np.float64(124.0),\n",
       "  'RPM1': '0',\n",
       "  'RPM2': '0',\n",
       "  'RPM3': '0',\n",
       "  'RPM4': '0',\n",
       "  'RPM5': '0'},\n",
       " {'datetime': datetime.datetime(2024, 6, 30, 22, 18, 12, 982042),\n",
       "  'amplitude': np.float64(15.0),\n",
       "  'frequencies': np.float64(128.0),\n",
       "  'RPM1': '0',\n",
       "  'RPM2': '0',\n",
       "  'RPM3': '0',\n",
       "  'RPM4': '0',\n",
       "  'RPM5': '0'},\n",
       " {'datetime': datetime.datetime(2024, 6, 30, 22, 18, 18, 844278),\n",
       "  'amplitude': np.float64(15.0),\n",
       "  'frequencies': np.float64(132.0),\n",
       "  'RPM1': '0',\n",
       "  'RPM2': '0',\n",
       "  'RPM3': '0',\n",
       "  'RPM4': '0',\n",
       "  'RPM5': '0'},\n",
       " {'datetime': datetime.datetime(2024, 6, 30, 22, 18, 24, 706454),\n",
       "  'amplitude': np.float64(15.0),\n",
       "  'frequencies': np.float64(136.0),\n",
       "  'RPM1': '24',\n",
       "  'RPM2': '0',\n",
       "  'RPM3': '0',\n",
       "  'RPM4': '0',\n",
       "  'RPM5': '0'},\n",
       " {'datetime': datetime.datetime(2024, 6, 30, 22, 18, 30, 563755),\n",
       "  'amplitude': np.float64(15.0),\n",
       "  'frequencies': np.float64(140.0),\n",
       "  'RPM1': '0',\n",
       "  'RPM2': '0',\n",
       "  'RPM3': '0',\n",
       "  'RPM4': '0',\n",
       "  'RPM5': '0'},\n",
       " {'datetime': datetime.datetime(2024, 6, 30, 22, 18, 36, 428307),\n",
       "  'amplitude': np.float64(15.0),\n",
       "  'frequencies': np.float64(144.0),\n",
       "  'RPM1': '0',\n",
       "  'RPM2': '0',\n",
       "  'RPM3': '0',\n",
       "  'RPM4': '0',\n",
       "  'RPM5': '0'},\n",
       " {'datetime': datetime.datetime(2024, 6, 30, 22, 18, 42, 293171),\n",
       "  'amplitude': np.float64(15.0),\n",
       "  'frequencies': np.float64(148.0),\n",
       "  'RPM1': '0',\n",
       "  'RPM2': '0',\n",
       "  'RPM3': '0',\n",
       "  'RPM4': '0',\n",
       "  'RPM5': '0'}]"
      ]
     },
     "execution_count": 8,
     "metadata": {},
     "output_type": "execute_result"
    }
   ],
   "source": [
    "data = []\n",
    "\n",
    "for a in tqdm.tqdm(amplitudes, position=1):\n",
    "    for f in tqdm.tqdm(frequencies, position=2):\n",
    "        dp = {\n",
    "            \"datetime\": datetime.datetime.now(),\n",
    "            \"amplitude\": a,\n",
    "            \"frequency\": f,\n",
    "        }\n",
    "        fy.set(fygen.CH1, freq_uhz=f, volts=a)\n",
    "        time.sleep(1.0)\n",
    "        dp[\"RPM1\"] = vetrnik_get(\"power_board/RPM\")\n",
    "        time.sleep(1.0)\n",
    "        dp[\"RPM2\"] = vetrnik_get(\"power_board/RPM\")\n",
    "        time.sleep(1.0)\n",
    "        dp[\"RPM3\"] = vetrnik_get(\"power_board/RPM\")\n",
    "        time.sleep(1.0)\n",
    "        dp[\"RPM4\"] = vetrnik_get(\"power_board/RPM\")\n",
    "        time.sleep(1.0)\n",
    "        dp[\"RPM5\"] = vetrnik_get(\"power_board/RPM\")\n",
    "        data.append(dp)\n",
    "\n",
    "fy.set(fygen.CH1, enable=False)\n",
    "\n",
    "data"
   ]
  },
  {
   "cell_type": "code",
   "execution_count": 9,
   "id": "330965ef-476f-4823-9a87-d1fa2b43f2d4",
   "metadata": {},
   "outputs": [],
   "source": [
    "vetrnik_log_stop(log)\n",
    "del log"
   ]
  },
  {
   "cell_type": "code",
   "execution_count": 10,
   "id": "c4179547-c2cf-43db-8e56-f62c3413b305",
   "metadata": {},
   "outputs": [],
   "source": [
    "fy.close()"
   ]
  },
  {
   "cell_type": "code",
   "execution_count": 11,
   "id": "44348b94-06cb-4db5-9975-a185043d5d6e",
   "metadata": {},
   "outputs": [
    {
     "data": {
      "text/html": [
       "<div>\n",
       "<style scoped>\n",
       "    .dataframe tbody tr th:only-of-type {\n",
       "        vertical-align: middle;\n",
       "    }\n",
       "\n",
       "    .dataframe tbody tr th {\n",
       "        vertical-align: top;\n",
       "    }\n",
       "\n",
       "    .dataframe thead th {\n",
       "        text-align: right;\n",
       "    }\n",
       "</style>\n",
       "<table border=\"1\" class=\"dataframe\">\n",
       "  <thead>\n",
       "    <tr style=\"text-align: right;\">\n",
       "      <th></th>\n",
       "      <th>datetime</th>\n",
       "      <th>amplitude</th>\n",
       "      <th>frequencies</th>\n",
       "      <th>RPM1</th>\n",
       "      <th>RPM2</th>\n",
       "      <th>RPM3</th>\n",
       "      <th>RPM4</th>\n",
       "      <th>RPM5</th>\n",
       "    </tr>\n",
       "  </thead>\n",
       "  <tbody>\n",
       "    <tr>\n",
       "      <th>0</th>\n",
       "      <td>2024-06-30 22:03:08.742834</td>\n",
       "      <td>4.5</td>\n",
       "      <td>1.0</td>\n",
       "      <td>13</td>\n",
       "      <td>9</td>\n",
       "      <td>9</td>\n",
       "      <td>9</td>\n",
       "      <td>9</td>\n",
       "    </tr>\n",
       "    <tr>\n",
       "      <th>1</th>\n",
       "      <td>2024-06-30 22:03:14.809333</td>\n",
       "      <td>4.5</td>\n",
       "      <td>2.0</td>\n",
       "      <td>33</td>\n",
       "      <td>33</td>\n",
       "      <td>19</td>\n",
       "      <td>19</td>\n",
       "      <td>19</td>\n",
       "    </tr>\n",
       "    <tr>\n",
       "      <th>2</th>\n",
       "      <td>2024-06-30 22:03:20.676530</td>\n",
       "      <td>4.5</td>\n",
       "      <td>4.0</td>\n",
       "      <td>43</td>\n",
       "      <td>39</td>\n",
       "      <td>39</td>\n",
       "      <td>39</td>\n",
       "      <td>39</td>\n",
       "    </tr>\n",
       "    <tr>\n",
       "      <th>3</th>\n",
       "      <td>2024-06-30 22:03:26.537270</td>\n",
       "      <td>4.5</td>\n",
       "      <td>6.0</td>\n",
       "      <td>59</td>\n",
       "      <td>59</td>\n",
       "      <td>59</td>\n",
       "      <td>59</td>\n",
       "      <td>59</td>\n",
       "    </tr>\n",
       "    <tr>\n",
       "      <th>4</th>\n",
       "      <td>2024-06-30 22:03:32.405925</td>\n",
       "      <td>4.5</td>\n",
       "      <td>10.0</td>\n",
       "      <td>99</td>\n",
       "      <td>99</td>\n",
       "      <td>99</td>\n",
       "      <td>99</td>\n",
       "      <td>99</td>\n",
       "    </tr>\n",
       "    <tr>\n",
       "      <th>...</th>\n",
       "      <td>...</td>\n",
       "      <td>...</td>\n",
       "      <td>...</td>\n",
       "      <td>...</td>\n",
       "      <td>...</td>\n",
       "      <td>...</td>\n",
       "      <td>...</td>\n",
       "      <td>...</td>\n",
       "    </tr>\n",
       "    <tr>\n",
       "      <th>155</th>\n",
       "      <td>2024-06-30 22:18:18.844278</td>\n",
       "      <td>15.0</td>\n",
       "      <td>132.0</td>\n",
       "      <td>0</td>\n",
       "      <td>0</td>\n",
       "      <td>0</td>\n",
       "      <td>0</td>\n",
       "      <td>0</td>\n",
       "    </tr>\n",
       "    <tr>\n",
       "      <th>156</th>\n",
       "      <td>2024-06-30 22:18:24.706454</td>\n",
       "      <td>15.0</td>\n",
       "      <td>136.0</td>\n",
       "      <td>24</td>\n",
       "      <td>0</td>\n",
       "      <td>0</td>\n",
       "      <td>0</td>\n",
       "      <td>0</td>\n",
       "    </tr>\n",
       "    <tr>\n",
       "      <th>157</th>\n",
       "      <td>2024-06-30 22:18:30.563755</td>\n",
       "      <td>15.0</td>\n",
       "      <td>140.0</td>\n",
       "      <td>0</td>\n",
       "      <td>0</td>\n",
       "      <td>0</td>\n",
       "      <td>0</td>\n",
       "      <td>0</td>\n",
       "    </tr>\n",
       "    <tr>\n",
       "      <th>158</th>\n",
       "      <td>2024-06-30 22:18:36.428307</td>\n",
       "      <td>15.0</td>\n",
       "      <td>144.0</td>\n",
       "      <td>0</td>\n",
       "      <td>0</td>\n",
       "      <td>0</td>\n",
       "      <td>0</td>\n",
       "      <td>0</td>\n",
       "    </tr>\n",
       "    <tr>\n",
       "      <th>159</th>\n",
       "      <td>2024-06-30 22:18:42.293171</td>\n",
       "      <td>15.0</td>\n",
       "      <td>148.0</td>\n",
       "      <td>0</td>\n",
       "      <td>0</td>\n",
       "      <td>0</td>\n",
       "      <td>0</td>\n",
       "      <td>0</td>\n",
       "    </tr>\n",
       "  </tbody>\n",
       "</table>\n",
       "<p>160 rows × 8 columns</p>\n",
       "</div>"
      ],
      "text/plain": [
       "                      datetime  amplitude  frequencies RPM1 RPM2 RPM3 RPM4  \\\n",
       "0   2024-06-30 22:03:08.742834        4.5          1.0   13    9    9    9   \n",
       "1   2024-06-30 22:03:14.809333        4.5          2.0   33   33   19   19   \n",
       "2   2024-06-30 22:03:20.676530        4.5          4.0   43   39   39   39   \n",
       "3   2024-06-30 22:03:26.537270        4.5          6.0   59   59   59   59   \n",
       "4   2024-06-30 22:03:32.405925        4.5         10.0   99   99   99   99   \n",
       "..                         ...        ...          ...  ...  ...  ...  ...   \n",
       "155 2024-06-30 22:18:18.844278       15.0        132.0    0    0    0    0   \n",
       "156 2024-06-30 22:18:24.706454       15.0        136.0   24    0    0    0   \n",
       "157 2024-06-30 22:18:30.563755       15.0        140.0    0    0    0    0   \n",
       "158 2024-06-30 22:18:36.428307       15.0        144.0    0    0    0    0   \n",
       "159 2024-06-30 22:18:42.293171       15.0        148.0    0    0    0    0   \n",
       "\n",
       "    RPM5  \n",
       "0      9  \n",
       "1     19  \n",
       "2     39  \n",
       "3     59  \n",
       "4     99  \n",
       "..   ...  \n",
       "155    0  \n",
       "156    0  \n",
       "157    0  \n",
       "158    0  \n",
       "159    0  \n",
       "\n",
       "[160 rows x 8 columns]"
      ]
     },
     "execution_count": 11,
     "metadata": {},
     "output_type": "execute_result"
    }
   ],
   "source": [
    "df = pd.DataFrame(data)\n",
    "df"
   ]
  },
  {
   "cell_type": "code",
   "execution_count": 12,
   "id": "b8d29e05-e27e-4620-8ec4-2b2552ae6c0c",
   "metadata": {},
   "outputs": [],
   "source": [
    "df.to_csv(EXPERIMENT_DIR / \"data.csv\", index=False)"
   ]
  },
  {
   "cell_type": "code",
   "execution_count": null,
   "id": "3fde3554-1eea-4d91-b1de-30bbd5eb2cd2",
   "metadata": {},
   "outputs": [],
   "source": []
  }
 ],
 "metadata": {
  "kernelspec": {
   "display_name": "Python 3 (ipykernel)",
   "language": "python",
   "name": "python3"
  },
  "language_info": {
   "codemirror_mode": {
    "name": "ipython",
    "version": 3
   },
   "file_extension": ".py",
   "mimetype": "text/x-python",
   "name": "python",
   "nbconvert_exporter": "python",
   "pygments_lexer": "ipython3",
   "version": "3.11.2"
  }
 },
 "nbformat": 4,
 "nbformat_minor": 5
}
