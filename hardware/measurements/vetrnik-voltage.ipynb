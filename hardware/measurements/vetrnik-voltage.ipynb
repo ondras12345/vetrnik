{
 "cells": [
  {
   "cell_type": "markdown",
   "id": "95ab3a6e-d347-4e0e-91c3-34844d781e25",
   "metadata": {},
   "source": [
    "Kontrola linearity měření napětí\n",
    "---\n",
    "- Kenwood DLE 1041 mezi DC+ a DC-\n",
    "- Diametral AC250K1D na 2 svorkách 3f vstupu\n",
    "- odpojená zátěž (softwarová OVP se může pokusit zastavit turbínu maximální střídou)"
   ]
  },
  {
   "cell_type": "code",
   "execution_count": 1,
   "id": "eb5346b2-5f95-4a40-8599-e5a61671558f",
   "metadata": {},
   "outputs": [],
   "source": [
    "import math\n",
    "import time\n",
    "import pandas as pd\n",
    "import numpy as np\n",
    "import pyvisa\n",
    "from datetime import datetime\n",
    "from tqdm import tqdm\n",
    "from vetrnik import *\n",
    "from AC250K1D import AC250K1D\n",
    "from pathlib import Path"
   ]
  },
  {
   "cell_type": "code",
   "execution_count": 2,
   "id": "188b9bee-da23-48ac-9521-9fe927fa0e90",
   "metadata": {},
   "outputs": [],
   "source": [
    "EXPERIMENT_DIR = Path(\"experiments\") / \"vetrnik-voltage-run2\"\n",
    "EXPERIMENT_DIR.mkdir(parents=True, exist_ok=True)"
   ]
  },
  {
   "cell_type": "code",
   "execution_count": 3,
   "id": "35827d7a-9a7b-4726-a276-dc15db5d6082",
   "metadata": {},
   "outputs": [],
   "source": [
    "log = vetrnik_log_start(EXPERIMENT_DIR / \"MQTT.log\")"
   ]
  },
  {
   "cell_type": "code",
   "execution_count": 4,
   "id": "58a17da9-38f2-4d57-9d19-b083b6c6008d",
   "metadata": {},
   "outputs": [
    {
     "data": {
      "text/plain": [
       "'TYPAC250K1D  VC0614'"
      ]
     },
     "execution_count": 4,
     "metadata": {},
     "output_type": "execute_result"
    }
   ],
   "source": [
    "psu = AC250K1D(\"/dev/ttyUSB-AC250K1D\", 1, timeout=2.0)\n",
    "psu.get_id()"
   ]
  },
  {
   "cell_type": "code",
   "execution_count": 5,
   "id": "73ca5fc0-cc3a-470f-addd-bcec57750c0f",
   "metadata": {},
   "outputs": [],
   "source": [
    "psu.voltage = 0\n",
    "time.sleep(.8)\n",
    "psu.output = True"
   ]
  },
  {
   "cell_type": "code",
   "execution_count": 6,
   "id": "a1d05860-7858-4e4e-b861-9ae302a09103",
   "metadata": {},
   "outputs": [
    {
     "data": {
      "text/plain": [
       "'KENWOOD DLE 1041,0,1.22'"
      ]
     },
     "execution_count": 6,
     "metadata": {},
     "output_type": "execute_result"
    }
   ],
   "source": [
    "rm = pyvisa.ResourceManager()\n",
    "dmm = rm.open_resource(\"ASRL/dev/ttyUSB-dle1041::INSTR\", baud_rate=9600, read_termination='\\r\\n', write_termination='\\n')\n",
    "dmm.query(\"*IDN?\")"
   ]
  },
  {
   "cell_type": "code",
   "execution_count": 7,
   "id": "059e64be-e3e3-4f3b-b5f7-8f72874d5ff3",
   "metadata": {},
   "outputs": [
    {
     "data": {
      "text/plain": [
       "4"
      ]
     },
     "execution_count": 7,
     "metadata": {},
     "output_type": "execute_result"
    }
   ],
   "source": [
    "dmm.write(\"VDC\")  # autorange"
   ]
  },
  {
   "cell_type": "code",
   "execution_count": 8,
   "id": "2c13d8c5-ceb7-41f3-b379-172ef9c75195",
   "metadata": {},
   "outputs": [],
   "source": [
    "vetrnik_set(\"control/strategy\", \"control_MQTT\")\n",
    "vetrnik_set(\"control/contactor\", \"1\")\n",
    "vetrnik_set(\"power_board/duty\", \"0\")\n",
    "vetrnik_set(\"power_board/sw_enable\", \"1\")\n",
    "time.sleep(.5)\n",
    "vetrnik_set(\"power_board/mode\", \"start\")"
   ]
  },
  {
   "cell_type": "code",
   "execution_count": 9,
   "id": "c5e794c3-112d-4f34-a592-e30967fa3060",
   "metadata": {},
   "outputs": [
    {
     "data": {
      "text/plain": [
       "64.83961030678927"
      ]
     },
     "execution_count": 9,
     "metadata": {},
     "output_type": "execute_result"
    }
   ],
   "source": [
    "# hardware OVP should trip @ ~109 V\n",
    "# software OVP should trip @ 95V\n",
    "VDC_max = 90\n",
    "VAC_max = VDC_max / math.sqrt(2) + .6*2\n",
    "VAC_max\n",
    "# settings 60 VAC results in 65 VAC out"
   ]
  },
  {
   "cell_type": "code",
   "execution_count": 10,
   "id": "a7353f56-cd61-4886-bbc6-afd474ec81c8",
   "metadata": {},
   "outputs": [
    {
     "data": {
      "text/plain": [
       "([2, 3, 5, 10, 15, 20, 25, 30, 35, 40, 45, 50, 55, 60], 14)"
      ]
     },
     "execution_count": 10,
     "metadata": {},
     "output_type": "execute_result"
    }
   ],
   "source": [
    "voltages = [2, 3, *range(5, 61, 5)]\n",
    "voltages, len(voltages)"
   ]
  },
  {
   "cell_type": "code",
   "execution_count": 11,
   "id": "2921acf8-3e6e-40af-a092-015213074804",
   "metadata": {},
   "outputs": [],
   "source": [
    "time.sleep(1)"
   ]
  },
  {
   "cell_type": "code",
   "execution_count": 12,
   "id": "29a9b369-0d30-437c-8538-31f247c5b98f",
   "metadata": {},
   "outputs": [
    {
     "name": "stderr",
     "output_type": "stream",
     "text": [
      "  7%|███████▎                                                                                               | 1/14 [00:04<01:00,  4.63s/it]"
     ]
    },
    {
     "name": "stdout",
     "output_type": "stream",
     "text": [
      "{'datetime': datetime.datetime(2024, 7, 1, 22, 11, 10, 541995), 'voltage_set': 2, 'voltage_get1': 2, 'voltage_dmm1': ' 02.342e00 V DC   ', 'time1': '1354', 'voltage_vetrnik1': '2.1', 'voltage_get2': 2, 'voltage_dmm2': ' 02.369e00 V DC   ', 'time2': '1355', 'voltage_vetrnik2': '2.1', 'voltage_get3': 2, 'voltage_dmm3': ' 02.383e00 V DC   ', 'time3': '1357', 'voltage_vetrnik3': '2.1'}\n"
     ]
    },
    {
     "name": "stderr",
     "output_type": "stream",
     "text": [
      " 14%|██████████████▋                                                                                        | 2/14 [00:09<00:55,  4.61s/it]"
     ]
    },
    {
     "name": "stdout",
     "output_type": "stream",
     "text": [
      "{'datetime': datetime.datetime(2024, 7, 1, 22, 11, 15, 180022), 'voltage_set': 3, 'voltage_get1': 3, 'voltage_dmm1': ' 03.930e00 V DC   ', 'time1': '1359', 'voltage_vetrnik1': '3.6', 'voltage_get2': 3, 'voltage_dmm2': ' 03.957e00 V DC   ', 'time2': '1360', 'voltage_vetrnik2': '3.8', 'voltage_get3': 3, 'voltage_dmm3': ' 03.967e00 V DC   ', 'time3': '1361', 'voltage_vetrnik3': '3.8'}\n"
     ]
    },
    {
     "name": "stderr",
     "output_type": "stream",
     "text": [
      " 21%|██████████████████████                                                                                 | 3/14 [00:13<00:50,  4.60s/it]"
     ]
    },
    {
     "name": "stdout",
     "output_type": "stream",
     "text": [
      "{'datetime': datetime.datetime(2024, 7, 1, 22, 11, 19, 769974), 'voltage_set': 5, 'voltage_get1': 5, 'voltage_dmm1': ' 07.140e00 V DC   ', 'time1': '1363', 'voltage_vetrnik1': '6.8', 'voltage_get2': 5, 'voltage_dmm2': ' 07.156e00 V DC   ', 'time2': '1365', 'voltage_vetrnik2': '7.0', 'voltage_get3': 5, 'voltage_dmm3': ' 07.158e00 V DC   ', 'time3': '1366', 'voltage_vetrnik3': '7.0'}\n"
     ]
    },
    {
     "name": "stderr",
     "output_type": "stream",
     "text": [
      " 29%|█████████████████████████████▍                                                                         | 4/14 [00:18<00:45,  4.60s/it]"
     ]
    },
    {
     "name": "stdout",
     "output_type": "stream",
     "text": [
      "{'datetime': datetime.datetime(2024, 7, 1, 22, 11, 24, 360379), 'voltage_set': 10, 'voltage_get1': 10, 'voltage_dmm1': ' 014.39e00 V DC   ', 'time1': '1368', 'voltage_vetrnik1': '14.2', 'voltage_get2': 11, 'voltage_dmm2': ' 014.39e00 V DC   ', 'time2': '1369', 'voltage_vetrnik2': '14.2', 'voltage_get3': 11, 'voltage_dmm3': ' 014.40e00 V DC   ', 'time3': '1370', 'voltage_vetrnik3': '14.2'}\n"
     ]
    },
    {
     "name": "stderr",
     "output_type": "stream",
     "text": [
      " 36%|████████████████████████████████████▊                                                                  | 5/14 [00:23<00:41,  4.62s/it]"
     ]
    },
    {
     "name": "stdout",
     "output_type": "stream",
     "text": [
      "{'datetime': datetime.datetime(2024, 7, 1, 22, 11, 28, 949898), 'voltage_set': 15, 'voltage_get1': 16, 'voltage_dmm1': ' 022.47e00 V DC   ', 'time1': '1373', 'voltage_vetrnik1': '22.2', 'voltage_get2': 16, 'voltage_dmm2': ' 022.50e00 V DC   ', 'time2': '1374', 'voltage_vetrnik2': '22.2', 'voltage_get3': 16, 'voltage_dmm3': ' 022.51e00 V DC   ', 'time3': '1375', 'voltage_vetrnik3': '22.4'}\n"
     ]
    },
    {
     "name": "stderr",
     "output_type": "stream",
     "text": [
      " 43%|████████████████████████████████████████████▏                                                          | 6/14 [00:27<00:36,  4.61s/it]"
     ]
    },
    {
     "name": "stdout",
     "output_type": "stream",
     "text": [
      "{'datetime': datetime.datetime(2024, 7, 1, 22, 11, 33, 617683), 'voltage_set': 20, 'voltage_get1': 21, 'voltage_dmm1': ' 029.72e00 V DC   ', 'time1': '1377', 'voltage_vetrnik1': '29.4', 'voltage_get2': 21, 'voltage_dmm2': ' 029.82e00 V DC   ', 'time2': '1378', 'voltage_vetrnik2': '29.6', 'voltage_get3': 21, 'voltage_dmm3': ' 029.83e00 V DC   ', 'time3': '1380', 'voltage_vetrnik3': '29.6'}\n"
     ]
    },
    {
     "name": "stderr",
     "output_type": "stream",
     "text": [
      " 50%|███████████████████████████████████████████████████▌                                                   | 7/14 [00:32<00:32,  4.67s/it]"
     ]
    },
    {
     "name": "stdout",
     "output_type": "stream",
     "text": [
      "{'datetime': datetime.datetime(2024, 7, 1, 22, 11, 38, 209869), 'voltage_set': 25, 'voltage_get1': 26, 'voltage_dmm1': ' 037.00e00 V DC   ', 'time1': '1382', 'voltage_vetrnik1': '36.8', 'voltage_get2': 26, 'voltage_dmm2': ' 037.03e00 V DC   ', 'time2': '1383', 'voltage_vetrnik2': '36.9', 'voltage_get3': 27, 'voltage_dmm3': ' 037.09e00 V DC   ', 'time3': '1384', 'voltage_vetrnik3': '36.9'}\n"
     ]
    },
    {
     "name": "stderr",
     "output_type": "stream",
     "text": [
      " 57%|██████████████████████████████████████████████████████████▊                                            | 8/14 [00:37<00:27,  4.65s/it]"
     ]
    },
    {
     "name": "stdout",
     "output_type": "stream",
     "text": [
      "{'datetime': datetime.datetime(2024, 7, 1, 22, 11, 42, 997621), 'voltage_set': 30, 'voltage_get1': 32, 'voltage_dmm1': ' 045.33e00 V DC   ', 'time1': '1387', 'voltage_vetrnik1': '45.2', 'voltage_get2': 32, 'voltage_dmm2': ' 045.12e00 V DC   ', 'time2': '1388', 'voltage_vetrnik2': '45.0', 'voltage_get3': 32, 'voltage_dmm3': ' 045.12e00 V DC   ', 'time3': '1389', 'voltage_vetrnik3': '45.0'}\n"
     ]
    },
    {
     "name": "stderr",
     "output_type": "stream",
     "text": [
      " 64%|██████████████████████████████████████████████████████████████████▏                                    | 9/14 [00:41<00:23,  4.65s/it]"
     ]
    },
    {
     "name": "stdout",
     "output_type": "stream",
     "text": [
      "{'datetime': datetime.datetime(2024, 7, 1, 22, 11, 47, 594307), 'voltage_set': 35, 'voltage_get1': 38, 'voltage_dmm1': ' 053.30e00 V DC   ', 'time1': '1391', 'voltage_vetrnik1': '53.1', 'voltage_get2': 38, 'voltage_dmm2': ' 053.31e00 V DC   ', 'time2': '1393', 'voltage_vetrnik2': '53.3', 'voltage_get3': 38, 'voltage_dmm3': ' 053.41e00 V DC   ', 'time3': '1394', 'voltage_vetrnik3': '53.3'}\n"
     ]
    },
    {
     "name": "stderr",
     "output_type": "stream",
     "text": [
      " 71%|████████████████████████████████████████████████████████████████████████▊                             | 10/14 [00:46<00:18,  4.63s/it]"
     ]
    },
    {
     "name": "stdout",
     "output_type": "stream",
     "text": [
      "{'datetime': datetime.datetime(2024, 7, 1, 22, 11, 52, 261631), 'voltage_set': 40, 'voltage_get1': 43, 'voltage_dmm1': ' 060.85e00 V DC   ', 'time1': '1396', 'voltage_vetrnik1': '60.8', 'voltage_get2': 43, 'voltage_dmm2': ' 060.81e00 V DC   ', 'time2': '1397', 'voltage_vetrnik2': '60.8', 'voltage_get3': 43, 'voltage_dmm3': ' 060.60e00 V DC   ', 'time3': '1398', 'voltage_vetrnik3': '60.6'}\n"
     ]
    },
    {
     "name": "stderr",
     "output_type": "stream",
     "text": [
      " 79%|████████████████████████████████████████████████████████████████████████████████▏                     | 11/14 [00:50<00:13,  4.62s/it]"
     ]
    },
    {
     "name": "stdout",
     "output_type": "stream",
     "text": [
      "{'datetime': datetime.datetime(2024, 7, 1, 22, 11, 56, 853579), 'voltage_set': 45, 'voltage_get1': 49, 'voltage_dmm1': ' 068.70e00 V DC   ', 'time1': '1400', 'voltage_vetrnik1': '68.7', 'voltage_get2': 49, 'voltage_dmm2': ' 068.79e00 V DC   ', 'time2': '1402', 'voltage_vetrnik2': '68.9', 'voltage_get3': 49, 'voltage_dmm3': ' 068.70e00 V DC   ', 'time3': '1403', 'voltage_vetrnik3': '68.7'}\n"
     ]
    },
    {
     "name": "stderr",
     "output_type": "stream",
     "text": [
      " 86%|███████████████████████████████████████████████████████████████████████████████████████▍              | 12/14 [00:55<00:09,  4.62s/it]"
     ]
    },
    {
     "name": "stdout",
     "output_type": "stream",
     "text": [
      "{'datetime': datetime.datetime(2024, 7, 1, 22, 12, 1, 437823), 'voltage_set': 50, 'voltage_get1': 54, 'voltage_dmm1': ' 075.96e00 V DC   ', 'time1': '1405', 'voltage_vetrnik1': '75.9', 'voltage_get2': 54, 'voltage_dmm2': ' 075.97e00 V DC   ', 'time2': '1406', 'voltage_vetrnik2': '76.0', 'voltage_get3': 54, 'voltage_dmm3': ' 076.00e00 V DC   ', 'time3': '1407', 'voltage_vetrnik3': '76.0'}\n"
     ]
    },
    {
     "name": "stderr",
     "output_type": "stream",
     "text": [
      " 93%|██████████████████████████████████████████████████████████████████████████████████████████████▋       | 13/14 [01:00<00:04,  4.66s/it]"
     ]
    },
    {
     "name": "stdout",
     "output_type": "stream",
     "text": [
      "{'datetime': datetime.datetime(2024, 7, 1, 22, 12, 6, 55400), 'voltage_set': 55, 'voltage_get1': 60, 'voltage_dmm1': ' 084.07e00 V DC   ', 'time1': '1410', 'voltage_vetrnik1': '84.2', 'voltage_get2': 60, 'voltage_dmm2': ' 084.07e00 V DC   ', 'time2': '1411', 'voltage_vetrnik2': '84.2', 'voltage_get3': 60, 'voltage_dmm3': ' 084.08e00 V DC   ', 'time3': '1412', 'voltage_vetrnik3': '84.3'}\n"
     ]
    },
    {
     "name": "stderr",
     "output_type": "stream",
     "text": [
      "100%|██████████████████████████████████████████████████████████████████████████████████████████████████████| 14/14 [01:04<00:00,  4.64s/it]"
     ]
    },
    {
     "name": "stdout",
     "output_type": "stream",
     "text": [
      "{'datetime': datetime.datetime(2024, 7, 1, 22, 12, 10, 805534), 'voltage_set': 60, 'voltage_get1': 65, 'voltage_dmm1': ' 091.38e00 V DC   ', 'time1': '1414', 'voltage_vetrnik1': '91.5', 'voltage_get2': 65, 'voltage_dmm2': ' 091.40e00 V DC   ', 'time2': '1416', 'voltage_vetrnik2': '91.6', 'voltage_get3': 65, 'voltage_dmm3': ' 091.40e00 V DC   ', 'time3': '1417', 'voltage_vetrnik3': '91.6'}\n"
     ]
    },
    {
     "name": "stderr",
     "output_type": "stream",
     "text": [
      "\n"
     ]
    }
   ],
   "source": [
    "data = []\n",
    "\n",
    "for v in tqdm(voltages):\n",
    "    dp = {\n",
    "        \"datetime\": datetime.now(),\n",
    "        \"voltage_set\": v,\n",
    "    }\n",
    "    vetrnik_set(\"control/contactor\", \"1\")  # prevent timeout\n",
    "    vetrnik_set(\"power_board/duty\", \"0\")  # prevent timeout\n",
    "    psu.voltage = v\n",
    "    time.sleep(2)\n",
    "    dp[\"voltage_get1\"] = psu.voltage\n",
    "    dp[\"voltage_dmm1\"] = dmm.query(\"READ?\")\n",
    "    dp[\"time1\"] = vetrnik_get(\"power_board/time\")\n",
    "    dp[\"voltage_vetrnik1\"] = vetrnik_get(\"power_board/voltage\")\n",
    "    time.sleep(1)\n",
    "    dp[\"voltage_get2\"] = psu.voltage\n",
    "    dp[\"voltage_dmm2\"] = dmm.query(\"READ?\")\n",
    "    dp[\"time2\"] = vetrnik_get(\"power_board/time\")\n",
    "    dp[\"voltage_vetrnik2\"] = vetrnik_get(\"power_board/voltage\")\n",
    "    time.sleep(1)\n",
    "    dp[\"voltage_get3\"] = psu.voltage\n",
    "    dp[\"voltage_dmm3\"] = dmm.query(\"READ?\")\n",
    "    dp[\"time3\"] = vetrnik_get(\"power_board/time\")\n",
    "    dp[\"voltage_vetrnik3\"] = vetrnik_get(\"power_board/voltage\")\n",
    "    print(dp)\n",
    "    data.append(dp)"
   ]
  },
  {
   "cell_type": "code",
   "execution_count": 13,
   "id": "91f2f4c1-a653-49b5-9352-0e4602d01b2a",
   "metadata": {},
   "outputs": [],
   "source": [
    "psu.voltage = 0\n",
    "psu.output = False\n",
    "vetrnik_set(\"control/strategy\", \"control_shorted\")"
   ]
  },
  {
   "cell_type": "code",
   "execution_count": 14,
   "id": "df003154-c21f-4481-addc-3692a995826c",
   "metadata": {},
   "outputs": [],
   "source": [
    "vetrnik_log_stop(log)\n",
    "del log"
   ]
  },
  {
   "cell_type": "code",
   "execution_count": 15,
   "id": "49c0a9e8-8a67-4a9e-b49e-baa0f9e583c3",
   "metadata": {},
   "outputs": [],
   "source": [
    "psu.close()\n",
    "rm.close()"
   ]
  },
  {
   "cell_type": "code",
   "execution_count": 16,
   "id": "f99e0587-1a30-4fce-9b00-a7348f7f3fb0",
   "metadata": {},
   "outputs": [
    {
     "data": {
      "text/html": [
       "<div>\n",
       "<style scoped>\n",
       "    .dataframe tbody tr th:only-of-type {\n",
       "        vertical-align: middle;\n",
       "    }\n",
       "\n",
       "    .dataframe tbody tr th {\n",
       "        vertical-align: top;\n",
       "    }\n",
       "\n",
       "    .dataframe thead th {\n",
       "        text-align: right;\n",
       "    }\n",
       "</style>\n",
       "<table border=\"1\" class=\"dataframe\">\n",
       "  <thead>\n",
       "    <tr style=\"text-align: right;\">\n",
       "      <th></th>\n",
       "      <th>datetime</th>\n",
       "      <th>voltage_set</th>\n",
       "      <th>voltage_get1</th>\n",
       "      <th>voltage_dmm1</th>\n",
       "      <th>time1</th>\n",
       "      <th>voltage_vetrnik1</th>\n",
       "      <th>voltage_get2</th>\n",
       "      <th>voltage_dmm2</th>\n",
       "      <th>time2</th>\n",
       "      <th>voltage_vetrnik2</th>\n",
       "      <th>voltage_get3</th>\n",
       "      <th>voltage_dmm3</th>\n",
       "      <th>time3</th>\n",
       "      <th>voltage_vetrnik3</th>\n",
       "    </tr>\n",
       "  </thead>\n",
       "  <tbody>\n",
       "    <tr>\n",
       "      <th>0</th>\n",
       "      <td>2024-07-01 22:11:10.541995</td>\n",
       "      <td>2</td>\n",
       "      <td>2</td>\n",
       "      <td>02.342e00 V DC</td>\n",
       "      <td>1354</td>\n",
       "      <td>2.1</td>\n",
       "      <td>2</td>\n",
       "      <td>02.369e00 V DC</td>\n",
       "      <td>1355</td>\n",
       "      <td>2.1</td>\n",
       "      <td>2</td>\n",
       "      <td>02.383e00 V DC</td>\n",
       "      <td>1357</td>\n",
       "      <td>2.1</td>\n",
       "    </tr>\n",
       "    <tr>\n",
       "      <th>1</th>\n",
       "      <td>2024-07-01 22:11:15.180022</td>\n",
       "      <td>3</td>\n",
       "      <td>3</td>\n",
       "      <td>03.930e00 V DC</td>\n",
       "      <td>1359</td>\n",
       "      <td>3.6</td>\n",
       "      <td>3</td>\n",
       "      <td>03.957e00 V DC</td>\n",
       "      <td>1360</td>\n",
       "      <td>3.8</td>\n",
       "      <td>3</td>\n",
       "      <td>03.967e00 V DC</td>\n",
       "      <td>1361</td>\n",
       "      <td>3.8</td>\n",
       "    </tr>\n",
       "    <tr>\n",
       "      <th>2</th>\n",
       "      <td>2024-07-01 22:11:19.769974</td>\n",
       "      <td>5</td>\n",
       "      <td>5</td>\n",
       "      <td>07.140e00 V DC</td>\n",
       "      <td>1363</td>\n",
       "      <td>6.8</td>\n",
       "      <td>5</td>\n",
       "      <td>07.156e00 V DC</td>\n",
       "      <td>1365</td>\n",
       "      <td>7.0</td>\n",
       "      <td>5</td>\n",
       "      <td>07.158e00 V DC</td>\n",
       "      <td>1366</td>\n",
       "      <td>7.0</td>\n",
       "    </tr>\n",
       "    <tr>\n",
       "      <th>3</th>\n",
       "      <td>2024-07-01 22:11:24.360379</td>\n",
       "      <td>10</td>\n",
       "      <td>10</td>\n",
       "      <td>014.39e00 V DC</td>\n",
       "      <td>1368</td>\n",
       "      <td>14.2</td>\n",
       "      <td>11</td>\n",
       "      <td>014.39e00 V DC</td>\n",
       "      <td>1369</td>\n",
       "      <td>14.2</td>\n",
       "      <td>11</td>\n",
       "      <td>014.40e00 V DC</td>\n",
       "      <td>1370</td>\n",
       "      <td>14.2</td>\n",
       "    </tr>\n",
       "    <tr>\n",
       "      <th>4</th>\n",
       "      <td>2024-07-01 22:11:28.949898</td>\n",
       "      <td>15</td>\n",
       "      <td>16</td>\n",
       "      <td>022.47e00 V DC</td>\n",
       "      <td>1373</td>\n",
       "      <td>22.2</td>\n",
       "      <td>16</td>\n",
       "      <td>022.50e00 V DC</td>\n",
       "      <td>1374</td>\n",
       "      <td>22.2</td>\n",
       "      <td>16</td>\n",
       "      <td>022.51e00 V DC</td>\n",
       "      <td>1375</td>\n",
       "      <td>22.4</td>\n",
       "    </tr>\n",
       "    <tr>\n",
       "      <th>5</th>\n",
       "      <td>2024-07-01 22:11:33.617683</td>\n",
       "      <td>20</td>\n",
       "      <td>21</td>\n",
       "      <td>029.72e00 V DC</td>\n",
       "      <td>1377</td>\n",
       "      <td>29.4</td>\n",
       "      <td>21</td>\n",
       "      <td>029.82e00 V DC</td>\n",
       "      <td>1378</td>\n",
       "      <td>29.6</td>\n",
       "      <td>21</td>\n",
       "      <td>029.83e00 V DC</td>\n",
       "      <td>1380</td>\n",
       "      <td>29.6</td>\n",
       "    </tr>\n",
       "    <tr>\n",
       "      <th>6</th>\n",
       "      <td>2024-07-01 22:11:38.209869</td>\n",
       "      <td>25</td>\n",
       "      <td>26</td>\n",
       "      <td>037.00e00 V DC</td>\n",
       "      <td>1382</td>\n",
       "      <td>36.8</td>\n",
       "      <td>26</td>\n",
       "      <td>037.03e00 V DC</td>\n",
       "      <td>1383</td>\n",
       "      <td>36.9</td>\n",
       "      <td>27</td>\n",
       "      <td>037.09e00 V DC</td>\n",
       "      <td>1384</td>\n",
       "      <td>36.9</td>\n",
       "    </tr>\n",
       "    <tr>\n",
       "      <th>7</th>\n",
       "      <td>2024-07-01 22:11:42.997621</td>\n",
       "      <td>30</td>\n",
       "      <td>32</td>\n",
       "      <td>045.33e00 V DC</td>\n",
       "      <td>1387</td>\n",
       "      <td>45.2</td>\n",
       "      <td>32</td>\n",
       "      <td>045.12e00 V DC</td>\n",
       "      <td>1388</td>\n",
       "      <td>45.0</td>\n",
       "      <td>32</td>\n",
       "      <td>045.12e00 V DC</td>\n",
       "      <td>1389</td>\n",
       "      <td>45.0</td>\n",
       "    </tr>\n",
       "    <tr>\n",
       "      <th>8</th>\n",
       "      <td>2024-07-01 22:11:47.594307</td>\n",
       "      <td>35</td>\n",
       "      <td>38</td>\n",
       "      <td>053.30e00 V DC</td>\n",
       "      <td>1391</td>\n",
       "      <td>53.1</td>\n",
       "      <td>38</td>\n",
       "      <td>053.31e00 V DC</td>\n",
       "      <td>1393</td>\n",
       "      <td>53.3</td>\n",
       "      <td>38</td>\n",
       "      <td>053.41e00 V DC</td>\n",
       "      <td>1394</td>\n",
       "      <td>53.3</td>\n",
       "    </tr>\n",
       "    <tr>\n",
       "      <th>9</th>\n",
       "      <td>2024-07-01 22:11:52.261631</td>\n",
       "      <td>40</td>\n",
       "      <td>43</td>\n",
       "      <td>060.85e00 V DC</td>\n",
       "      <td>1396</td>\n",
       "      <td>60.8</td>\n",
       "      <td>43</td>\n",
       "      <td>060.81e00 V DC</td>\n",
       "      <td>1397</td>\n",
       "      <td>60.8</td>\n",
       "      <td>43</td>\n",
       "      <td>060.60e00 V DC</td>\n",
       "      <td>1398</td>\n",
       "      <td>60.6</td>\n",
       "    </tr>\n",
       "    <tr>\n",
       "      <th>10</th>\n",
       "      <td>2024-07-01 22:11:56.853579</td>\n",
       "      <td>45</td>\n",
       "      <td>49</td>\n",
       "      <td>068.70e00 V DC</td>\n",
       "      <td>1400</td>\n",
       "      <td>68.7</td>\n",
       "      <td>49</td>\n",
       "      <td>068.79e00 V DC</td>\n",
       "      <td>1402</td>\n",
       "      <td>68.9</td>\n",
       "      <td>49</td>\n",
       "      <td>068.70e00 V DC</td>\n",
       "      <td>1403</td>\n",
       "      <td>68.7</td>\n",
       "    </tr>\n",
       "    <tr>\n",
       "      <th>11</th>\n",
       "      <td>2024-07-01 22:12:01.437823</td>\n",
       "      <td>50</td>\n",
       "      <td>54</td>\n",
       "      <td>075.96e00 V DC</td>\n",
       "      <td>1405</td>\n",
       "      <td>75.9</td>\n",
       "      <td>54</td>\n",
       "      <td>075.97e00 V DC</td>\n",
       "      <td>1406</td>\n",
       "      <td>76.0</td>\n",
       "      <td>54</td>\n",
       "      <td>076.00e00 V DC</td>\n",
       "      <td>1407</td>\n",
       "      <td>76.0</td>\n",
       "    </tr>\n",
       "    <tr>\n",
       "      <th>12</th>\n",
       "      <td>2024-07-01 22:12:06.055400</td>\n",
       "      <td>55</td>\n",
       "      <td>60</td>\n",
       "      <td>084.07e00 V DC</td>\n",
       "      <td>1410</td>\n",
       "      <td>84.2</td>\n",
       "      <td>60</td>\n",
       "      <td>084.07e00 V DC</td>\n",
       "      <td>1411</td>\n",
       "      <td>84.2</td>\n",
       "      <td>60</td>\n",
       "      <td>084.08e00 V DC</td>\n",
       "      <td>1412</td>\n",
       "      <td>84.3</td>\n",
       "    </tr>\n",
       "    <tr>\n",
       "      <th>13</th>\n",
       "      <td>2024-07-01 22:12:10.805534</td>\n",
       "      <td>60</td>\n",
       "      <td>65</td>\n",
       "      <td>091.38e00 V DC</td>\n",
       "      <td>1414</td>\n",
       "      <td>91.5</td>\n",
       "      <td>65</td>\n",
       "      <td>091.40e00 V DC</td>\n",
       "      <td>1416</td>\n",
       "      <td>91.6</td>\n",
       "      <td>65</td>\n",
       "      <td>091.40e00 V DC</td>\n",
       "      <td>1417</td>\n",
       "      <td>91.6</td>\n",
       "    </tr>\n",
       "  </tbody>\n",
       "</table>\n",
       "</div>"
      ],
      "text/plain": [
       "                     datetime  voltage_set  voltage_get1        voltage_dmm1  \\\n",
       "0  2024-07-01 22:11:10.541995            2             2   02.342e00 V DC      \n",
       "1  2024-07-01 22:11:15.180022            3             3   03.930e00 V DC      \n",
       "2  2024-07-01 22:11:19.769974            5             5   07.140e00 V DC      \n",
       "3  2024-07-01 22:11:24.360379           10            10   014.39e00 V DC      \n",
       "4  2024-07-01 22:11:28.949898           15            16   022.47e00 V DC      \n",
       "5  2024-07-01 22:11:33.617683           20            21   029.72e00 V DC      \n",
       "6  2024-07-01 22:11:38.209869           25            26   037.00e00 V DC      \n",
       "7  2024-07-01 22:11:42.997621           30            32   045.33e00 V DC      \n",
       "8  2024-07-01 22:11:47.594307           35            38   053.30e00 V DC      \n",
       "9  2024-07-01 22:11:52.261631           40            43   060.85e00 V DC      \n",
       "10 2024-07-01 22:11:56.853579           45            49   068.70e00 V DC      \n",
       "11 2024-07-01 22:12:01.437823           50            54   075.96e00 V DC      \n",
       "12 2024-07-01 22:12:06.055400           55            60   084.07e00 V DC      \n",
       "13 2024-07-01 22:12:10.805534           60            65   091.38e00 V DC      \n",
       "\n",
       "   time1 voltage_vetrnik1  voltage_get2        voltage_dmm2 time2  \\\n",
       "0   1354              2.1             2   02.369e00 V DC     1355   \n",
       "1   1359              3.6             3   03.957e00 V DC     1360   \n",
       "2   1363              6.8             5   07.156e00 V DC     1365   \n",
       "3   1368             14.2            11   014.39e00 V DC     1369   \n",
       "4   1373             22.2            16   022.50e00 V DC     1374   \n",
       "5   1377             29.4            21   029.82e00 V DC     1378   \n",
       "6   1382             36.8            26   037.03e00 V DC     1383   \n",
       "7   1387             45.2            32   045.12e00 V DC     1388   \n",
       "8   1391             53.1            38   053.31e00 V DC     1393   \n",
       "9   1396             60.8            43   060.81e00 V DC     1397   \n",
       "10  1400             68.7            49   068.79e00 V DC     1402   \n",
       "11  1405             75.9            54   075.97e00 V DC     1406   \n",
       "12  1410             84.2            60   084.07e00 V DC     1411   \n",
       "13  1414             91.5            65   091.40e00 V DC     1416   \n",
       "\n",
       "   voltage_vetrnik2  voltage_get3        voltage_dmm3 time3 voltage_vetrnik3  \n",
       "0               2.1             2   02.383e00 V DC     1357              2.1  \n",
       "1               3.8             3   03.967e00 V DC     1361              3.8  \n",
       "2               7.0             5   07.158e00 V DC     1366              7.0  \n",
       "3              14.2            11   014.40e00 V DC     1370             14.2  \n",
       "4              22.2            16   022.51e00 V DC     1375             22.4  \n",
       "5              29.6            21   029.83e00 V DC     1380             29.6  \n",
       "6              36.9            27   037.09e00 V DC     1384             36.9  \n",
       "7              45.0            32   045.12e00 V DC     1389             45.0  \n",
       "8              53.3            38   053.41e00 V DC     1394             53.3  \n",
       "9              60.8            43   060.60e00 V DC     1398             60.6  \n",
       "10             68.9            49   068.70e00 V DC     1403             68.7  \n",
       "11             76.0            54   076.00e00 V DC     1407             76.0  \n",
       "12             84.2            60   084.08e00 V DC     1412             84.3  \n",
       "13             91.6            65   091.40e00 V DC     1417             91.6  "
      ]
     },
     "execution_count": 16,
     "metadata": {},
     "output_type": "execute_result"
    }
   ],
   "source": [
    "df = pd.DataFrame(data)\n",
    "df"
   ]
  },
  {
   "cell_type": "code",
   "execution_count": 25,
   "id": "31ce73d1-a055-401c-98fa-9ec12c454a60",
   "metadata": {},
   "outputs": [
    {
     "data": {
      "text/html": [
       "<div>\n",
       "<style scoped>\n",
       "    .dataframe tbody tr th:only-of-type {\n",
       "        vertical-align: middle;\n",
       "    }\n",
       "\n",
       "    .dataframe tbody tr th {\n",
       "        vertical-align: top;\n",
       "    }\n",
       "\n",
       "    .dataframe thead th {\n",
       "        text-align: right;\n",
       "    }\n",
       "</style>\n",
       "<table border=\"1\" class=\"dataframe\">\n",
       "  <thead>\n",
       "    <tr style=\"text-align: right;\">\n",
       "      <th></th>\n",
       "      <th>datetime</th>\n",
       "      <th>voltage_set</th>\n",
       "      <th>voltage_get1</th>\n",
       "      <th>voltage_dmm1</th>\n",
       "      <th>time1</th>\n",
       "      <th>voltage_vetrnik1</th>\n",
       "      <th>voltage_get2</th>\n",
       "      <th>voltage_dmm2</th>\n",
       "      <th>time2</th>\n",
       "      <th>voltage_vetrnik2</th>\n",
       "      <th>voltage_get3</th>\n",
       "      <th>voltage_dmm3</th>\n",
       "      <th>time3</th>\n",
       "      <th>voltage_vetrnik3</th>\n",
       "      <th>voltage_dmm1_V</th>\n",
       "      <th>voltage_dmm2_V</th>\n",
       "      <th>voltage_dmm3_V</th>\n",
       "    </tr>\n",
       "  </thead>\n",
       "  <tbody>\n",
       "    <tr>\n",
       "      <th>0</th>\n",
       "      <td>2024-07-01 22:11:10.541995</td>\n",
       "      <td>2</td>\n",
       "      <td>2</td>\n",
       "      <td>02.342e00 V DC</td>\n",
       "      <td>1354</td>\n",
       "      <td>2.1</td>\n",
       "      <td>2</td>\n",
       "      <td>02.369e00 V DC</td>\n",
       "      <td>1355</td>\n",
       "      <td>2.1</td>\n",
       "      <td>2</td>\n",
       "      <td>02.383e00 V DC</td>\n",
       "      <td>1357</td>\n",
       "      <td>2.1</td>\n",
       "      <td>2.342</td>\n",
       "      <td>2.369</td>\n",
       "      <td>2.383</td>\n",
       "    </tr>\n",
       "    <tr>\n",
       "      <th>1</th>\n",
       "      <td>2024-07-01 22:11:15.180022</td>\n",
       "      <td>3</td>\n",
       "      <td>3</td>\n",
       "      <td>03.930e00 V DC</td>\n",
       "      <td>1359</td>\n",
       "      <td>3.6</td>\n",
       "      <td>3</td>\n",
       "      <td>03.957e00 V DC</td>\n",
       "      <td>1360</td>\n",
       "      <td>3.8</td>\n",
       "      <td>3</td>\n",
       "      <td>03.967e00 V DC</td>\n",
       "      <td>1361</td>\n",
       "      <td>3.8</td>\n",
       "      <td>3.930</td>\n",
       "      <td>3.957</td>\n",
       "      <td>3.967</td>\n",
       "    </tr>\n",
       "    <tr>\n",
       "      <th>2</th>\n",
       "      <td>2024-07-01 22:11:19.769974</td>\n",
       "      <td>5</td>\n",
       "      <td>5</td>\n",
       "      <td>07.140e00 V DC</td>\n",
       "      <td>1363</td>\n",
       "      <td>6.8</td>\n",
       "      <td>5</td>\n",
       "      <td>07.156e00 V DC</td>\n",
       "      <td>1365</td>\n",
       "      <td>7.0</td>\n",
       "      <td>5</td>\n",
       "      <td>07.158e00 V DC</td>\n",
       "      <td>1366</td>\n",
       "      <td>7.0</td>\n",
       "      <td>7.140</td>\n",
       "      <td>7.156</td>\n",
       "      <td>7.158</td>\n",
       "    </tr>\n",
       "    <tr>\n",
       "      <th>3</th>\n",
       "      <td>2024-07-01 22:11:24.360379</td>\n",
       "      <td>10</td>\n",
       "      <td>10</td>\n",
       "      <td>014.39e00 V DC</td>\n",
       "      <td>1368</td>\n",
       "      <td>14.2</td>\n",
       "      <td>11</td>\n",
       "      <td>014.39e00 V DC</td>\n",
       "      <td>1369</td>\n",
       "      <td>14.2</td>\n",
       "      <td>11</td>\n",
       "      <td>014.40e00 V DC</td>\n",
       "      <td>1370</td>\n",
       "      <td>14.2</td>\n",
       "      <td>14.390</td>\n",
       "      <td>14.390</td>\n",
       "      <td>14.400</td>\n",
       "    </tr>\n",
       "    <tr>\n",
       "      <th>4</th>\n",
       "      <td>2024-07-01 22:11:28.949898</td>\n",
       "      <td>15</td>\n",
       "      <td>16</td>\n",
       "      <td>022.47e00 V DC</td>\n",
       "      <td>1373</td>\n",
       "      <td>22.2</td>\n",
       "      <td>16</td>\n",
       "      <td>022.50e00 V DC</td>\n",
       "      <td>1374</td>\n",
       "      <td>22.2</td>\n",
       "      <td>16</td>\n",
       "      <td>022.51e00 V DC</td>\n",
       "      <td>1375</td>\n",
       "      <td>22.4</td>\n",
       "      <td>22.470</td>\n",
       "      <td>22.500</td>\n",
       "      <td>22.510</td>\n",
       "    </tr>\n",
       "    <tr>\n",
       "      <th>5</th>\n",
       "      <td>2024-07-01 22:11:33.617683</td>\n",
       "      <td>20</td>\n",
       "      <td>21</td>\n",
       "      <td>029.72e00 V DC</td>\n",
       "      <td>1377</td>\n",
       "      <td>29.4</td>\n",
       "      <td>21</td>\n",
       "      <td>029.82e00 V DC</td>\n",
       "      <td>1378</td>\n",
       "      <td>29.6</td>\n",
       "      <td>21</td>\n",
       "      <td>029.83e00 V DC</td>\n",
       "      <td>1380</td>\n",
       "      <td>29.6</td>\n",
       "      <td>29.720</td>\n",
       "      <td>29.820</td>\n",
       "      <td>29.830</td>\n",
       "    </tr>\n",
       "    <tr>\n",
       "      <th>6</th>\n",
       "      <td>2024-07-01 22:11:38.209869</td>\n",
       "      <td>25</td>\n",
       "      <td>26</td>\n",
       "      <td>037.00e00 V DC</td>\n",
       "      <td>1382</td>\n",
       "      <td>36.8</td>\n",
       "      <td>26</td>\n",
       "      <td>037.03e00 V DC</td>\n",
       "      <td>1383</td>\n",
       "      <td>36.9</td>\n",
       "      <td>27</td>\n",
       "      <td>037.09e00 V DC</td>\n",
       "      <td>1384</td>\n",
       "      <td>36.9</td>\n",
       "      <td>37.000</td>\n",
       "      <td>37.030</td>\n",
       "      <td>37.090</td>\n",
       "    </tr>\n",
       "    <tr>\n",
       "      <th>7</th>\n",
       "      <td>2024-07-01 22:11:42.997621</td>\n",
       "      <td>30</td>\n",
       "      <td>32</td>\n",
       "      <td>045.33e00 V DC</td>\n",
       "      <td>1387</td>\n",
       "      <td>45.2</td>\n",
       "      <td>32</td>\n",
       "      <td>045.12e00 V DC</td>\n",
       "      <td>1388</td>\n",
       "      <td>45.0</td>\n",
       "      <td>32</td>\n",
       "      <td>045.12e00 V DC</td>\n",
       "      <td>1389</td>\n",
       "      <td>45.0</td>\n",
       "      <td>45.330</td>\n",
       "      <td>45.120</td>\n",
       "      <td>45.120</td>\n",
       "    </tr>\n",
       "    <tr>\n",
       "      <th>8</th>\n",
       "      <td>2024-07-01 22:11:47.594307</td>\n",
       "      <td>35</td>\n",
       "      <td>38</td>\n",
       "      <td>053.30e00 V DC</td>\n",
       "      <td>1391</td>\n",
       "      <td>53.1</td>\n",
       "      <td>38</td>\n",
       "      <td>053.31e00 V DC</td>\n",
       "      <td>1393</td>\n",
       "      <td>53.3</td>\n",
       "      <td>38</td>\n",
       "      <td>053.41e00 V DC</td>\n",
       "      <td>1394</td>\n",
       "      <td>53.3</td>\n",
       "      <td>53.300</td>\n",
       "      <td>53.310</td>\n",
       "      <td>53.410</td>\n",
       "    </tr>\n",
       "    <tr>\n",
       "      <th>9</th>\n",
       "      <td>2024-07-01 22:11:52.261631</td>\n",
       "      <td>40</td>\n",
       "      <td>43</td>\n",
       "      <td>060.85e00 V DC</td>\n",
       "      <td>1396</td>\n",
       "      <td>60.8</td>\n",
       "      <td>43</td>\n",
       "      <td>060.81e00 V DC</td>\n",
       "      <td>1397</td>\n",
       "      <td>60.8</td>\n",
       "      <td>43</td>\n",
       "      <td>060.60e00 V DC</td>\n",
       "      <td>1398</td>\n",
       "      <td>60.6</td>\n",
       "      <td>60.850</td>\n",
       "      <td>60.810</td>\n",
       "      <td>60.600</td>\n",
       "    </tr>\n",
       "    <tr>\n",
       "      <th>10</th>\n",
       "      <td>2024-07-01 22:11:56.853579</td>\n",
       "      <td>45</td>\n",
       "      <td>49</td>\n",
       "      <td>068.70e00 V DC</td>\n",
       "      <td>1400</td>\n",
       "      <td>68.7</td>\n",
       "      <td>49</td>\n",
       "      <td>068.79e00 V DC</td>\n",
       "      <td>1402</td>\n",
       "      <td>68.9</td>\n",
       "      <td>49</td>\n",
       "      <td>068.70e00 V DC</td>\n",
       "      <td>1403</td>\n",
       "      <td>68.7</td>\n",
       "      <td>68.700</td>\n",
       "      <td>68.790</td>\n",
       "      <td>68.700</td>\n",
       "    </tr>\n",
       "    <tr>\n",
       "      <th>11</th>\n",
       "      <td>2024-07-01 22:12:01.437823</td>\n",
       "      <td>50</td>\n",
       "      <td>54</td>\n",
       "      <td>075.96e00 V DC</td>\n",
       "      <td>1405</td>\n",
       "      <td>75.9</td>\n",
       "      <td>54</td>\n",
       "      <td>075.97e00 V DC</td>\n",
       "      <td>1406</td>\n",
       "      <td>76.0</td>\n",
       "      <td>54</td>\n",
       "      <td>076.00e00 V DC</td>\n",
       "      <td>1407</td>\n",
       "      <td>76.0</td>\n",
       "      <td>75.960</td>\n",
       "      <td>75.970</td>\n",
       "      <td>76.000</td>\n",
       "    </tr>\n",
       "    <tr>\n",
       "      <th>12</th>\n",
       "      <td>2024-07-01 22:12:06.055400</td>\n",
       "      <td>55</td>\n",
       "      <td>60</td>\n",
       "      <td>084.07e00 V DC</td>\n",
       "      <td>1410</td>\n",
       "      <td>84.2</td>\n",
       "      <td>60</td>\n",
       "      <td>084.07e00 V DC</td>\n",
       "      <td>1411</td>\n",
       "      <td>84.2</td>\n",
       "      <td>60</td>\n",
       "      <td>084.08e00 V DC</td>\n",
       "      <td>1412</td>\n",
       "      <td>84.3</td>\n",
       "      <td>84.070</td>\n",
       "      <td>84.070</td>\n",
       "      <td>84.080</td>\n",
       "    </tr>\n",
       "    <tr>\n",
       "      <th>13</th>\n",
       "      <td>2024-07-01 22:12:10.805534</td>\n",
       "      <td>60</td>\n",
       "      <td>65</td>\n",
       "      <td>091.38e00 V DC</td>\n",
       "      <td>1414</td>\n",
       "      <td>91.5</td>\n",
       "      <td>65</td>\n",
       "      <td>091.40e00 V DC</td>\n",
       "      <td>1416</td>\n",
       "      <td>91.6</td>\n",
       "      <td>65</td>\n",
       "      <td>091.40e00 V DC</td>\n",
       "      <td>1417</td>\n",
       "      <td>91.6</td>\n",
       "      <td>91.380</td>\n",
       "      <td>91.400</td>\n",
       "      <td>91.400</td>\n",
       "    </tr>\n",
       "  </tbody>\n",
       "</table>\n",
       "</div>"
      ],
      "text/plain": [
       "                     datetime  voltage_set  voltage_get1        voltage_dmm1  \\\n",
       "0  2024-07-01 22:11:10.541995            2             2   02.342e00 V DC      \n",
       "1  2024-07-01 22:11:15.180022            3             3   03.930e00 V DC      \n",
       "2  2024-07-01 22:11:19.769974            5             5   07.140e00 V DC      \n",
       "3  2024-07-01 22:11:24.360379           10            10   014.39e00 V DC      \n",
       "4  2024-07-01 22:11:28.949898           15            16   022.47e00 V DC      \n",
       "5  2024-07-01 22:11:33.617683           20            21   029.72e00 V DC      \n",
       "6  2024-07-01 22:11:38.209869           25            26   037.00e00 V DC      \n",
       "7  2024-07-01 22:11:42.997621           30            32   045.33e00 V DC      \n",
       "8  2024-07-01 22:11:47.594307           35            38   053.30e00 V DC      \n",
       "9  2024-07-01 22:11:52.261631           40            43   060.85e00 V DC      \n",
       "10 2024-07-01 22:11:56.853579           45            49   068.70e00 V DC      \n",
       "11 2024-07-01 22:12:01.437823           50            54   075.96e00 V DC      \n",
       "12 2024-07-01 22:12:06.055400           55            60   084.07e00 V DC      \n",
       "13 2024-07-01 22:12:10.805534           60            65   091.38e00 V DC      \n",
       "\n",
       "   time1  voltage_vetrnik1  voltage_get2        voltage_dmm2 time2  \\\n",
       "0   1354               2.1             2   02.369e00 V DC     1355   \n",
       "1   1359               3.6             3   03.957e00 V DC     1360   \n",
       "2   1363               6.8             5   07.156e00 V DC     1365   \n",
       "3   1368              14.2            11   014.39e00 V DC     1369   \n",
       "4   1373              22.2            16   022.50e00 V DC     1374   \n",
       "5   1377              29.4            21   029.82e00 V DC     1378   \n",
       "6   1382              36.8            26   037.03e00 V DC     1383   \n",
       "7   1387              45.2            32   045.12e00 V DC     1388   \n",
       "8   1391              53.1            38   053.31e00 V DC     1393   \n",
       "9   1396              60.8            43   060.81e00 V DC     1397   \n",
       "10  1400              68.7            49   068.79e00 V DC     1402   \n",
       "11  1405              75.9            54   075.97e00 V DC     1406   \n",
       "12  1410              84.2            60   084.07e00 V DC     1411   \n",
       "13  1414              91.5            65   091.40e00 V DC     1416   \n",
       "\n",
       "    voltage_vetrnik2  voltage_get3        voltage_dmm3 time3  \\\n",
       "0                2.1             2   02.383e00 V DC     1357   \n",
       "1                3.8             3   03.967e00 V DC     1361   \n",
       "2                7.0             5   07.158e00 V DC     1366   \n",
       "3               14.2            11   014.40e00 V DC     1370   \n",
       "4               22.2            16   022.51e00 V DC     1375   \n",
       "5               29.6            21   029.83e00 V DC     1380   \n",
       "6               36.9            27   037.09e00 V DC     1384   \n",
       "7               45.0            32   045.12e00 V DC     1389   \n",
       "8               53.3            38   053.41e00 V DC     1394   \n",
       "9               60.8            43   060.60e00 V DC     1398   \n",
       "10              68.9            49   068.70e00 V DC     1403   \n",
       "11              76.0            54   076.00e00 V DC     1407   \n",
       "12              84.2            60   084.08e00 V DC     1412   \n",
       "13              91.6            65   091.40e00 V DC     1417   \n",
       "\n",
       "    voltage_vetrnik3  voltage_dmm1_V  voltage_dmm2_V  voltage_dmm3_V  \n",
       "0                2.1           2.342           2.369           2.383  \n",
       "1                3.8           3.930           3.957           3.967  \n",
       "2                7.0           7.140           7.156           7.158  \n",
       "3               14.2          14.390          14.390          14.400  \n",
       "4               22.4          22.470          22.500          22.510  \n",
       "5               29.6          29.720          29.820          29.830  \n",
       "6               36.9          37.000          37.030          37.090  \n",
       "7               45.0          45.330          45.120          45.120  \n",
       "8               53.3          53.300          53.310          53.410  \n",
       "9               60.6          60.850          60.810          60.600  \n",
       "10              68.7          68.700          68.790          68.700  \n",
       "11              76.0          75.960          75.970          76.000  \n",
       "12              84.3          84.070          84.070          84.080  \n",
       "13              91.6          91.380          91.400          91.400  "
      ]
     },
     "execution_count": 25,
     "metadata": {},
     "output_type": "execute_result"
    }
   ],
   "source": [
    "# decode DMM measurements\n",
    "for col in [f\"voltage_dmm{i}\" for i in range(1,4)]:\n",
    "    df[col+\"_V\"] = pd.to_numeric(df[col].str.strip().str.split(\" \", n=1, expand=True)[0])\n",
    "\n",
    "# vetrnik measurements from string to float\n",
    "for col in [f\"voltage_vetrnik{i}\" for i in range(1,4)]:\n",
    "    df[col] = pd.to_numeric(df[col])\n",
    "\n",
    "df"
   ]
  },
  {
   "cell_type": "code",
   "execution_count": 18,
   "id": "9ae586b9-cfbb-4fa6-b8d8-1707eddad6ec",
   "metadata": {},
   "outputs": [],
   "source": [
    "df.to_csv(EXPERIMENT_DIR / \"data.csv\", index=False)"
   ]
  },
  {
   "cell_type": "code",
   "execution_count": 27,
   "id": "eade82a0-ddc3-45d3-86db-78423aa73e35",
   "metadata": {},
   "outputs": [
    {
     "data": {
      "text/plain": [
       "<Axes: xlabel='voltage_dmm1_V'>"
      ]
     },
     "execution_count": 27,
     "metadata": {},
     "output_type": "execute_result"
    },
    {
     "data": {
      "image/png": "[encoded data removed]",
      "text/plain": [
       "<Figure size 640x480 with 1 Axes>"
      ]
     },
     "metadata": {},
     "output_type": "display_data"
    }
   ],
   "source": [
    "df.plot(x=\"voltage_dmm1_V\", y=\"voltage_vetrnik1\", style=\"-o\")"
   ]
  },
  {
   "cell_type": "code",
   "execution_count": null,
   "id": "75ff2079-b877-4bbf-acea-b8bbb8fbd470",
   "metadata": {},
   "outputs": [],
   "source": []
  }
 ],
 "metadata": {
  "kernelspec": {
   "display_name": "Python 3 (ipykernel)",
   "language": "python",
   "name": "python3"
  },
  "language_info": {
   "codemirror_mode": {
    "name": "ipython",
    "version": 3
   },
   "file_extension": ".py",
   "mimetype": "text/x-python",
   "name": "python",
   "nbconvert_exporter": "python",
   "pygments_lexer": "ipython3",
   "version": "3.11.2"
  }
 },
 "nbformat": 4,
 "nbformat_minor": 5
}
