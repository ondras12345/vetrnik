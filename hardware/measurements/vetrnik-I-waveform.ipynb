{
 "cells": [
  {
   "cell_type": "markdown",
   "id": "8e281c3f-84d8-425f-9072-c20a082f8d4a",
   "metadata": {},
   "source": [
    "Měření časových průběhů proudu na BNC výstupu desky vetrnik-current-sensor-opamp v závislosti na nastavené střídě.\n",
    "\n",
    "- Napájení 12V ATX skrz usměrňovač skrz Kenwood DLE 1041 DMM.\n",
    "- POZOR, BNC je spojené s GNDPWR a přes osciloskop poteče přes PE zpět do ATX - přemostit DC- stranu usměrňovače.\n",
    "- Zátěž: žárovka / odporový drát ve vodě (různé EXPERIMENT_DIR).\n",
    "- vetrnik-power je nastaveny na 400Hz"
   ]
  },
  {
   "cell_type": "code",
   "execution_count": 1,
   "id": "11423baa-f278-4364-bdfb-b91ccb88e852",
   "metadata": {},
   "outputs": [],
   "source": [
    "from scope import *\n",
    "from pathlib import Path\n",
    "import time\n",
    "import tqdm\n",
    "import logging\n",
    "import datetime\n",
    "import subprocess\n",
    "import paho.mqtt.subscribe as sub\n",
    "import paho.mqtt.publish as pub\n",
    "\n",
    "MQTT_HOST: str = \"192.168.1.4\"\n",
    "TOPIC_TELE: str = \"vetrnik/tele\"\n",
    "TOPIC_CMND: str = \"vetrnik/cmnd\"\n",
    "EXPERIMENT_DIR = Path(\"experiments/vetrnik-I-waveform-zarovka-run2\")\n",
    "EXPERIMENT_DIR.mkdir(parents=True, exist_ok=True)\n",
    "_LOGGER = logging.getLogger(__name__)\n",
    "logging.basicConfig(level=logging.INFO)"
   ]
  },
  {
   "cell_type": "code",
   "execution_count": 2,
   "id": "95294007-bf42-4700-9784-6b55c7a5a9cc",
   "metadata": {},
   "outputs": [
    {
     "data": {
      "text/plain": [
       "1706158"
      ]
     },
     "execution_count": 2,
     "metadata": {},
     "output_type": "execute_result"
    }
   ],
   "source": [
    "MQTT_log_file = open(EXPERIMENT_DIR / \"MQTT.log\", \"w\")\n",
    "MQTT_pid = subprocess.Popen([\"mosquitto_sub\", \"-h\", MQTT_HOST, \"-F\", \"@T.@N : %t %p\", \"-t\", \"vetrnik/#\"], shell=False, stdout=MQTT_log_file)\n",
    "MQTT_pid.pid"
   ]
  },
  {
   "cell_type": "code",
   "execution_count": 3,
   "id": "5625c947-9281-4e4f-a46b-fc16d071a5e5",
   "metadata": {},
   "outputs": [],
   "source": [
    "def MQTT_pub(cmnd, message):\n",
    "    pub.single(f\"{TOPIC_CMND}/{cmnd}\", message, hostname=MQTT_HOST)"
   ]
  },
  {
   "cell_type": "code",
   "execution_count": 4,
   "id": "f3277be9-dd91-4bb6-8a5b-3a91e10093f6",
   "metadata": {},
   "outputs": [],
   "source": [
    "def MQTT_get(topic: str) -> str:\n",
    "    m = sub.simple(f\"{TOPIC_TELE}/{topic}\", hostname=MQTT_HOST, msg_count=1, retained=True)\n",
    "    return m.payload.decode('ascii')\n"
   ]
  },
  {
   "cell_type": "code",
   "execution_count": 5,
   "id": "fcecc27b-b47e-4280-998a-8e90bd92f9ba",
   "metadata": {},
   "outputs": [],
   "source": [
    "rm = pyvisa.ResourceManager()"
   ]
  },
  {
   "cell_type": "code",
   "execution_count": 6,
   "id": "7be11e44-e79c-4ed0-b105-c4372738c174",
   "metadata": {},
   "outputs": [
    {
     "data": {
      "text/plain": [
       "'KENWOOD DLE 1041,0,1.22'"
      ]
     },
     "execution_count": 6,
     "metadata": {},
     "output_type": "execute_result"
    }
   ],
   "source": [
    "dmm = rm.open_resource(\"ASRL/dev/ttyUSB-dle1041::INSTR\", baud_rate=9600, read_termination='\\r\\n', write_termination='\\n')\n",
    "dmm.query(\"*IDN?\")"
   ]
  },
  {
   "cell_type": "code",
   "execution_count": 7,
   "id": "0f9b3862-85b4-412e-82f6-dee8fcf4ab28",
   "metadata": {},
   "outputs": [
    {
     "data": {
      "text/plain": [
       "8"
      ]
     },
     "execution_count": 7,
     "metadata": {},
     "output_type": "execute_result"
    }
   ],
   "source": [
    "#dmm.write(\"*RST\")  # don't do that !! goes through the whole init sequence again\n",
    "dmm.write(\"IDC 10A\")"
   ]
  },
  {
   "cell_type": "code",
   "execution_count": 8,
   "id": "1064c72a-40b5-4d51-bc33-03a4c0e4591a",
   "metadata": {},
   "outputs": [
    {
     "data": {
      "text/plain": [
       "'AGILENT TECHNOLOGIES,54621A,MY40007148,A.02.31'"
      ]
     },
     "execution_count": 8,
     "metadata": {},
     "output_type": "execute_result"
    }
   ],
   "source": [
    "scope = scope_open(rm)\n",
    "scope.query(\"*IDN?\")"
   ]
  },
  {
   "cell_type": "code",
   "execution_count": 9,
   "id": "3d8681fb-3de3-4388-a3fb-b9c60149ff23",
   "metadata": {},
   "outputs": [
    {
     "data": {
      "text/plain": [
       "6"
      ]
     },
     "execution_count": 9,
     "metadata": {},
     "output_type": "execute_result"
    }
   ],
   "source": [
    "scope.write(\"*RST\")  # load defaults - only CH1 is on\n",
    "time.sleep(1.5)\n",
    "scope.write(\":TIMEBASE:RANGE 5E-3\")  # 500us / div\n",
    "scope.write(\":TIMEBASE:DELAY 0\")\n",
    "scope.write(\":TIMEBASE:REFERENCE CENTER\")\n",
    "time.sleep(0.5)\n",
    "scope.write(\":CHANNEL1:PROBE 1\")\n",
    "scope.write(\":CHANNEL1:DISPLAY 1\")\n",
    "scope.write(\":CHANNEL1:COUPLING DC\")\n",
    "scope.write(\":CHANNEL1:RANGE 1.6\")  # full scale\n",
    "scope.write(\":CHANNEL1:OFFSET 0.6\")\n",
    "scope.write(\":CHANNEL1:BWLIMIT ON\")\n",
    "time.sleep(0.5)\n",
    "scope.write(\":TRIGGER:SWEEP NORMAL\")\n",
    "scope.write(\":TRIGGER:COUPLING AC\")\n",
    "scope.write(\":TRIGGER:LEVEL 0\")\n",
    "scope.write(\":TRIGGER:SLOPE POSITIVE\")\n",
    "scope.write(\":TRIGGER:NREJECT ON\")\n",
    "scope.write(\":ACQUIRE:TYPE NORMAL\")\n",
    "\n",
    "scope.write(\":STOP\")  # we'll be doing single shot captures"
   ]
  },
  {
   "cell_type": "raw",
   "id": "5e0b2978-386f-4926-b253-d677d9c3d557",
   "metadata": {},
   "source": [
    "s = scope_get_settings(scope)\n",
    "s"
   ]
  },
  {
   "cell_type": "raw",
   "id": "44f4e019-9322-4ed7-acc0-06ca07e46d49",
   "metadata": {},
   "source": [
    "scope.write(\":DIGITIZE\")"
   ]
  },
  {
   "cell_type": "code",
   "execution_count": 10,
   "id": "559b04bb-546a-4a1f-9f1e-617b54ce0c11",
   "metadata": {},
   "outputs": [
    {
     "data": {
      "text/plain": [
       "'2540'"
      ]
     },
     "execution_count": 10,
     "metadata": {},
     "output_type": "execute_result"
    }
   ],
   "source": [
    "# set up vetrnik\n",
    "MQTT_pub(\"control/strategy\", \"control_MQTT\")\n",
    "MQTT_pub(\"control/contactor\", \"1\")\n",
    "MQTT_pub(\"power_board/sw_enable\", \"1\")\n",
    "MQTT_pub(\"power_board/mode\", \"start\")\n",
    "MQTT_pub(\"power_board/duty\", \"128\")  # preheat light bulb\n",
    "\n",
    "time.sleep(1.0)\n",
    "\n",
    "MQTT_get(\"power_board/time\")"
   ]
  },
  {
   "cell_type": "code",
   "execution_count": 11,
   "id": "e923ebb3-8378-44c0-ac1b-31692b0d171b",
   "metadata": {},
   "outputs": [],
   "source": [
    "duty = [\n",
    "    # min duty is 4\n",
    "    5,\n",
    "    8,\n",
    "    10,\n",
    "    12,\n",
    "    15,\n",
    "    20,\n",
    "    25,\n",
    "    35,\n",
    "    50,\n",
    "    75,\n",
    "    100,\n",
    "    125,\n",
    "    150,\n",
    "    175,\n",
    "    200,\n",
    "    225,\n",
    "    240,\n",
    "    245,\n",
    "    247,  # Hbridge_duty_max\n",
    "]"
   ]
  },
  {
   "cell_type": "raw",
   "id": "fa76f3bc-8872-4ff5-8c82-e5708bf3c821",
   "metadata": {},
   "source": [
    "d = pd.DataFrame(duty)\n",
    "d.plot(style='o')"
   ]
  },
  {
   "cell_type": "code",
   "execution_count": 12,
   "id": "1ec19686-466a-4a80-8af7-b96160832fbb",
   "metadata": {},
   "outputs": [
    {
     "name": "stderr",
     "output_type": "stream",
     "text": [
      "  0%|                                                    | 0/19 [00:00<?, ?it/s]INFO:scope:reading channel CHANNEL1\n",
      "INFO:scope:preamble: {'FORMAT': 'WORD', 'TYPE': 'NORM', 'POINTS': 2000, 'COUNT': 1, 'XINCREMENT': 2.5e-06, 'XORIGIN': -0.0025, 'XREFERENCE': 0.0, 'YINCREMENT': 2.44141e-05, 'YORIGIN': 0.6, 'YREFERENCE': 0.0}\n"
     ]
    },
    {
     "name": "stdout",
     "output_type": "stream",
     "text": [
      "Scope settings written to experiments/vetrnik-I-waveform-zarovka-run2/d5-wav1.txt\n",
      "Data written to experiments/vetrnik-I-waveform-zarovka-run2/d5-wav1.csv\n"
     ]
    },
    {
     "name": "stderr",
     "output_type": "stream",
     "text": [
      "INFO:scope:reading channel CHANNEL1\n",
      "INFO:scope:preamble: {'FORMAT': 'WORD', 'TYPE': 'NORM', 'POINTS': 2000, 'COUNT': 1, 'XINCREMENT': 2.5e-06, 'XORIGIN': -0.0025, 'XREFERENCE': 0.0, 'YINCREMENT': 2.44141e-05, 'YORIGIN': 0.6, 'YREFERENCE': 0.0}\n"
     ]
    },
    {
     "name": "stdout",
     "output_type": "stream",
     "text": [
      "Scope settings written to experiments/vetrnik-I-waveform-zarovka-run2/d5-wav2.txt\n"
     ]
    },
    {
     "name": "stderr",
     "output_type": "stream",
     "text": [
      "  5%|██▎                                         | 1/19 [00:09<02:53,  9.65s/it]"
     ]
    },
    {
     "name": "stdout",
     "output_type": "stream",
     "text": [
      "Data written to experiments/vetrnik-I-waveform-zarovka-run2/d5-wav2.csv\n",
      "{'datetime': datetime.datetime(2024, 6, 30, 17, 47, 43, 580089), 'duty': 5, 'wav1': 'experiments/vetrnik-I-waveform-zarovka-run2/d5-wav1', 'wav2': 'experiments/vetrnik-I-waveform-zarovka-run2/d5-wav2', 'duty_read': '5', 'time1': '2543', 'I1_dmm': ' 00.146e00 A DC   ', 'I1_vetrnik': '0.082', 'U1_vetrnik': '10.6', 'time2': '2548', 'I2_dmm': ' 00.167e00 A DC   ', 'I2_vetrnik': '0.123', 'U2_vetrnik': '10.6'}\n"
     ]
    },
    {
     "name": "stderr",
     "output_type": "stream",
     "text": [
      "INFO:scope:reading channel CHANNEL1\n",
      "INFO:scope:preamble: {'FORMAT': 'WORD', 'TYPE': 'NORM', 'POINTS': 2000, 'COUNT': 1, 'XINCREMENT': 2.5e-06, 'XORIGIN': -0.0025, 'XREFERENCE': 0.0, 'YINCREMENT': 2.44141e-05, 'YORIGIN': 0.6, 'YREFERENCE': 0.0}\n"
     ]
    },
    {
     "name": "stdout",
     "output_type": "stream",
     "text": [
      "Scope settings written to experiments/vetrnik-I-waveform-zarovka-run2/d8-wav1.txt\n",
      "Data written to experiments/vetrnik-I-waveform-zarovka-run2/d8-wav1.csv\n"
     ]
    },
    {
     "name": "stderr",
     "output_type": "stream",
     "text": [
      "INFO:scope:reading channel CHANNEL1\n",
      "INFO:scope:preamble: {'FORMAT': 'WORD', 'TYPE': 'NORM', 'POINTS': 2000, 'COUNT': 1, 'XINCREMENT': 2.5e-06, 'XORIGIN': -0.0025, 'XREFERENCE': 0.0, 'YINCREMENT': 2.44141e-05, 'YORIGIN': 0.6, 'YREFERENCE': 0.0}\n"
     ]
    },
    {
     "name": "stdout",
     "output_type": "stream",
     "text": [
      "Scope settings written to experiments/vetrnik-I-waveform-zarovka-run2/d8-wav2.txt\n"
     ]
    },
    {
     "name": "stderr",
     "output_type": "stream",
     "text": [
      " 11%|████▋                                       | 2/19 [00:19<02:44,  9.69s/it]"
     ]
    },
    {
     "name": "stdout",
     "output_type": "stream",
     "text": [
      "Data written to experiments/vetrnik-I-waveform-zarovka-run2/d8-wav2.csv\n",
      "{'datetime': datetime.datetime(2024, 6, 30, 17, 47, 53, 234144), 'duty': 8, 'wav1': 'experiments/vetrnik-I-waveform-zarovka-run2/d8-wav1', 'wav2': 'experiments/vetrnik-I-waveform-zarovka-run2/d8-wav2', 'duty_read': '8', 'time1': '2552', 'I1_dmm': ' 00.270e00 A DC   ', 'I1_vetrnik': '0.205', 'U1_vetrnik': '10.6', 'time2': '2558', 'I2_dmm': ' 00.262e00 A DC   ', 'I2_vetrnik': '0.205', 'U2_vetrnik': '10.6'}\n"
     ]
    },
    {
     "name": "stderr",
     "output_type": "stream",
     "text": [
      "INFO:scope:reading channel CHANNEL1\n",
      "INFO:scope:preamble: {'FORMAT': 'WORD', 'TYPE': 'NORM', 'POINTS': 2000, 'COUNT': 1, 'XINCREMENT': 2.5e-06, 'XORIGIN': -0.0025, 'XREFERENCE': 0.0, 'YINCREMENT': 2.44141e-05, 'YORIGIN': 0.6, 'YREFERENCE': 0.0}\n"
     ]
    },
    {
     "name": "stdout",
     "output_type": "stream",
     "text": [
      "Scope settings written to experiments/vetrnik-I-waveform-zarovka-run2/d10-wav1.txt\n",
      "Data written to experiments/vetrnik-I-waveform-zarovka-run2/d10-wav1.csv\n"
     ]
    },
    {
     "name": "stderr",
     "output_type": "stream",
     "text": [
      "INFO:scope:reading channel CHANNEL1\n",
      "INFO:scope:preamble: {'FORMAT': 'WORD', 'TYPE': 'NORM', 'POINTS': 2000, 'COUNT': 1, 'XINCREMENT': 2.5e-06, 'XORIGIN': -0.0025, 'XREFERENCE': 0.0, 'YINCREMENT': 2.44141e-05, 'YORIGIN': 0.6, 'YREFERENCE': 0.0}\n"
     ]
    },
    {
     "name": "stdout",
     "output_type": "stream",
     "text": [
      "Scope settings written to experiments/vetrnik-I-waveform-zarovka-run2/d10-wav2.txt\n"
     ]
    },
    {
     "name": "stderr",
     "output_type": "stream",
     "text": [
      " 16%|██████▉                                     | 3/19 [00:29<02:36,  9.77s/it]"
     ]
    },
    {
     "name": "stdout",
     "output_type": "stream",
     "text": [
      "Data written to experiments/vetrnik-I-waveform-zarovka-run2/d10-wav2.csv\n",
      "{'datetime': datetime.datetime(2024, 6, 30, 17, 48, 2, 949785), 'duty': 10, 'wav1': 'experiments/vetrnik-I-waveform-zarovka-run2/d10-wav1', 'wav2': 'experiments/vetrnik-I-waveform-zarovka-run2/d10-wav2', 'duty_read': '10', 'time1': '2562', 'I1_dmm': ' 00.319e00 A DC   ', 'I1_vetrnik': '0.246', 'U1_vetrnik': '10.6', 'time2': '2568', 'I2_dmm': ' 00.316e00 A DC   ', 'I2_vetrnik': '0.246', 'U2_vetrnik': '10.6'}\n"
     ]
    },
    {
     "name": "stderr",
     "output_type": "stream",
     "text": [
      "INFO:scope:reading channel CHANNEL1\n",
      "INFO:scope:preamble: {'FORMAT': 'WORD', 'TYPE': 'NORM', 'POINTS': 2000, 'COUNT': 1, 'XINCREMENT': 2.5e-06, 'XORIGIN': -0.0025, 'XREFERENCE': 0.0, 'YINCREMENT': 2.44141e-05, 'YORIGIN': 0.6, 'YREFERENCE': 0.0}\n"
     ]
    },
    {
     "name": "stdout",
     "output_type": "stream",
     "text": [
      "Scope settings written to experiments/vetrnik-I-waveform-zarovka-run2/d12-wav1.txt\n",
      "Data written to experiments/vetrnik-I-waveform-zarovka-run2/d12-wav1.csv\n"
     ]
    },
    {
     "name": "stderr",
     "output_type": "stream",
     "text": [
      "INFO:scope:reading channel CHANNEL1\n",
      "INFO:scope:preamble: {'FORMAT': 'WORD', 'TYPE': 'NORM', 'POINTS': 2000, 'COUNT': 1, 'XINCREMENT': 2.5e-06, 'XORIGIN': -0.0025, 'XREFERENCE': 0.0, 'YINCREMENT': 2.44141e-05, 'YORIGIN': 0.6, 'YREFERENCE': 0.0}\n"
     ]
    },
    {
     "name": "stdout",
     "output_type": "stream",
     "text": [
      "Scope settings written to experiments/vetrnik-I-waveform-zarovka-run2/d12-wav2.txt\n"
     ]
    },
    {
     "name": "stderr",
     "output_type": "stream",
     "text": [
      " 21%|█████████▎                                  | 4/19 [00:38<02:26,  9.75s/it]"
     ]
    },
    {
     "name": "stdout",
     "output_type": "stream",
     "text": [
      "Data written to experiments/vetrnik-I-waveform-zarovka-run2/d12-wav2.csv\n",
      "{'datetime': datetime.datetime(2024, 6, 30, 17, 48, 12, 827451), 'duty': 12, 'wav1': 'experiments/vetrnik-I-waveform-zarovka-run2/d12-wav1', 'wav2': 'experiments/vetrnik-I-waveform-zarovka-run2/d12-wav2', 'duty_read': '12', 'time1': '2572', 'I1_dmm': ' 00.366e00 A DC   ', 'I1_vetrnik': '0.287', 'U1_vetrnik': '10.6', 'time2': '2578', 'I2_dmm': ' 00.364e00 A DC   ', 'I2_vetrnik': '0.287', 'U2_vetrnik': '10.6'}\n"
     ]
    },
    {
     "name": "stderr",
     "output_type": "stream",
     "text": [
      "INFO:scope:reading channel CHANNEL1\n",
      "INFO:scope:preamble: {'FORMAT': 'WORD', 'TYPE': 'NORM', 'POINTS': 2000, 'COUNT': 1, 'XINCREMENT': 2.5e-06, 'XORIGIN': -0.0025, 'XREFERENCE': 0.0, 'YINCREMENT': 2.44141e-05, 'YORIGIN': 0.6, 'YREFERENCE': 0.0}\n"
     ]
    },
    {
     "name": "stdout",
     "output_type": "stream",
     "text": [
      "Scope settings written to experiments/vetrnik-I-waveform-zarovka-run2/d15-wav1.txt\n",
      "Data written to experiments/vetrnik-I-waveform-zarovka-run2/d15-wav1.csv\n"
     ]
    },
    {
     "name": "stderr",
     "output_type": "stream",
     "text": [
      "INFO:scope:reading channel CHANNEL1\n",
      "INFO:scope:preamble: {'FORMAT': 'WORD', 'TYPE': 'NORM', 'POINTS': 2000, 'COUNT': 1, 'XINCREMENT': 2.5e-06, 'XORIGIN': -0.0025, 'XREFERENCE': 0.0, 'YINCREMENT': 2.44141e-05, 'YORIGIN': 0.6, 'YREFERENCE': 0.0}\n"
     ]
    },
    {
     "name": "stdout",
     "output_type": "stream",
     "text": [
      "Scope settings written to experiments/vetrnik-I-waveform-zarovka-run2/d15-wav2.txt\n"
     ]
    },
    {
     "name": "stderr",
     "output_type": "stream",
     "text": [
      " 26%|███████████▌                                | 5/19 [00:48<02:16,  9.74s/it]"
     ]
    },
    {
     "name": "stdout",
     "output_type": "stream",
     "text": [
      "Data written to experiments/vetrnik-I-waveform-zarovka-run2/d15-wav2.csv\n",
      "{'datetime': datetime.datetime(2024, 6, 30, 17, 48, 22, 528900), 'duty': 15, 'wav1': 'experiments/vetrnik-I-waveform-zarovka-run2/d15-wav1', 'wav2': 'experiments/vetrnik-I-waveform-zarovka-run2/d15-wav2', 'duty_read': '15', 'time1': '2581', 'I1_dmm': ' 00.442e00 A DC   ', 'I1_vetrnik': '0.369', 'U1_vetrnik': '10.6', 'time2': '2587', 'I2_dmm': ' 00.439e00 A DC   ', 'I2_vetrnik': '0.369', 'U2_vetrnik': '10.6'}\n"
     ]
    },
    {
     "name": "stderr",
     "output_type": "stream",
     "text": [
      "INFO:scope:reading channel CHANNEL1\n",
      "INFO:scope:preamble: {'FORMAT': 'WORD', 'TYPE': 'NORM', 'POINTS': 2000, 'COUNT': 1, 'XINCREMENT': 2.5e-06, 'XORIGIN': -0.0025, 'XREFERENCE': 0.0, 'YINCREMENT': 2.44141e-05, 'YORIGIN': 0.6, 'YREFERENCE': 0.0}\n"
     ]
    },
    {
     "name": "stdout",
     "output_type": "stream",
     "text": [
      "Scope settings written to experiments/vetrnik-I-waveform-zarovka-run2/d20-wav1.txt\n",
      "Data written to experiments/vetrnik-I-waveform-zarovka-run2/d20-wav1.csv\n"
     ]
    },
    {
     "name": "stderr",
     "output_type": "stream",
     "text": [
      "INFO:scope:reading channel CHANNEL1\n",
      "INFO:scope:preamble: {'FORMAT': 'WORD', 'TYPE': 'NORM', 'POINTS': 2000, 'COUNT': 1, 'XINCREMENT': 2.5e-06, 'XORIGIN': -0.0025, 'XREFERENCE': 0.0, 'YINCREMENT': 2.44141e-05, 'YORIGIN': 0.6, 'YREFERENCE': 0.0}\n"
     ]
    },
    {
     "name": "stdout",
     "output_type": "stream",
     "text": [
      "Scope settings written to experiments/vetrnik-I-waveform-zarovka-run2/d20-wav2.txt\n"
     ]
    },
    {
     "name": "stderr",
     "output_type": "stream",
     "text": [
      " 32%|█████████████▉                              | 6/19 [00:58<02:06,  9.74s/it]"
     ]
    },
    {
     "name": "stdout",
     "output_type": "stream",
     "text": [
      "Data written to experiments/vetrnik-I-waveform-zarovka-run2/d20-wav2.csv\n",
      "{'datetime': datetime.datetime(2024, 6, 30, 17, 48, 32, 251068), 'duty': 20, 'wav1': 'experiments/vetrnik-I-waveform-zarovka-run2/d20-wav1', 'wav2': 'experiments/vetrnik-I-waveform-zarovka-run2/d20-wav2', 'duty_read': '20', 'time1': '2591', 'I1_dmm': ' 00.560e00 A DC   ', 'I1_vetrnik': '0.492', 'U1_vetrnik': '10.6', 'time2': '2597', 'I2_dmm': ' 00.557e00 A DC   ', 'I2_vetrnik': '0.451', 'U2_vetrnik': '10.6'}\n"
     ]
    },
    {
     "name": "stderr",
     "output_type": "stream",
     "text": [
      "INFO:scope:reading channel CHANNEL1\n",
      "INFO:scope:preamble: {'FORMAT': 'WORD', 'TYPE': 'NORM', 'POINTS': 2000, 'COUNT': 1, 'XINCREMENT': 2.5e-06, 'XORIGIN': -0.0025, 'XREFERENCE': 0.0, 'YINCREMENT': 2.44141e-05, 'YORIGIN': 0.6, 'YREFERENCE': 0.0}\n"
     ]
    },
    {
     "name": "stdout",
     "output_type": "stream",
     "text": [
      "Scope settings written to experiments/vetrnik-I-waveform-zarovka-run2/d25-wav1.txt\n",
      "Data written to experiments/vetrnik-I-waveform-zarovka-run2/d25-wav1.csv\n"
     ]
    },
    {
     "name": "stderr",
     "output_type": "stream",
     "text": [
      "INFO:scope:reading channel CHANNEL1\n",
      "INFO:scope:preamble: {'FORMAT': 'WORD', 'TYPE': 'NORM', 'POINTS': 2000, 'COUNT': 1, 'XINCREMENT': 2.5e-06, 'XORIGIN': -0.0025, 'XREFERENCE': 0.0, 'YINCREMENT': 2.44141e-05, 'YORIGIN': 0.6, 'YREFERENCE': 0.0}\n"
     ]
    },
    {
     "name": "stdout",
     "output_type": "stream",
     "text": [
      "Scope settings written to experiments/vetrnik-I-waveform-zarovka-run2/d25-wav2.txt\n"
     ]
    },
    {
     "name": "stderr",
     "output_type": "stream",
     "text": [
      " 37%|████████████████▏                           | 7/19 [01:08<01:56,  9.73s/it]"
     ]
    },
    {
     "name": "stdout",
     "output_type": "stream",
     "text": [
      "Data written to experiments/vetrnik-I-waveform-zarovka-run2/d25-wav2.csv\n",
      "{'datetime': datetime.datetime(2024, 6, 30, 17, 48, 41, 984304), 'duty': 25, 'wav1': 'experiments/vetrnik-I-waveform-zarovka-run2/d25-wav1', 'wav2': 'experiments/vetrnik-I-waveform-zarovka-run2/d25-wav2', 'duty_read': '25', 'time1': '2601', 'I1_dmm': ' 00.665e00 A DC   ', 'I1_vetrnik': '0.574', 'U1_vetrnik': '10.6', 'time2': '2607', 'I2_dmm': ' 00.662e00 A DC   ', 'I2_vetrnik': '0.574', 'U2_vetrnik': '10.6'}\n"
     ]
    },
    {
     "name": "stderr",
     "output_type": "stream",
     "text": [
      "INFO:scope:reading channel CHANNEL1\n",
      "INFO:scope:preamble: {'FORMAT': 'WORD', 'TYPE': 'NORM', 'POINTS': 2000, 'COUNT': 1, 'XINCREMENT': 2.5e-06, 'XORIGIN': -0.0025, 'XREFERENCE': 0.0, 'YINCREMENT': 2.44141e-05, 'YORIGIN': 0.6, 'YREFERENCE': 0.0}\n"
     ]
    },
    {
     "name": "stdout",
     "output_type": "stream",
     "text": [
      "Scope settings written to experiments/vetrnik-I-waveform-zarovka-run2/d35-wav1.txt\n",
      "Data written to experiments/vetrnik-I-waveform-zarovka-run2/d35-wav1.csv\n"
     ]
    },
    {
     "name": "stderr",
     "output_type": "stream",
     "text": [
      "INFO:scope:reading channel CHANNEL1\n",
      "INFO:scope:preamble: {'FORMAT': 'WORD', 'TYPE': 'NORM', 'POINTS': 2000, 'COUNT': 1, 'XINCREMENT': 2.5e-06, 'XORIGIN': -0.0025, 'XREFERENCE': 0.0, 'YINCREMENT': 2.44141e-05, 'YORIGIN': 0.6, 'YREFERENCE': 0.0}\n"
     ]
    },
    {
     "name": "stdout",
     "output_type": "stream",
     "text": [
      "Scope settings written to experiments/vetrnik-I-waveform-zarovka-run2/d35-wav2.txt\n"
     ]
    },
    {
     "name": "stderr",
     "output_type": "stream",
     "text": [
      " 42%|██████████████████▌                         | 8/19 [01:17<01:47,  9.73s/it]"
     ]
    },
    {
     "name": "stdout",
     "output_type": "stream",
     "text": [
      "Data written to experiments/vetrnik-I-waveform-zarovka-run2/d35-wav2.csv\n",
      "{'datetime': datetime.datetime(2024, 6, 30, 17, 48, 51, 704505), 'duty': 35, 'wav1': 'experiments/vetrnik-I-waveform-zarovka-run2/d35-wav1', 'wav2': 'experiments/vetrnik-I-waveform-zarovka-run2/d35-wav2', 'duty_read': '35', 'time1': '2611', 'I1_dmm': ' 00.866e00 A DC   ', 'I1_vetrnik': '0.779', 'U1_vetrnik': '10.6', 'time2': '2616', 'I2_dmm': ' 00.864e00 A DC   ', 'I2_vetrnik': '0.779', 'U2_vetrnik': '10.6'}\n"
     ]
    },
    {
     "name": "stderr",
     "output_type": "stream",
     "text": [
      "INFO:scope:reading channel CHANNEL1\n",
      "INFO:scope:preamble: {'FORMAT': 'WORD', 'TYPE': 'NORM', 'POINTS': 2000, 'COUNT': 1, 'XINCREMENT': 2.5e-06, 'XORIGIN': -0.0025, 'XREFERENCE': 0.0, 'YINCREMENT': 2.44141e-05, 'YORIGIN': 0.6, 'YREFERENCE': 0.0}\n"
     ]
    },
    {
     "name": "stdout",
     "output_type": "stream",
     "text": [
      "Scope settings written to experiments/vetrnik-I-waveform-zarovka-run2/d50-wav1.txt\n",
      "Data written to experiments/vetrnik-I-waveform-zarovka-run2/d50-wav1.csv\n"
     ]
    },
    {
     "name": "stderr",
     "output_type": "stream",
     "text": [
      "INFO:scope:reading channel CHANNEL1\n",
      "INFO:scope:preamble: {'FORMAT': 'WORD', 'TYPE': 'NORM', 'POINTS': 2000, 'COUNT': 1, 'XINCREMENT': 2.5e-06, 'XORIGIN': -0.0025, 'XREFERENCE': 0.0, 'YINCREMENT': 2.44141e-05, 'YORIGIN': 0.6, 'YREFERENCE': 0.0}\n"
     ]
    },
    {
     "name": "stdout",
     "output_type": "stream",
     "text": [
      "Scope settings written to experiments/vetrnik-I-waveform-zarovka-run2/d50-wav2.txt\n"
     ]
    },
    {
     "name": "stderr",
     "output_type": "stream",
     "text": [
      " 47%|████████████████████▊                       | 9/19 [01:27<01:37,  9.73s/it]"
     ]
    },
    {
     "name": "stdout",
     "output_type": "stream",
     "text": [
      "Data written to experiments/vetrnik-I-waveform-zarovka-run2/d50-wav2.csv\n",
      "{'datetime': datetime.datetime(2024, 6, 30, 17, 49, 1, 425685), 'duty': 50, 'wav1': 'experiments/vetrnik-I-waveform-zarovka-run2/d50-wav1', 'wav2': 'experiments/vetrnik-I-waveform-zarovka-run2/d50-wav2', 'duty_read': '50', 'time1': '2620', 'I1_dmm': ' 01.145e00 A DC   ', 'I1_vetrnik': '1.066', 'U1_vetrnik': '10.5', 'time2': '2626', 'I2_dmm': ' 01.142e00 A DC   ', 'I2_vetrnik': '1.025', 'U2_vetrnik': '10.5'}\n"
     ]
    },
    {
     "name": "stderr",
     "output_type": "stream",
     "text": [
      "INFO:scope:reading channel CHANNEL1\n",
      "INFO:scope:preamble: {'FORMAT': 'WORD', 'TYPE': 'NORM', 'POINTS': 2000, 'COUNT': 1, 'XINCREMENT': 2.5e-06, 'XORIGIN': -0.0025, 'XREFERENCE': 0.0, 'YINCREMENT': 2.44141e-05, 'YORIGIN': 0.6, 'YREFERENCE': 0.0}\n"
     ]
    },
    {
     "name": "stdout",
     "output_type": "stream",
     "text": [
      "Scope settings written to experiments/vetrnik-I-waveform-zarovka-run2/d75-wav1.txt\n",
      "Data written to experiments/vetrnik-I-waveform-zarovka-run2/d75-wav1.csv\n"
     ]
    },
    {
     "name": "stderr",
     "output_type": "stream",
     "text": [
      "INFO:scope:reading channel CHANNEL1\n",
      "INFO:scope:preamble: {'FORMAT': 'WORD', 'TYPE': 'NORM', 'POINTS': 2000, 'COUNT': 1, 'XINCREMENT': 2.5e-06, 'XORIGIN': -0.0025, 'XREFERENCE': 0.0, 'YINCREMENT': 2.44141e-05, 'YORIGIN': 0.6, 'YREFERENCE': 0.0}\n"
     ]
    },
    {
     "name": "stdout",
     "output_type": "stream",
     "text": [
      "Scope settings written to experiments/vetrnik-I-waveform-zarovka-run2/d75-wav2.txt\n"
     ]
    },
    {
     "name": "stderr",
     "output_type": "stream",
     "text": [
      " 53%|██████████████████████▋                    | 10/19 [01:37<01:27,  9.73s/it]"
     ]
    },
    {
     "name": "stdout",
     "output_type": "stream",
     "text": [
      "Data written to experiments/vetrnik-I-waveform-zarovka-run2/d75-wav2.csv\n",
      "{'datetime': datetime.datetime(2024, 6, 30, 17, 49, 11, 145317), 'duty': 75, 'wav1': 'experiments/vetrnik-I-waveform-zarovka-run2/d75-wav1', 'wav2': 'experiments/vetrnik-I-waveform-zarovka-run2/d75-wav2', 'duty_read': '75', 'time1': '2630', 'I1_dmm': ' 01.562e00 A DC   ', 'I1_vetrnik': '1.435', 'U1_vetrnik': '10.3', 'time2': '2636', 'I2_dmm': ' 01.559e00 A DC   ', 'I2_vetrnik': '1.435', 'U2_vetrnik': '10.5'}\n"
     ]
    },
    {
     "name": "stderr",
     "output_type": "stream",
     "text": [
      "INFO:scope:reading channel CHANNEL1\n",
      "INFO:scope:preamble: {'FORMAT': 'WORD', 'TYPE': 'NORM', 'POINTS': 2000, 'COUNT': 1, 'XINCREMENT': 2.5e-06, 'XORIGIN': -0.0025, 'XREFERENCE': 0.0, 'YINCREMENT': 2.44141e-05, 'YORIGIN': 0.6, 'YREFERENCE': 0.0}\n"
     ]
    },
    {
     "name": "stdout",
     "output_type": "stream",
     "text": [
      "Scope settings written to experiments/vetrnik-I-waveform-zarovka-run2/d100-wav1.txt\n",
      "Data written to experiments/vetrnik-I-waveform-zarovka-run2/d100-wav1.csv\n"
     ]
    },
    {
     "name": "stderr",
     "output_type": "stream",
     "text": [
      "INFO:scope:reading channel CHANNEL1\n",
      "INFO:scope:preamble: {'FORMAT': 'WORD', 'TYPE': 'NORM', 'POINTS': 2000, 'COUNT': 1, 'XINCREMENT': 2.5e-06, 'XORIGIN': -0.0025, 'XREFERENCE': 0.0, 'YINCREMENT': 2.44141e-05, 'YORIGIN': 0.6, 'YREFERENCE': 0.0}\n"
     ]
    },
    {
     "name": "stdout",
     "output_type": "stream",
     "text": [
      "Scope settings written to experiments/vetrnik-I-waveform-zarovka-run2/d100-wav2.txt\n"
     ]
    },
    {
     "name": "stderr",
     "output_type": "stream",
     "text": [
      " 58%|████████████████████████▉                  | 11/19 [01:46<01:17,  9.72s/it]"
     ]
    },
    {
     "name": "stdout",
     "output_type": "stream",
     "text": [
      "Data written to experiments/vetrnik-I-waveform-zarovka-run2/d100-wav2.csv\n",
      "{'datetime': datetime.datetime(2024, 6, 30, 17, 49, 20, 886459), 'duty': 100, 'wav1': 'experiments/vetrnik-I-waveform-zarovka-run2/d100-wav1', 'wav2': 'experiments/vetrnik-I-waveform-zarovka-run2/d100-wav2', 'duty_read': '100', 'time1': '2640', 'I1_dmm': ' 01.947e00 A DC   ', 'I1_vetrnik': '1.804', 'U1_vetrnik': '10.3', 'time2': '2646', 'I2_dmm': ' 01.943e00 A DC   ', 'I2_vetrnik': '1.804', 'U2_vetrnik': '10.3'}\n"
     ]
    },
    {
     "name": "stderr",
     "output_type": "stream",
     "text": [
      "INFO:scope:reading channel CHANNEL1\n",
      "INFO:scope:preamble: {'FORMAT': 'WORD', 'TYPE': 'NORM', 'POINTS': 2000, 'COUNT': 1, 'XINCREMENT': 2.5e-06, 'XORIGIN': -0.0025, 'XREFERENCE': 0.0, 'YINCREMENT': 2.44141e-05, 'YORIGIN': 0.6, 'YREFERENCE': 0.0}\n"
     ]
    },
    {
     "name": "stdout",
     "output_type": "stream",
     "text": [
      "Scope settings written to experiments/vetrnik-I-waveform-zarovka-run2/d125-wav1.txt\n",
      "Data written to experiments/vetrnik-I-waveform-zarovka-run2/d125-wav1.csv\n"
     ]
    },
    {
     "name": "stderr",
     "output_type": "stream",
     "text": [
      "INFO:scope:reading channel CHANNEL1\n",
      "INFO:scope:preamble: {'FORMAT': 'WORD', 'TYPE': 'NORM', 'POINTS': 2000, 'COUNT': 1, 'XINCREMENT': 2.5e-06, 'XORIGIN': -0.0025, 'XREFERENCE': 0.0, 'YINCREMENT': 2.44141e-05, 'YORIGIN': 0.6, 'YREFERENCE': 0.0}\n"
     ]
    },
    {
     "name": "stdout",
     "output_type": "stream",
     "text": [
      "Scope settings written to experiments/vetrnik-I-waveform-zarovka-run2/d125-wav2.txt\n"
     ]
    },
    {
     "name": "stderr",
     "output_type": "stream",
     "text": [
      " 63%|███████████████████████████▏               | 12/19 [01:56<01:08,  9.72s/it]"
     ]
    },
    {
     "name": "stdout",
     "output_type": "stream",
     "text": [
      "Data written to experiments/vetrnik-I-waveform-zarovka-run2/d125-wav2.csv\n",
      "{'datetime': datetime.datetime(2024, 6, 30, 17, 49, 30, 570519), 'duty': 125, 'wav1': 'experiments/vetrnik-I-waveform-zarovka-run2/d125-wav1', 'wav2': 'experiments/vetrnik-I-waveform-zarovka-run2/d125-wav2', 'duty_read': '125', 'time1': '2650', 'I1_dmm': ' 02.305e00 A DC   ', 'I1_vetrnik': '2.173', 'U1_vetrnik': '10.2', 'time2': '2655', 'I2_dmm': ' 02.302e00 A DC   ', 'I2_vetrnik': '2.173', 'U2_vetrnik': '10.2'}\n"
     ]
    },
    {
     "name": "stderr",
     "output_type": "stream",
     "text": [
      "INFO:scope:reading channel CHANNEL1\n",
      "INFO:scope:preamble: {'FORMAT': 'WORD', 'TYPE': 'NORM', 'POINTS': 2000, 'COUNT': 1, 'XINCREMENT': 2.5e-06, 'XORIGIN': -0.0025, 'XREFERENCE': 0.0, 'YINCREMENT': 2.44141e-05, 'YORIGIN': 0.6, 'YREFERENCE': 0.0}\n"
     ]
    },
    {
     "name": "stdout",
     "output_type": "stream",
     "text": [
      "Scope settings written to experiments/vetrnik-I-waveform-zarovka-run2/d150-wav1.txt\n",
      "Data written to experiments/vetrnik-I-waveform-zarovka-run2/d150-wav1.csv\n"
     ]
    },
    {
     "name": "stderr",
     "output_type": "stream",
     "text": [
      "INFO:scope:reading channel CHANNEL1\n",
      "INFO:scope:preamble: {'FORMAT': 'WORD', 'TYPE': 'NORM', 'POINTS': 2000, 'COUNT': 1, 'XINCREMENT': 2.5e-06, 'XORIGIN': -0.0025, 'XREFERENCE': 0.0, 'YINCREMENT': 2.44141e-05, 'YORIGIN': 0.6, 'YREFERENCE': 0.0}\n"
     ]
    },
    {
     "name": "stdout",
     "output_type": "stream",
     "text": [
      "Scope settings written to experiments/vetrnik-I-waveform-zarovka-run2/d150-wav2.txt\n"
     ]
    },
    {
     "name": "stderr",
     "output_type": "stream",
     "text": [
      " 68%|█████████████████████████████▍             | 13/19 [02:06<00:58,  9.72s/it]"
     ]
    },
    {
     "name": "stdout",
     "output_type": "stream",
     "text": [
      "Data written to experiments/vetrnik-I-waveform-zarovka-run2/d150-wav2.csv\n",
      "{'datetime': datetime.datetime(2024, 6, 30, 17, 49, 40, 290658), 'duty': 150, 'wav1': 'experiments/vetrnik-I-waveform-zarovka-run2/d150-wav1', 'wav2': 'experiments/vetrnik-I-waveform-zarovka-run2/d150-wav2', 'duty_read': '150', 'time1': '2659', 'I1_dmm': ' 02.660e00 A DC   ', 'I1_vetrnik': '2.501', 'U1_vetrnik': '10.2', 'time2': '2665', 'I2_dmm': ' 02.656e00 A DC   ', 'I2_vetrnik': '2.501', 'U2_vetrnik': '10.2'}\n"
     ]
    },
    {
     "name": "stderr",
     "output_type": "stream",
     "text": [
      "INFO:scope:reading channel CHANNEL1\n",
      "INFO:scope:preamble: {'FORMAT': 'WORD', 'TYPE': 'NORM', 'POINTS': 2000, 'COUNT': 1, 'XINCREMENT': 2.5e-06, 'XORIGIN': -0.0025, 'XREFERENCE': 0.0, 'YINCREMENT': 2.44141e-05, 'YORIGIN': 0.6, 'YREFERENCE': 0.0}\n"
     ]
    },
    {
     "name": "stdout",
     "output_type": "stream",
     "text": [
      "Scope settings written to experiments/vetrnik-I-waveform-zarovka-run2/d175-wav1.txt\n",
      "Data written to experiments/vetrnik-I-waveform-zarovka-run2/d175-wav1.csv\n"
     ]
    },
    {
     "name": "stderr",
     "output_type": "stream",
     "text": [
      "INFO:scope:reading channel CHANNEL1\n",
      "INFO:scope:preamble: {'FORMAT': 'WORD', 'TYPE': 'NORM', 'POINTS': 2000, 'COUNT': 1, 'XINCREMENT': 2.5e-06, 'XORIGIN': -0.0025, 'XREFERENCE': 0.0, 'YINCREMENT': 2.44141e-05, 'YORIGIN': 0.6, 'YREFERENCE': 0.0}\n"
     ]
    },
    {
     "name": "stdout",
     "output_type": "stream",
     "text": [
      "Scope settings written to experiments/vetrnik-I-waveform-zarovka-run2/d175-wav2.txt\n"
     ]
    },
    {
     "name": "stderr",
     "output_type": "stream",
     "text": [
      " 74%|███████████████████████████████▋           | 14/19 [02:16<00:48,  9.72s/it]"
     ]
    },
    {
     "name": "stdout",
     "output_type": "stream",
     "text": [
      "Data written to experiments/vetrnik-I-waveform-zarovka-run2/d175-wav2.csv\n",
      "{'datetime': datetime.datetime(2024, 6, 30, 17, 49, 50, 26708), 'duty': 175, 'wav1': 'experiments/vetrnik-I-waveform-zarovka-run2/d175-wav1', 'wav2': 'experiments/vetrnik-I-waveform-zarovka-run2/d175-wav2', 'duty_read': '175', 'time1': '2669', 'I1_dmm': ' 02.992e00 A DC   ', 'I1_vetrnik': '2.788', 'U1_vetrnik': '10.0', 'time2': '2675', 'I2_dmm': ' 02.990e00 A DC   ', 'I2_vetrnik': '2.788', 'U2_vetrnik': '10.0'}\n"
     ]
    },
    {
     "name": "stderr",
     "output_type": "stream",
     "text": [
      "INFO:scope:reading channel CHANNEL1\n",
      "INFO:scope:preamble: {'FORMAT': 'WORD', 'TYPE': 'NORM', 'POINTS': 2000, 'COUNT': 1, 'XINCREMENT': 2.5e-06, 'XORIGIN': -0.0025, 'XREFERENCE': 0.0, 'YINCREMENT': 2.44141e-05, 'YORIGIN': 0.6, 'YREFERENCE': 0.0}\n"
     ]
    },
    {
     "name": "stdout",
     "output_type": "stream",
     "text": [
      "Scope settings written to experiments/vetrnik-I-waveform-zarovka-run2/d200-wav1.txt\n",
      "Data written to experiments/vetrnik-I-waveform-zarovka-run2/d200-wav1.csv\n"
     ]
    },
    {
     "name": "stderr",
     "output_type": "stream",
     "text": [
      "INFO:scope:reading channel CHANNEL1\n",
      "INFO:scope:preamble: {'FORMAT': 'WORD', 'TYPE': 'NORM', 'POINTS': 2000, 'COUNT': 1, 'XINCREMENT': 2.5e-06, 'XORIGIN': -0.0025, 'XREFERENCE': 0.0, 'YINCREMENT': 2.44141e-05, 'YORIGIN': 0.6, 'YREFERENCE': 0.0}\n"
     ]
    },
    {
     "name": "stdout",
     "output_type": "stream",
     "text": [
      "Scope settings written to experiments/vetrnik-I-waveform-zarovka-run2/d200-wav2.txt\n"
     ]
    },
    {
     "name": "stderr",
     "output_type": "stream",
     "text": [
      " 79%|█████████████████████████████████▉         | 15/19 [02:25<00:38,  9.72s/it]"
     ]
    },
    {
     "name": "stdout",
     "output_type": "stream",
     "text": [
      "Data written to experiments/vetrnik-I-waveform-zarovka-run2/d200-wav2.csv\n",
      "{'datetime': datetime.datetime(2024, 6, 30, 17, 49, 59, 732997), 'duty': 200, 'wav1': 'experiments/vetrnik-I-waveform-zarovka-run2/d200-wav1', 'wav2': 'experiments/vetrnik-I-waveform-zarovka-run2/d200-wav2', 'duty_read': '200', 'time1': '2679', 'I1_dmm': ' 03.318e00 A DC   ', 'I1_vetrnik': '3.075', 'U1_vetrnik': '10.0', 'time2': '2684', 'I2_dmm': ' 03.315e00 A DC   ', 'I2_vetrnik': '3.075', 'U2_vetrnik': '10.0'}\n"
     ]
    },
    {
     "name": "stderr",
     "output_type": "stream",
     "text": [
      "INFO:scope:reading channel CHANNEL1\n",
      "INFO:scope:preamble: {'FORMAT': 'WORD', 'TYPE': 'NORM', 'POINTS': 2000, 'COUNT': 1, 'XINCREMENT': 2.5e-06, 'XORIGIN': -0.0025, 'XREFERENCE': 0.0, 'YINCREMENT': 2.44141e-05, 'YORIGIN': 0.6, 'YREFERENCE': 0.0}\n"
     ]
    },
    {
     "name": "stdout",
     "output_type": "stream",
     "text": [
      "Scope settings written to experiments/vetrnik-I-waveform-zarovka-run2/d225-wav1.txt\n",
      "Data written to experiments/vetrnik-I-waveform-zarovka-run2/d225-wav1.csv\n"
     ]
    },
    {
     "name": "stderr",
     "output_type": "stream",
     "text": [
      "INFO:scope:reading channel CHANNEL1\n",
      "INFO:scope:preamble: {'FORMAT': 'WORD', 'TYPE': 'NORM', 'POINTS': 2000, 'COUNT': 1, 'XINCREMENT': 2.5e-06, 'XORIGIN': -0.0025, 'XREFERENCE': 0.0, 'YINCREMENT': 2.44141e-05, 'YORIGIN': 0.6, 'YREFERENCE': 0.0}\n"
     ]
    },
    {
     "name": "stdout",
     "output_type": "stream",
     "text": [
      "Scope settings written to experiments/vetrnik-I-waveform-zarovka-run2/d225-wav2.txt\n"
     ]
    },
    {
     "name": "stderr",
     "output_type": "stream",
     "text": [
      " 84%|████████████████████████████████████▏      | 16/19 [02:35<00:29,  9.73s/it]"
     ]
    },
    {
     "name": "stdout",
     "output_type": "stream",
     "text": [
      "Data written to experiments/vetrnik-I-waveform-zarovka-run2/d225-wav2.csv\n",
      "{'datetime': datetime.datetime(2024, 6, 30, 17, 50, 9, 454153), 'duty': 225, 'wav1': 'experiments/vetrnik-I-waveform-zarovka-run2/d225-wav1', 'wav2': 'experiments/vetrnik-I-waveform-zarovka-run2/d225-wav2', 'duty_read': '225', 'time1': '2688', 'I1_dmm': ' 03.628e00 A DC   ', 'I1_vetrnik': '3.321', 'U1_vetrnik': '9.9', 'time2': '2694', 'I2_dmm': ' 03.626e00 A DC   ', 'I2_vetrnik': '3.321', 'U2_vetrnik': '9.9'}\n"
     ]
    },
    {
     "name": "stderr",
     "output_type": "stream",
     "text": [
      "INFO:scope:reading channel CHANNEL1\n",
      "INFO:scope:preamble: {'FORMAT': 'WORD', 'TYPE': 'NORM', 'POINTS': 2000, 'COUNT': 1, 'XINCREMENT': 2.5e-06, 'XORIGIN': -0.0025, 'XREFERENCE': 0.0, 'YINCREMENT': 2.44141e-05, 'YORIGIN': 0.6, 'YREFERENCE': 0.0}\n"
     ]
    },
    {
     "name": "stdout",
     "output_type": "stream",
     "text": [
      "Scope settings written to experiments/vetrnik-I-waveform-zarovka-run2/d240-wav1.txt\n",
      "Data written to experiments/vetrnik-I-waveform-zarovka-run2/d240-wav1.csv\n"
     ]
    },
    {
     "name": "stderr",
     "output_type": "stream",
     "text": [
      "INFO:scope:reading channel CHANNEL1\n",
      "INFO:scope:preamble: {'FORMAT': 'WORD', 'TYPE': 'NORM', 'POINTS': 2000, 'COUNT': 1, 'XINCREMENT': 2.5e-06, 'XORIGIN': -0.0025, 'XREFERENCE': 0.0, 'YINCREMENT': 2.44141e-05, 'YORIGIN': 0.6, 'YREFERENCE': 0.0}\n"
     ]
    },
    {
     "name": "stdout",
     "output_type": "stream",
     "text": [
      "Scope settings written to experiments/vetrnik-I-waveform-zarovka-run2/d240-wav2.txt\n"
     ]
    },
    {
     "name": "stderr",
     "output_type": "stream",
     "text": [
      " 89%|██████████████████████████████████████▍    | 17/19 [02:45<00:19,  9.72s/it]"
     ]
    },
    {
     "name": "stdout",
     "output_type": "stream",
     "text": [
      "Data written to experiments/vetrnik-I-waveform-zarovka-run2/d240-wav2.csv\n",
      "{'datetime': datetime.datetime(2024, 6, 30, 17, 50, 19, 200570), 'duty': 240, 'wav1': 'experiments/vetrnik-I-waveform-zarovka-run2/d240-wav1', 'wav2': 'experiments/vetrnik-I-waveform-zarovka-run2/d240-wav2', 'duty_read': '240', 'time1': '2698', 'I1_dmm': ' 03.810e00 A DC   ', 'I1_vetrnik': '3.485', 'U1_vetrnik': '9.9', 'time2': '2704', 'I2_dmm': ' 03.808e00 A DC   ', 'I2_vetrnik': '3.485', 'U2_vetrnik': '9.9'}\n"
     ]
    },
    {
     "name": "stderr",
     "output_type": "stream",
     "text": [
      "INFO:scope:reading channel CHANNEL1\n",
      "INFO:scope:preamble: {'FORMAT': 'WORD', 'TYPE': 'NORM', 'POINTS': 2000, 'COUNT': 1, 'XINCREMENT': 2.5e-06, 'XORIGIN': -0.0025, 'XREFERENCE': 0.0, 'YINCREMENT': 2.44141e-05, 'YORIGIN': 0.6, 'YREFERENCE': 0.0}\n"
     ]
    },
    {
     "name": "stdout",
     "output_type": "stream",
     "text": [
      "Scope settings written to experiments/vetrnik-I-waveform-zarovka-run2/d245-wav1.txt\n",
      "Data written to experiments/vetrnik-I-waveform-zarovka-run2/d245-wav1.csv\n"
     ]
    },
    {
     "name": "stderr",
     "output_type": "stream",
     "text": [
      "INFO:scope:reading channel CHANNEL1\n",
      "INFO:scope:preamble: {'FORMAT': 'WORD', 'TYPE': 'NORM', 'POINTS': 2000, 'COUNT': 1, 'XINCREMENT': 2.5e-06, 'XORIGIN': -0.0025, 'XREFERENCE': 0.0, 'YINCREMENT': 2.44141e-05, 'YORIGIN': 0.6, 'YREFERENCE': 0.0}\n"
     ]
    },
    {
     "name": "stdout",
     "output_type": "stream",
     "text": [
      "Scope settings written to experiments/vetrnik-I-waveform-zarovka-run2/d245-wav2.txt\n"
     ]
    },
    {
     "name": "stderr",
     "output_type": "stream",
     "text": [
      " 95%|████████████████████████████████████████▋  | 18/19 [02:55<00:09,  9.72s/it]"
     ]
    },
    {
     "name": "stdout",
     "output_type": "stream",
     "text": [
      "Data written to experiments/vetrnik-I-waveform-zarovka-run2/d245-wav2.csv\n",
      "{'datetime': datetime.datetime(2024, 6, 30, 17, 50, 28, 890386), 'duty': 245, 'wav1': 'experiments/vetrnik-I-waveform-zarovka-run2/d245-wav1', 'wav2': 'experiments/vetrnik-I-waveform-zarovka-run2/d245-wav2', 'duty_read': '245', 'time1': '2708', 'I1_dmm': ' 03.867e00 A DC   ', 'I1_vetrnik': '3.526', 'U1_vetrnik': '9.9', 'time2': '2714', 'I2_dmm': ' 03.867e00 A DC   ', 'I2_vetrnik': '3.526', 'U2_vetrnik': '9.9'}\n"
     ]
    },
    {
     "name": "stderr",
     "output_type": "stream",
     "text": [
      "INFO:scope:reading channel CHANNEL1\n",
      "INFO:scope:preamble: {'FORMAT': 'WORD', 'TYPE': 'NORM', 'POINTS': 2000, 'COUNT': 1, 'XINCREMENT': 2.5e-06, 'XORIGIN': -0.0025, 'XREFERENCE': 0.0, 'YINCREMENT': 2.44141e-05, 'YORIGIN': 0.6, 'YREFERENCE': 0.0}\n"
     ]
    },
    {
     "name": "stdout",
     "output_type": "stream",
     "text": [
      "Scope settings written to experiments/vetrnik-I-waveform-zarovka-run2/d247-wav1.txt\n",
      "Data written to experiments/vetrnik-I-waveform-zarovka-run2/d247-wav1.csv\n"
     ]
    },
    {
     "name": "stderr",
     "output_type": "stream",
     "text": [
      "INFO:scope:reading channel CHANNEL1\n",
      "INFO:scope:preamble: {'FORMAT': 'WORD', 'TYPE': 'NORM', 'POINTS': 2000, 'COUNT': 1, 'XINCREMENT': 2.5e-06, 'XORIGIN': -0.0025, 'XREFERENCE': 0.0, 'YINCREMENT': 2.44141e-05, 'YORIGIN': 0.6, 'YREFERENCE': 0.0}\n"
     ]
    },
    {
     "name": "stdout",
     "output_type": "stream",
     "text": [
      "Scope settings written to experiments/vetrnik-I-waveform-zarovka-run2/d247-wav2.txt\n"
     ]
    },
    {
     "name": "stderr",
     "output_type": "stream",
     "text": [
      "100%|███████████████████████████████████████████| 19/19 [03:04<00:00,  9.73s/it]"
     ]
    },
    {
     "name": "stdout",
     "output_type": "stream",
     "text": [
      "Data written to experiments/vetrnik-I-waveform-zarovka-run2/d247-wav2.csv\n",
      "{'datetime': datetime.datetime(2024, 6, 30, 17, 50, 38, 612103), 'duty': 247, 'wav1': 'experiments/vetrnik-I-waveform-zarovka-run2/d247-wav1', 'wav2': 'experiments/vetrnik-I-waveform-zarovka-run2/d247-wav2', 'duty_read': '247', 'time1': '2718', 'I1_dmm': ' 03.891e00 A DC   ', 'I1_vetrnik': '3.567', 'U1_vetrnik': '9.9', 'time2': '2723', 'I2_dmm': ' 03.890e00 A DC   ', 'I2_vetrnik': '3.567', 'U2_vetrnik': '9.9'}\n"
     ]
    },
    {
     "name": "stderr",
     "output_type": "stream",
     "text": [
      "\n"
     ]
    },
    {
     "data": {
      "text/html": [
       "<div>\n",
       "<style scoped>\n",
       "    .dataframe tbody tr th:only-of-type {\n",
       "        vertical-align: middle;\n",
       "    }\n",
       "\n",
       "    .dataframe tbody tr th {\n",
       "        vertical-align: top;\n",
       "    }\n",
       "\n",
       "    .dataframe thead th {\n",
       "        text-align: right;\n",
       "    }\n",
       "</style>\n",
       "<table border=\"1\" class=\"dataframe\">\n",
       "  <thead>\n",
       "    <tr style=\"text-align: right;\">\n",
       "      <th></th>\n",
       "      <th>datetime</th>\n",
       "      <th>duty</th>\n",
       "      <th>wav1</th>\n",
       "      <th>wav2</th>\n",
       "      <th>duty_read</th>\n",
       "      <th>time1</th>\n",
       "      <th>I1_dmm</th>\n",
       "      <th>I1_vetrnik</th>\n",
       "      <th>U1_vetrnik</th>\n",
       "      <th>time2</th>\n",
       "      <th>I2_dmm</th>\n",
       "      <th>I2_vetrnik</th>\n",
       "      <th>U2_vetrnik</th>\n",
       "    </tr>\n",
       "  </thead>\n",
       "  <tbody>\n",
       "    <tr>\n",
       "      <th>0</th>\n",
       "      <td>2024-06-30 17:47:43.580089</td>\n",
       "      <td>5</td>\n",
       "      <td>experiments/vetrnik-I-waveform-zarovka-run2/d5...</td>\n",
       "      <td>experiments/vetrnik-I-waveform-zarovka-run2/d5...</td>\n",
       "      <td>5</td>\n",
       "      <td>2543</td>\n",
       "      <td>00.146e00 A DC</td>\n",
       "      <td>0.082</td>\n",
       "      <td>10.6</td>\n",
       "      <td>2548</td>\n",
       "      <td>00.167e00 A DC</td>\n",
       "      <td>0.123</td>\n",
       "      <td>10.6</td>\n",
       "    </tr>\n",
       "    <tr>\n",
       "      <th>1</th>\n",
       "      <td>2024-06-30 17:47:53.234144</td>\n",
       "      <td>8</td>\n",
       "      <td>experiments/vetrnik-I-waveform-zarovka-run2/d8...</td>\n",
       "      <td>experiments/vetrnik-I-waveform-zarovka-run2/d8...</td>\n",
       "      <td>8</td>\n",
       "      <td>2552</td>\n",
       "      <td>00.270e00 A DC</td>\n",
       "      <td>0.205</td>\n",
       "      <td>10.6</td>\n",
       "      <td>2558</td>\n",
       "      <td>00.262e00 A DC</td>\n",
       "      <td>0.205</td>\n",
       "      <td>10.6</td>\n",
       "    </tr>\n",
       "    <tr>\n",
       "      <th>2</th>\n",
       "      <td>2024-06-30 17:48:02.949785</td>\n",
       "      <td>10</td>\n",
       "      <td>experiments/vetrnik-I-waveform-zarovka-run2/d1...</td>\n",
       "      <td>experiments/vetrnik-I-waveform-zarovka-run2/d1...</td>\n",
       "      <td>10</td>\n",
       "      <td>2562</td>\n",
       "      <td>00.319e00 A DC</td>\n",
       "      <td>0.246</td>\n",
       "      <td>10.6</td>\n",
       "      <td>2568</td>\n",
       "      <td>00.316e00 A DC</td>\n",
       "      <td>0.246</td>\n",
       "      <td>10.6</td>\n",
       "    </tr>\n",
       "    <tr>\n",
       "      <th>3</th>\n",
       "      <td>2024-06-30 17:48:12.827451</td>\n",
       "      <td>12</td>\n",
       "      <td>experiments/vetrnik-I-waveform-zarovka-run2/d1...</td>\n",
       "      <td>experiments/vetrnik-I-waveform-zarovka-run2/d1...</td>\n",
       "      <td>12</td>\n",
       "      <td>2572</td>\n",
       "      <td>00.366e00 A DC</td>\n",
       "      <td>0.287</td>\n",
       "      <td>10.6</td>\n",
       "      <td>2578</td>\n",
       "      <td>00.364e00 A DC</td>\n",
       "      <td>0.287</td>\n",
       "      <td>10.6</td>\n",
       "    </tr>\n",
       "    <tr>\n",
       "      <th>4</th>\n",
       "      <td>2024-06-30 17:48:22.528900</td>\n",
       "      <td>15</td>\n",
       "      <td>experiments/vetrnik-I-waveform-zarovka-run2/d1...</td>\n",
       "      <td>experiments/vetrnik-I-waveform-zarovka-run2/d1...</td>\n",
       "      <td>15</td>\n",
       "      <td>2581</td>\n",
       "      <td>00.442e00 A DC</td>\n",
       "      <td>0.369</td>\n",
       "      <td>10.6</td>\n",
       "      <td>2587</td>\n",
       "      <td>00.439e00 A DC</td>\n",
       "      <td>0.369</td>\n",
       "      <td>10.6</td>\n",
       "    </tr>\n",
       "    <tr>\n",
       "      <th>5</th>\n",
       "      <td>2024-06-30 17:48:32.251068</td>\n",
       "      <td>20</td>\n",
       "      <td>experiments/vetrnik-I-waveform-zarovka-run2/d2...</td>\n",
       "      <td>experiments/vetrnik-I-waveform-zarovka-run2/d2...</td>\n",
       "      <td>20</td>\n",
       "      <td>2591</td>\n",
       "      <td>00.560e00 A DC</td>\n",
       "      <td>0.492</td>\n",
       "      <td>10.6</td>\n",
       "      <td>2597</td>\n",
       "      <td>00.557e00 A DC</td>\n",
       "      <td>0.451</td>\n",
       "      <td>10.6</td>\n",
       "    </tr>\n",
       "    <tr>\n",
       "      <th>6</th>\n",
       "      <td>2024-06-30 17:48:41.984304</td>\n",
       "      <td>25</td>\n",
       "      <td>experiments/vetrnik-I-waveform-zarovka-run2/d2...</td>\n",
       "      <td>experiments/vetrnik-I-waveform-zarovka-run2/d2...</td>\n",
       "      <td>25</td>\n",
       "      <td>2601</td>\n",
       "      <td>00.665e00 A DC</td>\n",
       "      <td>0.574</td>\n",
       "      <td>10.6</td>\n",
       "      <td>2607</td>\n",
       "      <td>00.662e00 A DC</td>\n",
       "      <td>0.574</td>\n",
       "      <td>10.6</td>\n",
       "    </tr>\n",
       "    <tr>\n",
       "      <th>7</th>\n",
       "      <td>2024-06-30 17:48:51.704505</td>\n",
       "      <td>35</td>\n",
       "      <td>experiments/vetrnik-I-waveform-zarovka-run2/d3...</td>\n",
       "      <td>experiments/vetrnik-I-waveform-zarovka-run2/d3...</td>\n",
       "      <td>35</td>\n",
       "      <td>2611</td>\n",
       "      <td>00.866e00 A DC</td>\n",
       "      <td>0.779</td>\n",
       "      <td>10.6</td>\n",
       "      <td>2616</td>\n",
       "      <td>00.864e00 A DC</td>\n",
       "      <td>0.779</td>\n",
       "      <td>10.6</td>\n",
       "    </tr>\n",
       "    <tr>\n",
       "      <th>8</th>\n",
       "      <td>2024-06-30 17:49:01.425685</td>\n",
       "      <td>50</td>\n",
       "      <td>experiments/vetrnik-I-waveform-zarovka-run2/d5...</td>\n",
       "      <td>experiments/vetrnik-I-waveform-zarovka-run2/d5...</td>\n",
       "      <td>50</td>\n",
       "      <td>2620</td>\n",
       "      <td>01.145e00 A DC</td>\n",
       "      <td>1.066</td>\n",
       "      <td>10.5</td>\n",
       "      <td>2626</td>\n",
       "      <td>01.142e00 A DC</td>\n",
       "      <td>1.025</td>\n",
       "      <td>10.5</td>\n",
       "    </tr>\n",
       "    <tr>\n",
       "      <th>9</th>\n",
       "      <td>2024-06-30 17:49:11.145317</td>\n",
       "      <td>75</td>\n",
       "      <td>experiments/vetrnik-I-waveform-zarovka-run2/d7...</td>\n",
       "      <td>experiments/vetrnik-I-waveform-zarovka-run2/d7...</td>\n",
       "      <td>75</td>\n",
       "      <td>2630</td>\n",
       "      <td>01.562e00 A DC</td>\n",
       "      <td>1.435</td>\n",
       "      <td>10.3</td>\n",
       "      <td>2636</td>\n",
       "      <td>01.559e00 A DC</td>\n",
       "      <td>1.435</td>\n",
       "      <td>10.5</td>\n",
       "    </tr>\n",
       "    <tr>\n",
       "      <th>10</th>\n",
       "      <td>2024-06-30 17:49:20.886459</td>\n",
       "      <td>100</td>\n",
       "      <td>experiments/vetrnik-I-waveform-zarovka-run2/d1...</td>\n",
       "      <td>experiments/vetrnik-I-waveform-zarovka-run2/d1...</td>\n",
       "      <td>100</td>\n",
       "      <td>2640</td>\n",
       "      <td>01.947e00 A DC</td>\n",
       "      <td>1.804</td>\n",
       "      <td>10.3</td>\n",
       "      <td>2646</td>\n",
       "      <td>01.943e00 A DC</td>\n",
       "      <td>1.804</td>\n",
       "      <td>10.3</td>\n",
       "    </tr>\n",
       "    <tr>\n",
       "      <th>11</th>\n",
       "      <td>2024-06-30 17:49:30.570519</td>\n",
       "      <td>125</td>\n",
       "      <td>experiments/vetrnik-I-waveform-zarovka-run2/d1...</td>\n",
       "      <td>experiments/vetrnik-I-waveform-zarovka-run2/d1...</td>\n",
       "      <td>125</td>\n",
       "      <td>2650</td>\n",
       "      <td>02.305e00 A DC</td>\n",
       "      <td>2.173</td>\n",
       "      <td>10.2</td>\n",
       "      <td>2655</td>\n",
       "      <td>02.302e00 A DC</td>\n",
       "      <td>2.173</td>\n",
       "      <td>10.2</td>\n",
       "    </tr>\n",
       "    <tr>\n",
       "      <th>12</th>\n",
       "      <td>2024-06-30 17:49:40.290658</td>\n",
       "      <td>150</td>\n",
       "      <td>experiments/vetrnik-I-waveform-zarovka-run2/d1...</td>\n",
       "      <td>experiments/vetrnik-I-waveform-zarovka-run2/d1...</td>\n",
       "      <td>150</td>\n",
       "      <td>2659</td>\n",
       "      <td>02.660e00 A DC</td>\n",
       "      <td>2.501</td>\n",
       "      <td>10.2</td>\n",
       "      <td>2665</td>\n",
       "      <td>02.656e00 A DC</td>\n",
       "      <td>2.501</td>\n",
       "      <td>10.2</td>\n",
       "    </tr>\n",
       "    <tr>\n",
       "      <th>13</th>\n",
       "      <td>2024-06-30 17:49:50.026708</td>\n",
       "      <td>175</td>\n",
       "      <td>experiments/vetrnik-I-waveform-zarovka-run2/d1...</td>\n",
       "      <td>experiments/vetrnik-I-waveform-zarovka-run2/d1...</td>\n",
       "      <td>175</td>\n",
       "      <td>2669</td>\n",
       "      <td>02.992e00 A DC</td>\n",
       "      <td>2.788</td>\n",
       "      <td>10.0</td>\n",
       "      <td>2675</td>\n",
       "      <td>02.990e00 A DC</td>\n",
       "      <td>2.788</td>\n",
       "      <td>10.0</td>\n",
       "    </tr>\n",
       "    <tr>\n",
       "      <th>14</th>\n",
       "      <td>2024-06-30 17:49:59.732997</td>\n",
       "      <td>200</td>\n",
       "      <td>experiments/vetrnik-I-waveform-zarovka-run2/d2...</td>\n",
       "      <td>experiments/vetrnik-I-waveform-zarovka-run2/d2...</td>\n",
       "      <td>200</td>\n",
       "      <td>2679</td>\n",
       "      <td>03.318e00 A DC</td>\n",
       "      <td>3.075</td>\n",
       "      <td>10.0</td>\n",
       "      <td>2684</td>\n",
       "      <td>03.315e00 A DC</td>\n",
       "      <td>3.075</td>\n",
       "      <td>10.0</td>\n",
       "    </tr>\n",
       "    <tr>\n",
       "      <th>15</th>\n",
       "      <td>2024-06-30 17:50:09.454153</td>\n",
       "      <td>225</td>\n",
       "      <td>experiments/vetrnik-I-waveform-zarovka-run2/d2...</td>\n",
       "      <td>experiments/vetrnik-I-waveform-zarovka-run2/d2...</td>\n",
       "      <td>225</td>\n",
       "      <td>2688</td>\n",
       "      <td>03.628e00 A DC</td>\n",
       "      <td>3.321</td>\n",
       "      <td>9.9</td>\n",
       "      <td>2694</td>\n",
       "      <td>03.626e00 A DC</td>\n",
       "      <td>3.321</td>\n",
       "      <td>9.9</td>\n",
       "    </tr>\n",
       "    <tr>\n",
       "      <th>16</th>\n",
       "      <td>2024-06-30 17:50:19.200570</td>\n",
       "      <td>240</td>\n",
       "      <td>experiments/vetrnik-I-waveform-zarovka-run2/d2...</td>\n",
       "      <td>experiments/vetrnik-I-waveform-zarovka-run2/d2...</td>\n",
       "      <td>240</td>\n",
       "      <td>2698</td>\n",
       "      <td>03.810e00 A DC</td>\n",
       "      <td>3.485</td>\n",
       "      <td>9.9</td>\n",
       "      <td>2704</td>\n",
       "      <td>03.808e00 A DC</td>\n",
       "      <td>3.485</td>\n",
       "      <td>9.9</td>\n",
       "    </tr>\n",
       "    <tr>\n",
       "      <th>17</th>\n",
       "      <td>2024-06-30 17:50:28.890386</td>\n",
       "      <td>245</td>\n",
       "      <td>experiments/vetrnik-I-waveform-zarovka-run2/d2...</td>\n",
       "      <td>experiments/vetrnik-I-waveform-zarovka-run2/d2...</td>\n",
       "      <td>245</td>\n",
       "      <td>2708</td>\n",
       "      <td>03.867e00 A DC</td>\n",
       "      <td>3.526</td>\n",
       "      <td>9.9</td>\n",
       "      <td>2714</td>\n",
       "      <td>03.867e00 A DC</td>\n",
       "      <td>3.526</td>\n",
       "      <td>9.9</td>\n",
       "    </tr>\n",
       "    <tr>\n",
       "      <th>18</th>\n",
       "      <td>2024-06-30 17:50:38.612103</td>\n",
       "      <td>247</td>\n",
       "      <td>experiments/vetrnik-I-waveform-zarovka-run2/d2...</td>\n",
       "      <td>experiments/vetrnik-I-waveform-zarovka-run2/d2...</td>\n",
       "      <td>247</td>\n",
       "      <td>2718</td>\n",
       "      <td>03.891e00 A DC</td>\n",
       "      <td>3.567</td>\n",
       "      <td>9.9</td>\n",
       "      <td>2723</td>\n",
       "      <td>03.890e00 A DC</td>\n",
       "      <td>3.567</td>\n",
       "      <td>9.9</td>\n",
       "    </tr>\n",
       "  </tbody>\n",
       "</table>\n",
       "</div>"
      ],
      "text/plain": [
       "                     datetime  duty  \\\n",
       "0  2024-06-30 17:47:43.580089     5   \n",
       "1  2024-06-30 17:47:53.234144     8   \n",
       "2  2024-06-30 17:48:02.949785    10   \n",
       "3  2024-06-30 17:48:12.827451    12   \n",
       "4  2024-06-30 17:48:22.528900    15   \n",
       "5  2024-06-30 17:48:32.251068    20   \n",
       "6  2024-06-30 17:48:41.984304    25   \n",
       "7  2024-06-30 17:48:51.704505    35   \n",
       "8  2024-06-30 17:49:01.425685    50   \n",
       "9  2024-06-30 17:49:11.145317    75   \n",
       "10 2024-06-30 17:49:20.886459   100   \n",
       "11 2024-06-30 17:49:30.570519   125   \n",
       "12 2024-06-30 17:49:40.290658   150   \n",
       "13 2024-06-30 17:49:50.026708   175   \n",
       "14 2024-06-30 17:49:59.732997   200   \n",
       "15 2024-06-30 17:50:09.454153   225   \n",
       "16 2024-06-30 17:50:19.200570   240   \n",
       "17 2024-06-30 17:50:28.890386   245   \n",
       "18 2024-06-30 17:50:38.612103   247   \n",
       "\n",
       "                                                 wav1  \\\n",
       "0   experiments/vetrnik-I-waveform-zarovka-run2/d5...   \n",
       "1   experiments/vetrnik-I-waveform-zarovka-run2/d8...   \n",
       "2   experiments/vetrnik-I-waveform-zarovka-run2/d1...   \n",
       "3   experiments/vetrnik-I-waveform-zarovka-run2/d1...   \n",
       "4   experiments/vetrnik-I-waveform-zarovka-run2/d1...   \n",
       "5   experiments/vetrnik-I-waveform-zarovka-run2/d2...   \n",
       "6   experiments/vetrnik-I-waveform-zarovka-run2/d2...   \n",
       "7   experiments/vetrnik-I-waveform-zarovka-run2/d3...   \n",
       "8   experiments/vetrnik-I-waveform-zarovka-run2/d5...   \n",
       "9   experiments/vetrnik-I-waveform-zarovka-run2/d7...   \n",
       "10  experiments/vetrnik-I-waveform-zarovka-run2/d1...   \n",
       "11  experiments/vetrnik-I-waveform-zarovka-run2/d1...   \n",
       "12  experiments/vetrnik-I-waveform-zarovka-run2/d1...   \n",
       "13  experiments/vetrnik-I-waveform-zarovka-run2/d1...   \n",
       "14  experiments/vetrnik-I-waveform-zarovka-run2/d2...   \n",
       "15  experiments/vetrnik-I-waveform-zarovka-run2/d2...   \n",
       "16  experiments/vetrnik-I-waveform-zarovka-run2/d2...   \n",
       "17  experiments/vetrnik-I-waveform-zarovka-run2/d2...   \n",
       "18  experiments/vetrnik-I-waveform-zarovka-run2/d2...   \n",
       "\n",
       "                                                 wav2 duty_read time1  \\\n",
       "0   experiments/vetrnik-I-waveform-zarovka-run2/d5...         5  2543   \n",
       "1   experiments/vetrnik-I-waveform-zarovka-run2/d8...         8  2552   \n",
       "2   experiments/vetrnik-I-waveform-zarovka-run2/d1...        10  2562   \n",
       "3   experiments/vetrnik-I-waveform-zarovka-run2/d1...        12  2572   \n",
       "4   experiments/vetrnik-I-waveform-zarovka-run2/d1...        15  2581   \n",
       "5   experiments/vetrnik-I-waveform-zarovka-run2/d2...        20  2591   \n",
       "6   experiments/vetrnik-I-waveform-zarovka-run2/d2...        25  2601   \n",
       "7   experiments/vetrnik-I-waveform-zarovka-run2/d3...        35  2611   \n",
       "8   experiments/vetrnik-I-waveform-zarovka-run2/d5...        50  2620   \n",
       "9   experiments/vetrnik-I-waveform-zarovka-run2/d7...        75  2630   \n",
       "10  experiments/vetrnik-I-waveform-zarovka-run2/d1...       100  2640   \n",
       "11  experiments/vetrnik-I-waveform-zarovka-run2/d1...       125  2650   \n",
       "12  experiments/vetrnik-I-waveform-zarovka-run2/d1...       150  2659   \n",
       "13  experiments/vetrnik-I-waveform-zarovka-run2/d1...       175  2669   \n",
       "14  experiments/vetrnik-I-waveform-zarovka-run2/d2...       200  2679   \n",
       "15  experiments/vetrnik-I-waveform-zarovka-run2/d2...       225  2688   \n",
       "16  experiments/vetrnik-I-waveform-zarovka-run2/d2...       240  2698   \n",
       "17  experiments/vetrnik-I-waveform-zarovka-run2/d2...       245  2708   \n",
       "18  experiments/vetrnik-I-waveform-zarovka-run2/d2...       247  2718   \n",
       "\n",
       "                I1_dmm I1_vetrnik U1_vetrnik time2              I2_dmm  \\\n",
       "0    00.146e00 A DC         0.082       10.6  2548   00.167e00 A DC      \n",
       "1    00.270e00 A DC         0.205       10.6  2558   00.262e00 A DC      \n",
       "2    00.319e00 A DC         0.246       10.6  2568   00.316e00 A DC      \n",
       "3    00.366e00 A DC         0.287       10.6  2578   00.364e00 A DC      \n",
       "4    00.442e00 A DC         0.369       10.6  2587   00.439e00 A DC      \n",
       "5    00.560e00 A DC         0.492       10.6  2597   00.557e00 A DC      \n",
       "6    00.665e00 A DC         0.574       10.6  2607   00.662e00 A DC      \n",
       "7    00.866e00 A DC         0.779       10.6  2616   00.864e00 A DC      \n",
       "8    01.145e00 A DC         1.066       10.5  2626   01.142e00 A DC      \n",
       "9    01.562e00 A DC         1.435       10.3  2636   01.559e00 A DC      \n",
       "10   01.947e00 A DC         1.804       10.3  2646   01.943e00 A DC      \n",
       "11   02.305e00 A DC         2.173       10.2  2655   02.302e00 A DC      \n",
       "12   02.660e00 A DC         2.501       10.2  2665   02.656e00 A DC      \n",
       "13   02.992e00 A DC         2.788       10.0  2675   02.990e00 A DC      \n",
       "14   03.318e00 A DC         3.075       10.0  2684   03.315e00 A DC      \n",
       "15   03.628e00 A DC         3.321        9.9  2694   03.626e00 A DC      \n",
       "16   03.810e00 A DC         3.485        9.9  2704   03.808e00 A DC      \n",
       "17   03.867e00 A DC         3.526        9.9  2714   03.867e00 A DC      \n",
       "18   03.891e00 A DC         3.567        9.9  2723   03.890e00 A DC      \n",
       "\n",
       "   I2_vetrnik U2_vetrnik  \n",
       "0       0.123       10.6  \n",
       "1       0.205       10.6  \n",
       "2       0.246       10.6  \n",
       "3       0.287       10.6  \n",
       "4       0.369       10.6  \n",
       "5       0.451       10.6  \n",
       "6       0.574       10.6  \n",
       "7       0.779       10.6  \n",
       "8       1.025       10.5  \n",
       "9       1.435       10.5  \n",
       "10      1.804       10.3  \n",
       "11      2.173       10.2  \n",
       "12      2.501       10.2  \n",
       "13      2.788       10.0  \n",
       "14      3.075       10.0  \n",
       "15      3.321        9.9  \n",
       "16      3.485        9.9  \n",
       "17      3.526        9.9  \n",
       "18      3.567        9.9  "
      ]
     },
     "execution_count": 12,
     "metadata": {},
     "output_type": "execute_result"
    }
   ],
   "source": [
    "data = []\n",
    "for d in tqdm.tqdm(duty):\n",
    "    dp = {\n",
    "        \"datetime\": datetime.datetime.now(),\n",
    "        \"duty\": d,\n",
    "        \"wav1\": str(EXPERIMENT_DIR / f\"d{d}-wav1\"),\n",
    "        \"wav2\": str(EXPERIMENT_DIR / f\"d{d}-wav2\"),\n",
    "    }\n",
    "    # keep contactor on\n",
    "    # (and prevent control_MQTT timeout)\n",
    "    MQTT_pub(\"control/contactor\", \"1\")\n",
    "    # set duty\n",
    "    MQTT_pub(\"power_board/duty\", str(d))\n",
    "\n",
    "    time.sleep(2)\n",
    "    dp[\"duty_read\"] = MQTT_get(\"power_board/duty\")\n",
    "    dp[\"time1\"] = MQTT_get(\"power_board/time\")\n",
    "    scope.write(\":DIGITIZE\")\n",
    "    dp[\"I1_dmm\"] = dmm.query(\"READ?\")\n",
    "    dp[\"I1_vetrnik\"] = MQTT_get(\"power_board/current\")\n",
    "    dp[\"U1_vetrnik\"] = MQTT_get(\"power_board/voltage\")\n",
    "    scope_save_measurement(scope, dp[\"wav1\"])\n",
    "\n",
    "    time.sleep(4)\n",
    "    dp[\"time2\"] = MQTT_get(\"power_board/time\")\n",
    "    scope.write(\":DIGITIZE\")\n",
    "    dp[\"I2_dmm\"] = dmm.query(\"READ?\")\n",
    "    dp[\"I2_vetrnik\"] = MQTT_get(\"power_board/current\")\n",
    "    dp[\"U2_vetrnik\"] = MQTT_get(\"power_board/voltage\")\n",
    "    scope_save_measurement(scope, dp[\"wav2\"])\n",
    "\n",
    "    print(dp)\n",
    "    data.append(dp)\n",
    "\n",
    "df = pd.DataFrame(data)\n",
    "df"
   ]
  },
  {
   "cell_type": "code",
   "execution_count": 13,
   "id": "94659651-ebce-4210-8784-9f87452fbbdd",
   "metadata": {},
   "outputs": [],
   "source": [
    "rm.close()"
   ]
  },
  {
   "cell_type": "code",
   "execution_count": 14,
   "id": "0a1867cf-c3b4-4596-8b74-3809a686ab91",
   "metadata": {},
   "outputs": [],
   "source": [
    "MQTT_pub(\"power_board/duty\", \"0\")\n",
    "MQTT_pub(\"control/strategy\", \"control_shorted\")"
   ]
  },
  {
   "cell_type": "code",
   "execution_count": 15,
   "id": "c97f9485-620c-4b86-8185-ae8130337f50",
   "metadata": {},
   "outputs": [],
   "source": [
    "MQTT_pid.terminate()\n",
    "MQTT_pid.wait()\n",
    "MQTT_log_file.close()"
   ]
  },
  {
   "cell_type": "code",
   "execution_count": 16,
   "id": "9062f7eb-14f9-45ba-8317-293c91546e17",
   "metadata": {},
   "outputs": [
    {
     "data": {
      "text/html": [
       "<div>\n",
       "<style scoped>\n",
       "    .dataframe tbody tr th:only-of-type {\n",
       "        vertical-align: middle;\n",
       "    }\n",
       "\n",
       "    .dataframe tbody tr th {\n",
       "        vertical-align: top;\n",
       "    }\n",
       "\n",
       "    .dataframe thead th {\n",
       "        text-align: right;\n",
       "    }\n",
       "</style>\n",
       "<table border=\"1\" class=\"dataframe\">\n",
       "  <thead>\n",
       "    <tr style=\"text-align: right;\">\n",
       "      <th></th>\n",
       "      <th>datetime</th>\n",
       "      <th>duty</th>\n",
       "      <th>wav1</th>\n",
       "      <th>wav2</th>\n",
       "      <th>duty_read</th>\n",
       "      <th>time1</th>\n",
       "      <th>I1_dmm</th>\n",
       "      <th>I1_vetrnik</th>\n",
       "      <th>U1_vetrnik</th>\n",
       "      <th>time2</th>\n",
       "      <th>I2_dmm</th>\n",
       "      <th>I2_vetrnik</th>\n",
       "      <th>U2_vetrnik</th>\n",
       "      <th>I1_dmm_A</th>\n",
       "      <th>I2_dmm_A</th>\n",
       "    </tr>\n",
       "  </thead>\n",
       "  <tbody>\n",
       "    <tr>\n",
       "      <th>0</th>\n",
       "      <td>2024-06-30 17:47:43.580089</td>\n",
       "      <td>5</td>\n",
       "      <td>experiments/vetrnik-I-waveform-zarovka-run2/d5...</td>\n",
       "      <td>experiments/vetrnik-I-waveform-zarovka-run2/d5...</td>\n",
       "      <td>5</td>\n",
       "      <td>2543</td>\n",
       "      <td>00.146e00 A DC</td>\n",
       "      <td>0.082</td>\n",
       "      <td>10.6</td>\n",
       "      <td>2548</td>\n",
       "      <td>00.167e00 A DC</td>\n",
       "      <td>0.123</td>\n",
       "      <td>10.6</td>\n",
       "      <td>0.146</td>\n",
       "      <td>0.167</td>\n",
       "    </tr>\n",
       "    <tr>\n",
       "      <th>1</th>\n",
       "      <td>2024-06-30 17:47:53.234144</td>\n",
       "      <td>8</td>\n",
       "      <td>experiments/vetrnik-I-waveform-zarovka-run2/d8...</td>\n",
       "      <td>experiments/vetrnik-I-waveform-zarovka-run2/d8...</td>\n",
       "      <td>8</td>\n",
       "      <td>2552</td>\n",
       "      <td>00.270e00 A DC</td>\n",
       "      <td>0.205</td>\n",
       "      <td>10.6</td>\n",
       "      <td>2558</td>\n",
       "      <td>00.262e00 A DC</td>\n",
       "      <td>0.205</td>\n",
       "      <td>10.6</td>\n",
       "      <td>0.270</td>\n",
       "      <td>0.262</td>\n",
       "    </tr>\n",
       "    <tr>\n",
       "      <th>2</th>\n",
       "      <td>2024-06-30 17:48:02.949785</td>\n",
       "      <td>10</td>\n",
       "      <td>experiments/vetrnik-I-waveform-zarovka-run2/d1...</td>\n",
       "      <td>experiments/vetrnik-I-waveform-zarovka-run2/d1...</td>\n",
       "      <td>10</td>\n",
       "      <td>2562</td>\n",
       "      <td>00.319e00 A DC</td>\n",
       "      <td>0.246</td>\n",
       "      <td>10.6</td>\n",
       "      <td>2568</td>\n",
       "      <td>00.316e00 A DC</td>\n",
       "      <td>0.246</td>\n",
       "      <td>10.6</td>\n",
       "      <td>0.319</td>\n",
       "      <td>0.316</td>\n",
       "    </tr>\n",
       "    <tr>\n",
       "      <th>3</th>\n",
       "      <td>2024-06-30 17:48:12.827451</td>\n",
       "      <td>12</td>\n",
       "      <td>experiments/vetrnik-I-waveform-zarovka-run2/d1...</td>\n",
       "      <td>experiments/vetrnik-I-waveform-zarovka-run2/d1...</td>\n",
       "      <td>12</td>\n",
       "      <td>2572</td>\n",
       "      <td>00.366e00 A DC</td>\n",
       "      <td>0.287</td>\n",
       "      <td>10.6</td>\n",
       "      <td>2578</td>\n",
       "      <td>00.364e00 A DC</td>\n",
       "      <td>0.287</td>\n",
       "      <td>10.6</td>\n",
       "      <td>0.366</td>\n",
       "      <td>0.364</td>\n",
       "    </tr>\n",
       "    <tr>\n",
       "      <th>4</th>\n",
       "      <td>2024-06-30 17:48:22.528900</td>\n",
       "      <td>15</td>\n",
       "      <td>experiments/vetrnik-I-waveform-zarovka-run2/d1...</td>\n",
       "      <td>experiments/vetrnik-I-waveform-zarovka-run2/d1...</td>\n",
       "      <td>15</td>\n",
       "      <td>2581</td>\n",
       "      <td>00.442e00 A DC</td>\n",
       "      <td>0.369</td>\n",
       "      <td>10.6</td>\n",
       "      <td>2587</td>\n",
       "      <td>00.439e00 A DC</td>\n",
       "      <td>0.369</td>\n",
       "      <td>10.6</td>\n",
       "      <td>0.442</td>\n",
       "      <td>0.439</td>\n",
       "    </tr>\n",
       "    <tr>\n",
       "      <th>5</th>\n",
       "      <td>2024-06-30 17:48:32.251068</td>\n",
       "      <td>20</td>\n",
       "      <td>experiments/vetrnik-I-waveform-zarovka-run2/d2...</td>\n",
       "      <td>experiments/vetrnik-I-waveform-zarovka-run2/d2...</td>\n",
       "      <td>20</td>\n",
       "      <td>2591</td>\n",
       "      <td>00.560e00 A DC</td>\n",
       "      <td>0.492</td>\n",
       "      <td>10.6</td>\n",
       "      <td>2597</td>\n",
       "      <td>00.557e00 A DC</td>\n",
       "      <td>0.451</td>\n",
       "      <td>10.6</td>\n",
       "      <td>0.560</td>\n",
       "      <td>0.557</td>\n",
       "    </tr>\n",
       "    <tr>\n",
       "      <th>6</th>\n",
       "      <td>2024-06-30 17:48:41.984304</td>\n",
       "      <td>25</td>\n",
       "      <td>experiments/vetrnik-I-waveform-zarovka-run2/d2...</td>\n",
       "      <td>experiments/vetrnik-I-waveform-zarovka-run2/d2...</td>\n",
       "      <td>25</td>\n",
       "      <td>2601</td>\n",
       "      <td>00.665e00 A DC</td>\n",
       "      <td>0.574</td>\n",
       "      <td>10.6</td>\n",
       "      <td>2607</td>\n",
       "      <td>00.662e00 A DC</td>\n",
       "      <td>0.574</td>\n",
       "      <td>10.6</td>\n",
       "      <td>0.665</td>\n",
       "      <td>0.662</td>\n",
       "    </tr>\n",
       "    <tr>\n",
       "      <th>7</th>\n",
       "      <td>2024-06-30 17:48:51.704505</td>\n",
       "      <td>35</td>\n",
       "      <td>experiments/vetrnik-I-waveform-zarovka-run2/d3...</td>\n",
       "      <td>experiments/vetrnik-I-waveform-zarovka-run2/d3...</td>\n",
       "      <td>35</td>\n",
       "      <td>2611</td>\n",
       "      <td>00.866e00 A DC</td>\n",
       "      <td>0.779</td>\n",
       "      <td>10.6</td>\n",
       "      <td>2616</td>\n",
       "      <td>00.864e00 A DC</td>\n",
       "      <td>0.779</td>\n",
       "      <td>10.6</td>\n",
       "      <td>0.866</td>\n",
       "      <td>0.864</td>\n",
       "    </tr>\n",
       "    <tr>\n",
       "      <th>8</th>\n",
       "      <td>2024-06-30 17:49:01.425685</td>\n",
       "      <td>50</td>\n",
       "      <td>experiments/vetrnik-I-waveform-zarovka-run2/d5...</td>\n",
       "      <td>experiments/vetrnik-I-waveform-zarovka-run2/d5...</td>\n",
       "      <td>50</td>\n",
       "      <td>2620</td>\n",
       "      <td>01.145e00 A DC</td>\n",
       "      <td>1.066</td>\n",
       "      <td>10.5</td>\n",
       "      <td>2626</td>\n",
       "      <td>01.142e00 A DC</td>\n",
       "      <td>1.025</td>\n",
       "      <td>10.5</td>\n",
       "      <td>1.145</td>\n",
       "      <td>1.142</td>\n",
       "    </tr>\n",
       "    <tr>\n",
       "      <th>9</th>\n",
       "      <td>2024-06-30 17:49:11.145317</td>\n",
       "      <td>75</td>\n",
       "      <td>experiments/vetrnik-I-waveform-zarovka-run2/d7...</td>\n",
       "      <td>experiments/vetrnik-I-waveform-zarovka-run2/d7...</td>\n",
       "      <td>75</td>\n",
       "      <td>2630</td>\n",
       "      <td>01.562e00 A DC</td>\n",
       "      <td>1.435</td>\n",
       "      <td>10.3</td>\n",
       "      <td>2636</td>\n",
       "      <td>01.559e00 A DC</td>\n",
       "      <td>1.435</td>\n",
       "      <td>10.5</td>\n",
       "      <td>1.562</td>\n",
       "      <td>1.559</td>\n",
       "    </tr>\n",
       "    <tr>\n",
       "      <th>10</th>\n",
       "      <td>2024-06-30 17:49:20.886459</td>\n",
       "      <td>100</td>\n",
       "      <td>experiments/vetrnik-I-waveform-zarovka-run2/d1...</td>\n",
       "      <td>experiments/vetrnik-I-waveform-zarovka-run2/d1...</td>\n",
       "      <td>100</td>\n",
       "      <td>2640</td>\n",
       "      <td>01.947e00 A DC</td>\n",
       "      <td>1.804</td>\n",
       "      <td>10.3</td>\n",
       "      <td>2646</td>\n",
       "      <td>01.943e00 A DC</td>\n",
       "      <td>1.804</td>\n",
       "      <td>10.3</td>\n",
       "      <td>1.947</td>\n",
       "      <td>1.943</td>\n",
       "    </tr>\n",
       "    <tr>\n",
       "      <th>11</th>\n",
       "      <td>2024-06-30 17:49:30.570519</td>\n",
       "      <td>125</td>\n",
       "      <td>experiments/vetrnik-I-waveform-zarovka-run2/d1...</td>\n",
       "      <td>experiments/vetrnik-I-waveform-zarovka-run2/d1...</td>\n",
       "      <td>125</td>\n",
       "      <td>2650</td>\n",
       "      <td>02.305e00 A DC</td>\n",
       "      <td>2.173</td>\n",
       "      <td>10.2</td>\n",
       "      <td>2655</td>\n",
       "      <td>02.302e00 A DC</td>\n",
       "      <td>2.173</td>\n",
       "      <td>10.2</td>\n",
       "      <td>2.305</td>\n",
       "      <td>2.302</td>\n",
       "    </tr>\n",
       "    <tr>\n",
       "      <th>12</th>\n",
       "      <td>2024-06-30 17:49:40.290658</td>\n",
       "      <td>150</td>\n",
       "      <td>experiments/vetrnik-I-waveform-zarovka-run2/d1...</td>\n",
       "      <td>experiments/vetrnik-I-waveform-zarovka-run2/d1...</td>\n",
       "      <td>150</td>\n",
       "      <td>2659</td>\n",
       "      <td>02.660e00 A DC</td>\n",
       "      <td>2.501</td>\n",
       "      <td>10.2</td>\n",
       "      <td>2665</td>\n",
       "      <td>02.656e00 A DC</td>\n",
       "      <td>2.501</td>\n",
       "      <td>10.2</td>\n",
       "      <td>2.660</td>\n",
       "      <td>2.656</td>\n",
       "    </tr>\n",
       "    <tr>\n",
       "      <th>13</th>\n",
       "      <td>2024-06-30 17:49:50.026708</td>\n",
       "      <td>175</td>\n",
       "      <td>experiments/vetrnik-I-waveform-zarovka-run2/d1...</td>\n",
       "      <td>experiments/vetrnik-I-waveform-zarovka-run2/d1...</td>\n",
       "      <td>175</td>\n",
       "      <td>2669</td>\n",
       "      <td>02.992e00 A DC</td>\n",
       "      <td>2.788</td>\n",
       "      <td>10.0</td>\n",
       "      <td>2675</td>\n",
       "      <td>02.990e00 A DC</td>\n",
       "      <td>2.788</td>\n",
       "      <td>10.0</td>\n",
       "      <td>2.992</td>\n",
       "      <td>2.990</td>\n",
       "    </tr>\n",
       "    <tr>\n",
       "      <th>14</th>\n",
       "      <td>2024-06-30 17:49:59.732997</td>\n",
       "      <td>200</td>\n",
       "      <td>experiments/vetrnik-I-waveform-zarovka-run2/d2...</td>\n",
       "      <td>experiments/vetrnik-I-waveform-zarovka-run2/d2...</td>\n",
       "      <td>200</td>\n",
       "      <td>2679</td>\n",
       "      <td>03.318e00 A DC</td>\n",
       "      <td>3.075</td>\n",
       "      <td>10.0</td>\n",
       "      <td>2684</td>\n",
       "      <td>03.315e00 A DC</td>\n",
       "      <td>3.075</td>\n",
       "      <td>10.0</td>\n",
       "      <td>3.318</td>\n",
       "      <td>3.315</td>\n",
       "    </tr>\n",
       "    <tr>\n",
       "      <th>15</th>\n",
       "      <td>2024-06-30 17:50:09.454153</td>\n",
       "      <td>225</td>\n",
       "      <td>experiments/vetrnik-I-waveform-zarovka-run2/d2...</td>\n",
       "      <td>experiments/vetrnik-I-waveform-zarovka-run2/d2...</td>\n",
       "      <td>225</td>\n",
       "      <td>2688</td>\n",
       "      <td>03.628e00 A DC</td>\n",
       "      <td>3.321</td>\n",
       "      <td>9.9</td>\n",
       "      <td>2694</td>\n",
       "      <td>03.626e00 A DC</td>\n",
       "      <td>3.321</td>\n",
       "      <td>9.9</td>\n",
       "      <td>3.628</td>\n",
       "      <td>3.626</td>\n",
       "    </tr>\n",
       "    <tr>\n",
       "      <th>16</th>\n",
       "      <td>2024-06-30 17:50:19.200570</td>\n",
       "      <td>240</td>\n",
       "      <td>experiments/vetrnik-I-waveform-zarovka-run2/d2...</td>\n",
       "      <td>experiments/vetrnik-I-waveform-zarovka-run2/d2...</td>\n",
       "      <td>240</td>\n",
       "      <td>2698</td>\n",
       "      <td>03.810e00 A DC</td>\n",
       "      <td>3.485</td>\n",
       "      <td>9.9</td>\n",
       "      <td>2704</td>\n",
       "      <td>03.808e00 A DC</td>\n",
       "      <td>3.485</td>\n",
       "      <td>9.9</td>\n",
       "      <td>3.810</td>\n",
       "      <td>3.808</td>\n",
       "    </tr>\n",
       "    <tr>\n",
       "      <th>17</th>\n",
       "      <td>2024-06-30 17:50:28.890386</td>\n",
       "      <td>245</td>\n",
       "      <td>experiments/vetrnik-I-waveform-zarovka-run2/d2...</td>\n",
       "      <td>experiments/vetrnik-I-waveform-zarovka-run2/d2...</td>\n",
       "      <td>245</td>\n",
       "      <td>2708</td>\n",
       "      <td>03.867e00 A DC</td>\n",
       "      <td>3.526</td>\n",
       "      <td>9.9</td>\n",
       "      <td>2714</td>\n",
       "      <td>03.867e00 A DC</td>\n",
       "      <td>3.526</td>\n",
       "      <td>9.9</td>\n",
       "      <td>3.867</td>\n",
       "      <td>3.867</td>\n",
       "    </tr>\n",
       "    <tr>\n",
       "      <th>18</th>\n",
       "      <td>2024-06-30 17:50:38.612103</td>\n",
       "      <td>247</td>\n",
       "      <td>experiments/vetrnik-I-waveform-zarovka-run2/d2...</td>\n",
       "      <td>experiments/vetrnik-I-waveform-zarovka-run2/d2...</td>\n",
       "      <td>247</td>\n",
       "      <td>2718</td>\n",
       "      <td>03.891e00 A DC</td>\n",
       "      <td>3.567</td>\n",
       "      <td>9.9</td>\n",
       "      <td>2723</td>\n",
       "      <td>03.890e00 A DC</td>\n",
       "      <td>3.567</td>\n",
       "      <td>9.9</td>\n",
       "      <td>3.891</td>\n",
       "      <td>3.890</td>\n",
       "    </tr>\n",
       "  </tbody>\n",
       "</table>\n",
       "</div>"
      ],
      "text/plain": [
       "                     datetime  duty  \\\n",
       "0  2024-06-30 17:47:43.580089     5   \n",
       "1  2024-06-30 17:47:53.234144     8   \n",
       "2  2024-06-30 17:48:02.949785    10   \n",
       "3  2024-06-30 17:48:12.827451    12   \n",
       "4  2024-06-30 17:48:22.528900    15   \n",
       "5  2024-06-30 17:48:32.251068    20   \n",
       "6  2024-06-30 17:48:41.984304    25   \n",
       "7  2024-06-30 17:48:51.704505    35   \n",
       "8  2024-06-30 17:49:01.425685    50   \n",
       "9  2024-06-30 17:49:11.145317    75   \n",
       "10 2024-06-30 17:49:20.886459   100   \n",
       "11 2024-06-30 17:49:30.570519   125   \n",
       "12 2024-06-30 17:49:40.290658   150   \n",
       "13 2024-06-30 17:49:50.026708   175   \n",
       "14 2024-06-30 17:49:59.732997   200   \n",
       "15 2024-06-30 17:50:09.454153   225   \n",
       "16 2024-06-30 17:50:19.200570   240   \n",
       "17 2024-06-30 17:50:28.890386   245   \n",
       "18 2024-06-30 17:50:38.612103   247   \n",
       "\n",
       "                                                 wav1  \\\n",
       "0   experiments/vetrnik-I-waveform-zarovka-run2/d5...   \n",
       "1   experiments/vetrnik-I-waveform-zarovka-run2/d8...   \n",
       "2   experiments/vetrnik-I-waveform-zarovka-run2/d1...   \n",
       "3   experiments/vetrnik-I-waveform-zarovka-run2/d1...   \n",
       "4   experiments/vetrnik-I-waveform-zarovka-run2/d1...   \n",
       "5   experiments/vetrnik-I-waveform-zarovka-run2/d2...   \n",
       "6   experiments/vetrnik-I-waveform-zarovka-run2/d2...   \n",
       "7   experiments/vetrnik-I-waveform-zarovka-run2/d3...   \n",
       "8   experiments/vetrnik-I-waveform-zarovka-run2/d5...   \n",
       "9   experiments/vetrnik-I-waveform-zarovka-run2/d7...   \n",
       "10  experiments/vetrnik-I-waveform-zarovka-run2/d1...   \n",
       "11  experiments/vetrnik-I-waveform-zarovka-run2/d1...   \n",
       "12  experiments/vetrnik-I-waveform-zarovka-run2/d1...   \n",
       "13  experiments/vetrnik-I-waveform-zarovka-run2/d1...   \n",
       "14  experiments/vetrnik-I-waveform-zarovka-run2/d2...   \n",
       "15  experiments/vetrnik-I-waveform-zarovka-run2/d2...   \n",
       "16  experiments/vetrnik-I-waveform-zarovka-run2/d2...   \n",
       "17  experiments/vetrnik-I-waveform-zarovka-run2/d2...   \n",
       "18  experiments/vetrnik-I-waveform-zarovka-run2/d2...   \n",
       "\n",
       "                                                 wav2 duty_read time1  \\\n",
       "0   experiments/vetrnik-I-waveform-zarovka-run2/d5...         5  2543   \n",
       "1   experiments/vetrnik-I-waveform-zarovka-run2/d8...         8  2552   \n",
       "2   experiments/vetrnik-I-waveform-zarovka-run2/d1...        10  2562   \n",
       "3   experiments/vetrnik-I-waveform-zarovka-run2/d1...        12  2572   \n",
       "4   experiments/vetrnik-I-waveform-zarovka-run2/d1...        15  2581   \n",
       "5   experiments/vetrnik-I-waveform-zarovka-run2/d2...        20  2591   \n",
       "6   experiments/vetrnik-I-waveform-zarovka-run2/d2...        25  2601   \n",
       "7   experiments/vetrnik-I-waveform-zarovka-run2/d3...        35  2611   \n",
       "8   experiments/vetrnik-I-waveform-zarovka-run2/d5...        50  2620   \n",
       "9   experiments/vetrnik-I-waveform-zarovka-run2/d7...        75  2630   \n",
       "10  experiments/vetrnik-I-waveform-zarovka-run2/d1...       100  2640   \n",
       "11  experiments/vetrnik-I-waveform-zarovka-run2/d1...       125  2650   \n",
       "12  experiments/vetrnik-I-waveform-zarovka-run2/d1...       150  2659   \n",
       "13  experiments/vetrnik-I-waveform-zarovka-run2/d1...       175  2669   \n",
       "14  experiments/vetrnik-I-waveform-zarovka-run2/d2...       200  2679   \n",
       "15  experiments/vetrnik-I-waveform-zarovka-run2/d2...       225  2688   \n",
       "16  experiments/vetrnik-I-waveform-zarovka-run2/d2...       240  2698   \n",
       "17  experiments/vetrnik-I-waveform-zarovka-run2/d2...       245  2708   \n",
       "18  experiments/vetrnik-I-waveform-zarovka-run2/d2...       247  2718   \n",
       "\n",
       "                I1_dmm I1_vetrnik U1_vetrnik time2              I2_dmm  \\\n",
       "0    00.146e00 A DC         0.082       10.6  2548   00.167e00 A DC      \n",
       "1    00.270e00 A DC         0.205       10.6  2558   00.262e00 A DC      \n",
       "2    00.319e00 A DC         0.246       10.6  2568   00.316e00 A DC      \n",
       "3    00.366e00 A DC         0.287       10.6  2578   00.364e00 A DC      \n",
       "4    00.442e00 A DC         0.369       10.6  2587   00.439e00 A DC      \n",
       "5    00.560e00 A DC         0.492       10.6  2597   00.557e00 A DC      \n",
       "6    00.665e00 A DC         0.574       10.6  2607   00.662e00 A DC      \n",
       "7    00.866e00 A DC         0.779       10.6  2616   00.864e00 A DC      \n",
       "8    01.145e00 A DC         1.066       10.5  2626   01.142e00 A DC      \n",
       "9    01.562e00 A DC         1.435       10.3  2636   01.559e00 A DC      \n",
       "10   01.947e00 A DC         1.804       10.3  2646   01.943e00 A DC      \n",
       "11   02.305e00 A DC         2.173       10.2  2655   02.302e00 A DC      \n",
       "12   02.660e00 A DC         2.501       10.2  2665   02.656e00 A DC      \n",
       "13   02.992e00 A DC         2.788       10.0  2675   02.990e00 A DC      \n",
       "14   03.318e00 A DC         3.075       10.0  2684   03.315e00 A DC      \n",
       "15   03.628e00 A DC         3.321        9.9  2694   03.626e00 A DC      \n",
       "16   03.810e00 A DC         3.485        9.9  2704   03.808e00 A DC      \n",
       "17   03.867e00 A DC         3.526        9.9  2714   03.867e00 A DC      \n",
       "18   03.891e00 A DC         3.567        9.9  2723   03.890e00 A DC      \n",
       "\n",
       "   I2_vetrnik U2_vetrnik  I1_dmm_A  I2_dmm_A  \n",
       "0       0.123       10.6     0.146     0.167  \n",
       "1       0.205       10.6     0.270     0.262  \n",
       "2       0.246       10.6     0.319     0.316  \n",
       "3       0.287       10.6     0.366     0.364  \n",
       "4       0.369       10.6     0.442     0.439  \n",
       "5       0.451       10.6     0.560     0.557  \n",
       "6       0.574       10.6     0.665     0.662  \n",
       "7       0.779       10.6     0.866     0.864  \n",
       "8       1.025       10.5     1.145     1.142  \n",
       "9       1.435       10.5     1.562     1.559  \n",
       "10      1.804       10.3     1.947     1.943  \n",
       "11      2.173       10.2     2.305     2.302  \n",
       "12      2.501       10.2     2.660     2.656  \n",
       "13      2.788       10.0     2.992     2.990  \n",
       "14      3.075       10.0     3.318     3.315  \n",
       "15      3.321        9.9     3.628     3.626  \n",
       "16      3.485        9.9     3.810     3.808  \n",
       "17      3.526        9.9     3.867     3.867  \n",
       "18      3.567        9.9     3.891     3.890  "
      ]
     },
     "execution_count": 16,
     "metadata": {},
     "output_type": "execute_result"
    }
   ],
   "source": [
    "# parse dmm measurements\n",
    "df[\"I1_dmm_A\"] = pd.to_numeric(df.I1_dmm.str.strip().str.split(\" \", n=1, expand=True)[0])\n",
    "df[\"I2_dmm_A\"] = pd.to_numeric(df.I2_dmm.str.strip().str.split(\" \", n=1, expand=True)[0])\n",
    "df"
   ]
  },
  {
   "cell_type": "code",
   "execution_count": 17,
   "id": "260beb70-2680-4123-9db3-19bcc6d16675",
   "metadata": {},
   "outputs": [],
   "source": [
    "df.to_csv(EXPERIMENT_DIR / \"data.csv\", index=False)"
   ]
  },
  {
   "cell_type": "code",
   "execution_count": null,
   "id": "3ce34d9f-7bc6-4fbc-af3d-60c83dc1ac22",
   "metadata": {},
   "outputs": [],
   "source": []
  }
 ],
 "metadata": {
  "kernelspec": {
   "display_name": "Python 3 (ipykernel)",
   "language": "python",
   "name": "python3"
  },
  "language_info": {
   "codemirror_mode": {
    "name": "ipython",
    "version": 3
   },
   "file_extension": ".py",
   "mimetype": "text/x-python",
   "name": "python",
   "nbconvert_exporter": "python",
   "pygments_lexer": "ipython3",
   "version": "3.11.2"
  }
 },
 "nbformat": 4,
 "nbformat_minor": 5
}
